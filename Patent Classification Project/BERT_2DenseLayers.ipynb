{
  "nbformat": 4,
  "nbformat_minor": 0,
  "metadata": {
    "colab": {
      "provenance": [],
      "gpuType": "T4"
    },
    "kernelspec": {
      "name": "python3",
      "display_name": "Python 3"
    },
    "language_info": {
      "name": "python"
    },
    "accelerator": "GPU",
    "widgets": {
      "application/vnd.jupyter.widget-state+json": {
        "bf42ee71fa5d4c778a195962f29a56cf": {
          "model_module": "@jupyter-widgets/controls",
          "model_name": "HBoxModel",
          "model_module_version": "1.5.0",
          "state": {
            "_dom_classes": [],
            "_model_module": "@jupyter-widgets/controls",
            "_model_module_version": "1.5.0",
            "_model_name": "HBoxModel",
            "_view_count": null,
            "_view_module": "@jupyter-widgets/controls",
            "_view_module_version": "1.5.0",
            "_view_name": "HBoxView",
            "box_style": "",
            "children": [
              "IPY_MODEL_11343686af1b4b64a81dcf14c82247bd",
              "IPY_MODEL_ffb7084bf8ec4c87b9a2750adfa487ea",
              "IPY_MODEL_c0533bcf9a3045289df535b9ccc4f174"
            ],
            "layout": "IPY_MODEL_c1160b4f2f364227aea9e0f4117e440e"
          }
        },
        "11343686af1b4b64a81dcf14c82247bd": {
          "model_module": "@jupyter-widgets/controls",
          "model_name": "HTMLModel",
          "model_module_version": "1.5.0",
          "state": {
            "_dom_classes": [],
            "_model_module": "@jupyter-widgets/controls",
            "_model_module_version": "1.5.0",
            "_model_name": "HTMLModel",
            "_view_count": null,
            "_view_module": "@jupyter-widgets/controls",
            "_view_module_version": "1.5.0",
            "_view_name": "HTMLView",
            "description": "",
            "description_tooltip": null,
            "layout": "IPY_MODEL_eaabb96b15ae4d38af9e972755f46ca3",
            "placeholder": "​",
            "style": "IPY_MODEL_61bb4017f8b943c4af990d15c94d57a1",
            "value": "tokenizer_config.json: 100%"
          }
        },
        "ffb7084bf8ec4c87b9a2750adfa487ea": {
          "model_module": "@jupyter-widgets/controls",
          "model_name": "FloatProgressModel",
          "model_module_version": "1.5.0",
          "state": {
            "_dom_classes": [],
            "_model_module": "@jupyter-widgets/controls",
            "_model_module_version": "1.5.0",
            "_model_name": "FloatProgressModel",
            "_view_count": null,
            "_view_module": "@jupyter-widgets/controls",
            "_view_module_version": "1.5.0",
            "_view_name": "ProgressView",
            "bar_style": "success",
            "description": "",
            "description_tooltip": null,
            "layout": "IPY_MODEL_51f17b7bab2e462ba2883a36c7c6d1e4",
            "max": 29,
            "min": 0,
            "orientation": "horizontal",
            "style": "IPY_MODEL_aca7c84fb8d442fca98a2788f4dc0680",
            "value": 29
          }
        },
        "c0533bcf9a3045289df535b9ccc4f174": {
          "model_module": "@jupyter-widgets/controls",
          "model_name": "HTMLModel",
          "model_module_version": "1.5.0",
          "state": {
            "_dom_classes": [],
            "_model_module": "@jupyter-widgets/controls",
            "_model_module_version": "1.5.0",
            "_model_name": "HTMLModel",
            "_view_count": null,
            "_view_module": "@jupyter-widgets/controls",
            "_view_module_version": "1.5.0",
            "_view_name": "HTMLView",
            "description": "",
            "description_tooltip": null,
            "layout": "IPY_MODEL_4f44b32350b6444086b4ef4a00f20b19",
            "placeholder": "​",
            "style": "IPY_MODEL_cd7ae24da4bf4524b11807dc629aa0d4",
            "value": " 29.0/29.0 [00:00&lt;00:00, 938B/s]"
          }
        },
        "c1160b4f2f364227aea9e0f4117e440e": {
          "model_module": "@jupyter-widgets/base",
          "model_name": "LayoutModel",
          "model_module_version": "1.2.0",
          "state": {
            "_model_module": "@jupyter-widgets/base",
            "_model_module_version": "1.2.0",
            "_model_name": "LayoutModel",
            "_view_count": null,
            "_view_module": "@jupyter-widgets/base",
            "_view_module_version": "1.2.0",
            "_view_name": "LayoutView",
            "align_content": null,
            "align_items": null,
            "align_self": null,
            "border": null,
            "bottom": null,
            "display": null,
            "flex": null,
            "flex_flow": null,
            "grid_area": null,
            "grid_auto_columns": null,
            "grid_auto_flow": null,
            "grid_auto_rows": null,
            "grid_column": null,
            "grid_gap": null,
            "grid_row": null,
            "grid_template_areas": null,
            "grid_template_columns": null,
            "grid_template_rows": null,
            "height": null,
            "justify_content": null,
            "justify_items": null,
            "left": null,
            "margin": null,
            "max_height": null,
            "max_width": null,
            "min_height": null,
            "min_width": null,
            "object_fit": null,
            "object_position": null,
            "order": null,
            "overflow": null,
            "overflow_x": null,
            "overflow_y": null,
            "padding": null,
            "right": null,
            "top": null,
            "visibility": null,
            "width": null
          }
        },
        "eaabb96b15ae4d38af9e972755f46ca3": {
          "model_module": "@jupyter-widgets/base",
          "model_name": "LayoutModel",
          "model_module_version": "1.2.0",
          "state": {
            "_model_module": "@jupyter-widgets/base",
            "_model_module_version": "1.2.0",
            "_model_name": "LayoutModel",
            "_view_count": null,
            "_view_module": "@jupyter-widgets/base",
            "_view_module_version": "1.2.0",
            "_view_name": "LayoutView",
            "align_content": null,
            "align_items": null,
            "align_self": null,
            "border": null,
            "bottom": null,
            "display": null,
            "flex": null,
            "flex_flow": null,
            "grid_area": null,
            "grid_auto_columns": null,
            "grid_auto_flow": null,
            "grid_auto_rows": null,
            "grid_column": null,
            "grid_gap": null,
            "grid_row": null,
            "grid_template_areas": null,
            "grid_template_columns": null,
            "grid_template_rows": null,
            "height": null,
            "justify_content": null,
            "justify_items": null,
            "left": null,
            "margin": null,
            "max_height": null,
            "max_width": null,
            "min_height": null,
            "min_width": null,
            "object_fit": null,
            "object_position": null,
            "order": null,
            "overflow": null,
            "overflow_x": null,
            "overflow_y": null,
            "padding": null,
            "right": null,
            "top": null,
            "visibility": null,
            "width": null
          }
        },
        "61bb4017f8b943c4af990d15c94d57a1": {
          "model_module": "@jupyter-widgets/controls",
          "model_name": "DescriptionStyleModel",
          "model_module_version": "1.5.0",
          "state": {
            "_model_module": "@jupyter-widgets/controls",
            "_model_module_version": "1.5.0",
            "_model_name": "DescriptionStyleModel",
            "_view_count": null,
            "_view_module": "@jupyter-widgets/base",
            "_view_module_version": "1.2.0",
            "_view_name": "StyleView",
            "description_width": ""
          }
        },
        "51f17b7bab2e462ba2883a36c7c6d1e4": {
          "model_module": "@jupyter-widgets/base",
          "model_name": "LayoutModel",
          "model_module_version": "1.2.0",
          "state": {
            "_model_module": "@jupyter-widgets/base",
            "_model_module_version": "1.2.0",
            "_model_name": "LayoutModel",
            "_view_count": null,
            "_view_module": "@jupyter-widgets/base",
            "_view_module_version": "1.2.0",
            "_view_name": "LayoutView",
            "align_content": null,
            "align_items": null,
            "align_self": null,
            "border": null,
            "bottom": null,
            "display": null,
            "flex": null,
            "flex_flow": null,
            "grid_area": null,
            "grid_auto_columns": null,
            "grid_auto_flow": null,
            "grid_auto_rows": null,
            "grid_column": null,
            "grid_gap": null,
            "grid_row": null,
            "grid_template_areas": null,
            "grid_template_columns": null,
            "grid_template_rows": null,
            "height": null,
            "justify_content": null,
            "justify_items": null,
            "left": null,
            "margin": null,
            "max_height": null,
            "max_width": null,
            "min_height": null,
            "min_width": null,
            "object_fit": null,
            "object_position": null,
            "order": null,
            "overflow": null,
            "overflow_x": null,
            "overflow_y": null,
            "padding": null,
            "right": null,
            "top": null,
            "visibility": null,
            "width": null
          }
        },
        "aca7c84fb8d442fca98a2788f4dc0680": {
          "model_module": "@jupyter-widgets/controls",
          "model_name": "ProgressStyleModel",
          "model_module_version": "1.5.0",
          "state": {
            "_model_module": "@jupyter-widgets/controls",
            "_model_module_version": "1.5.0",
            "_model_name": "ProgressStyleModel",
            "_view_count": null,
            "_view_module": "@jupyter-widgets/base",
            "_view_module_version": "1.2.0",
            "_view_name": "StyleView",
            "bar_color": null,
            "description_width": ""
          }
        },
        "4f44b32350b6444086b4ef4a00f20b19": {
          "model_module": "@jupyter-widgets/base",
          "model_name": "LayoutModel",
          "model_module_version": "1.2.0",
          "state": {
            "_model_module": "@jupyter-widgets/base",
            "_model_module_version": "1.2.0",
            "_model_name": "LayoutModel",
            "_view_count": null,
            "_view_module": "@jupyter-widgets/base",
            "_view_module_version": "1.2.0",
            "_view_name": "LayoutView",
            "align_content": null,
            "align_items": null,
            "align_self": null,
            "border": null,
            "bottom": null,
            "display": null,
            "flex": null,
            "flex_flow": null,
            "grid_area": null,
            "grid_auto_columns": null,
            "grid_auto_flow": null,
            "grid_auto_rows": null,
            "grid_column": null,
            "grid_gap": null,
            "grid_row": null,
            "grid_template_areas": null,
            "grid_template_columns": null,
            "grid_template_rows": null,
            "height": null,
            "justify_content": null,
            "justify_items": null,
            "left": null,
            "margin": null,
            "max_height": null,
            "max_width": null,
            "min_height": null,
            "min_width": null,
            "object_fit": null,
            "object_position": null,
            "order": null,
            "overflow": null,
            "overflow_x": null,
            "overflow_y": null,
            "padding": null,
            "right": null,
            "top": null,
            "visibility": null,
            "width": null
          }
        },
        "cd7ae24da4bf4524b11807dc629aa0d4": {
          "model_module": "@jupyter-widgets/controls",
          "model_name": "DescriptionStyleModel",
          "model_module_version": "1.5.0",
          "state": {
            "_model_module": "@jupyter-widgets/controls",
            "_model_module_version": "1.5.0",
            "_model_name": "DescriptionStyleModel",
            "_view_count": null,
            "_view_module": "@jupyter-widgets/base",
            "_view_module_version": "1.2.0",
            "_view_name": "StyleView",
            "description_width": ""
          }
        },
        "f2c3c675f8ab4fabb9674392fa8cdfd9": {
          "model_module": "@jupyter-widgets/controls",
          "model_name": "HBoxModel",
          "model_module_version": "1.5.0",
          "state": {
            "_dom_classes": [],
            "_model_module": "@jupyter-widgets/controls",
            "_model_module_version": "1.5.0",
            "_model_name": "HBoxModel",
            "_view_count": null,
            "_view_module": "@jupyter-widgets/controls",
            "_view_module_version": "1.5.0",
            "_view_name": "HBoxView",
            "box_style": "",
            "children": [
              "IPY_MODEL_f6f5f5617a2b43c78b692664a3858f86",
              "IPY_MODEL_bce73d0751d0475ca4bdb3d6e3e4645a",
              "IPY_MODEL_f51ea334cdc6459eb131f2729a506bc4"
            ],
            "layout": "IPY_MODEL_038db93a764a4d9d92ea5a5c37ef7042"
          }
        },
        "f6f5f5617a2b43c78b692664a3858f86": {
          "model_module": "@jupyter-widgets/controls",
          "model_name": "HTMLModel",
          "model_module_version": "1.5.0",
          "state": {
            "_dom_classes": [],
            "_model_module": "@jupyter-widgets/controls",
            "_model_module_version": "1.5.0",
            "_model_name": "HTMLModel",
            "_view_count": null,
            "_view_module": "@jupyter-widgets/controls",
            "_view_module_version": "1.5.0",
            "_view_name": "HTMLView",
            "description": "",
            "description_tooltip": null,
            "layout": "IPY_MODEL_a8ff9f9174d4484483d194354155e645",
            "placeholder": "​",
            "style": "IPY_MODEL_84be68cac88f48ad924f4c0f87ce2495",
            "value": "vocab.txt: 100%"
          }
        },
        "bce73d0751d0475ca4bdb3d6e3e4645a": {
          "model_module": "@jupyter-widgets/controls",
          "model_name": "FloatProgressModel",
          "model_module_version": "1.5.0",
          "state": {
            "_dom_classes": [],
            "_model_module": "@jupyter-widgets/controls",
            "_model_module_version": "1.5.0",
            "_model_name": "FloatProgressModel",
            "_view_count": null,
            "_view_module": "@jupyter-widgets/controls",
            "_view_module_version": "1.5.0",
            "_view_name": "ProgressView",
            "bar_style": "success",
            "description": "",
            "description_tooltip": null,
            "layout": "IPY_MODEL_1f217feb90524b9d8cb3a85bf4c60651",
            "max": 213450,
            "min": 0,
            "orientation": "horizontal",
            "style": "IPY_MODEL_ebcb0734e3cc455c97eaf7c68bb02a00",
            "value": 213450
          }
        },
        "f51ea334cdc6459eb131f2729a506bc4": {
          "model_module": "@jupyter-widgets/controls",
          "model_name": "HTMLModel",
          "model_module_version": "1.5.0",
          "state": {
            "_dom_classes": [],
            "_model_module": "@jupyter-widgets/controls",
            "_model_module_version": "1.5.0",
            "_model_name": "HTMLModel",
            "_view_count": null,
            "_view_module": "@jupyter-widgets/controls",
            "_view_module_version": "1.5.0",
            "_view_name": "HTMLView",
            "description": "",
            "description_tooltip": null,
            "layout": "IPY_MODEL_37db3a1f18324b27975af82c641bce65",
            "placeholder": "​",
            "style": "IPY_MODEL_d3bfed7317d2452caac22e7abc3e213f",
            "value": " 213k/213k [00:00&lt;00:00, 1.59MB/s]"
          }
        },
        "038db93a764a4d9d92ea5a5c37ef7042": {
          "model_module": "@jupyter-widgets/base",
          "model_name": "LayoutModel",
          "model_module_version": "1.2.0",
          "state": {
            "_model_module": "@jupyter-widgets/base",
            "_model_module_version": "1.2.0",
            "_model_name": "LayoutModel",
            "_view_count": null,
            "_view_module": "@jupyter-widgets/base",
            "_view_module_version": "1.2.0",
            "_view_name": "LayoutView",
            "align_content": null,
            "align_items": null,
            "align_self": null,
            "border": null,
            "bottom": null,
            "display": null,
            "flex": null,
            "flex_flow": null,
            "grid_area": null,
            "grid_auto_columns": null,
            "grid_auto_flow": null,
            "grid_auto_rows": null,
            "grid_column": null,
            "grid_gap": null,
            "grid_row": null,
            "grid_template_areas": null,
            "grid_template_columns": null,
            "grid_template_rows": null,
            "height": null,
            "justify_content": null,
            "justify_items": null,
            "left": null,
            "margin": null,
            "max_height": null,
            "max_width": null,
            "min_height": null,
            "min_width": null,
            "object_fit": null,
            "object_position": null,
            "order": null,
            "overflow": null,
            "overflow_x": null,
            "overflow_y": null,
            "padding": null,
            "right": null,
            "top": null,
            "visibility": null,
            "width": null
          }
        },
        "a8ff9f9174d4484483d194354155e645": {
          "model_module": "@jupyter-widgets/base",
          "model_name": "LayoutModel",
          "model_module_version": "1.2.0",
          "state": {
            "_model_module": "@jupyter-widgets/base",
            "_model_module_version": "1.2.0",
            "_model_name": "LayoutModel",
            "_view_count": null,
            "_view_module": "@jupyter-widgets/base",
            "_view_module_version": "1.2.0",
            "_view_name": "LayoutView",
            "align_content": null,
            "align_items": null,
            "align_self": null,
            "border": null,
            "bottom": null,
            "display": null,
            "flex": null,
            "flex_flow": null,
            "grid_area": null,
            "grid_auto_columns": null,
            "grid_auto_flow": null,
            "grid_auto_rows": null,
            "grid_column": null,
            "grid_gap": null,
            "grid_row": null,
            "grid_template_areas": null,
            "grid_template_columns": null,
            "grid_template_rows": null,
            "height": null,
            "justify_content": null,
            "justify_items": null,
            "left": null,
            "margin": null,
            "max_height": null,
            "max_width": null,
            "min_height": null,
            "min_width": null,
            "object_fit": null,
            "object_position": null,
            "order": null,
            "overflow": null,
            "overflow_x": null,
            "overflow_y": null,
            "padding": null,
            "right": null,
            "top": null,
            "visibility": null,
            "width": null
          }
        },
        "84be68cac88f48ad924f4c0f87ce2495": {
          "model_module": "@jupyter-widgets/controls",
          "model_name": "DescriptionStyleModel",
          "model_module_version": "1.5.0",
          "state": {
            "_model_module": "@jupyter-widgets/controls",
            "_model_module_version": "1.5.0",
            "_model_name": "DescriptionStyleModel",
            "_view_count": null,
            "_view_module": "@jupyter-widgets/base",
            "_view_module_version": "1.2.0",
            "_view_name": "StyleView",
            "description_width": ""
          }
        },
        "1f217feb90524b9d8cb3a85bf4c60651": {
          "model_module": "@jupyter-widgets/base",
          "model_name": "LayoutModel",
          "model_module_version": "1.2.0",
          "state": {
            "_model_module": "@jupyter-widgets/base",
            "_model_module_version": "1.2.0",
            "_model_name": "LayoutModel",
            "_view_count": null,
            "_view_module": "@jupyter-widgets/base",
            "_view_module_version": "1.2.0",
            "_view_name": "LayoutView",
            "align_content": null,
            "align_items": null,
            "align_self": null,
            "border": null,
            "bottom": null,
            "display": null,
            "flex": null,
            "flex_flow": null,
            "grid_area": null,
            "grid_auto_columns": null,
            "grid_auto_flow": null,
            "grid_auto_rows": null,
            "grid_column": null,
            "grid_gap": null,
            "grid_row": null,
            "grid_template_areas": null,
            "grid_template_columns": null,
            "grid_template_rows": null,
            "height": null,
            "justify_content": null,
            "justify_items": null,
            "left": null,
            "margin": null,
            "max_height": null,
            "max_width": null,
            "min_height": null,
            "min_width": null,
            "object_fit": null,
            "object_position": null,
            "order": null,
            "overflow": null,
            "overflow_x": null,
            "overflow_y": null,
            "padding": null,
            "right": null,
            "top": null,
            "visibility": null,
            "width": null
          }
        },
        "ebcb0734e3cc455c97eaf7c68bb02a00": {
          "model_module": "@jupyter-widgets/controls",
          "model_name": "ProgressStyleModel",
          "model_module_version": "1.5.0",
          "state": {
            "_model_module": "@jupyter-widgets/controls",
            "_model_module_version": "1.5.0",
            "_model_name": "ProgressStyleModel",
            "_view_count": null,
            "_view_module": "@jupyter-widgets/base",
            "_view_module_version": "1.2.0",
            "_view_name": "StyleView",
            "bar_color": null,
            "description_width": ""
          }
        },
        "37db3a1f18324b27975af82c641bce65": {
          "model_module": "@jupyter-widgets/base",
          "model_name": "LayoutModel",
          "model_module_version": "1.2.0",
          "state": {
            "_model_module": "@jupyter-widgets/base",
            "_model_module_version": "1.2.0",
            "_model_name": "LayoutModel",
            "_view_count": null,
            "_view_module": "@jupyter-widgets/base",
            "_view_module_version": "1.2.0",
            "_view_name": "LayoutView",
            "align_content": null,
            "align_items": null,
            "align_self": null,
            "border": null,
            "bottom": null,
            "display": null,
            "flex": null,
            "flex_flow": null,
            "grid_area": null,
            "grid_auto_columns": null,
            "grid_auto_flow": null,
            "grid_auto_rows": null,
            "grid_column": null,
            "grid_gap": null,
            "grid_row": null,
            "grid_template_areas": null,
            "grid_template_columns": null,
            "grid_template_rows": null,
            "height": null,
            "justify_content": null,
            "justify_items": null,
            "left": null,
            "margin": null,
            "max_height": null,
            "max_width": null,
            "min_height": null,
            "min_width": null,
            "object_fit": null,
            "object_position": null,
            "order": null,
            "overflow": null,
            "overflow_x": null,
            "overflow_y": null,
            "padding": null,
            "right": null,
            "top": null,
            "visibility": null,
            "width": null
          }
        },
        "d3bfed7317d2452caac22e7abc3e213f": {
          "model_module": "@jupyter-widgets/controls",
          "model_name": "DescriptionStyleModel",
          "model_module_version": "1.5.0",
          "state": {
            "_model_module": "@jupyter-widgets/controls",
            "_model_module_version": "1.5.0",
            "_model_name": "DescriptionStyleModel",
            "_view_count": null,
            "_view_module": "@jupyter-widgets/base",
            "_view_module_version": "1.2.0",
            "_view_name": "StyleView",
            "description_width": ""
          }
        },
        "5f7a9a6b382c4feba665beb6516e5850": {
          "model_module": "@jupyter-widgets/controls",
          "model_name": "HBoxModel",
          "model_module_version": "1.5.0",
          "state": {
            "_dom_classes": [],
            "_model_module": "@jupyter-widgets/controls",
            "_model_module_version": "1.5.0",
            "_model_name": "HBoxModel",
            "_view_count": null,
            "_view_module": "@jupyter-widgets/controls",
            "_view_module_version": "1.5.0",
            "_view_name": "HBoxView",
            "box_style": "",
            "children": [
              "IPY_MODEL_34b1545b1533405f9b55c2a686d20546",
              "IPY_MODEL_9082c0ec64a54ffda3786bd57a0c1eff",
              "IPY_MODEL_590734bc0f1a426cb3a261d28c5c7e77"
            ],
            "layout": "IPY_MODEL_40fa67f2145a4c14b76adf5e083efe09"
          }
        },
        "34b1545b1533405f9b55c2a686d20546": {
          "model_module": "@jupyter-widgets/controls",
          "model_name": "HTMLModel",
          "model_module_version": "1.5.0",
          "state": {
            "_dom_classes": [],
            "_model_module": "@jupyter-widgets/controls",
            "_model_module_version": "1.5.0",
            "_model_name": "HTMLModel",
            "_view_count": null,
            "_view_module": "@jupyter-widgets/controls",
            "_view_module_version": "1.5.0",
            "_view_name": "HTMLView",
            "description": "",
            "description_tooltip": null,
            "layout": "IPY_MODEL_f22c1a4d4cb74eac9aa9208eaea14104",
            "placeholder": "​",
            "style": "IPY_MODEL_5f9e75431d02443aa486dd262d1232ae",
            "value": "tokenizer.json: 100%"
          }
        },
        "9082c0ec64a54ffda3786bd57a0c1eff": {
          "model_module": "@jupyter-widgets/controls",
          "model_name": "FloatProgressModel",
          "model_module_version": "1.5.0",
          "state": {
            "_dom_classes": [],
            "_model_module": "@jupyter-widgets/controls",
            "_model_module_version": "1.5.0",
            "_model_name": "FloatProgressModel",
            "_view_count": null,
            "_view_module": "@jupyter-widgets/controls",
            "_view_module_version": "1.5.0",
            "_view_name": "ProgressView",
            "bar_style": "success",
            "description": "",
            "description_tooltip": null,
            "layout": "IPY_MODEL_75d20f70500b4afab57b274f736b34f7",
            "max": 435797,
            "min": 0,
            "orientation": "horizontal",
            "style": "IPY_MODEL_c638b6018d90418fa760ec33c5763187",
            "value": 435797
          }
        },
        "590734bc0f1a426cb3a261d28c5c7e77": {
          "model_module": "@jupyter-widgets/controls",
          "model_name": "HTMLModel",
          "model_module_version": "1.5.0",
          "state": {
            "_dom_classes": [],
            "_model_module": "@jupyter-widgets/controls",
            "_model_module_version": "1.5.0",
            "_model_name": "HTMLModel",
            "_view_count": null,
            "_view_module": "@jupyter-widgets/controls",
            "_view_module_version": "1.5.0",
            "_view_name": "HTMLView",
            "description": "",
            "description_tooltip": null,
            "layout": "IPY_MODEL_0c0db3c2f3884e58ae1b8f1f6886788c",
            "placeholder": "​",
            "style": "IPY_MODEL_b31329a3becb41c582dc8ffa816647d5",
            "value": " 436k/436k [00:00&lt;00:00, 2.18MB/s]"
          }
        },
        "40fa67f2145a4c14b76adf5e083efe09": {
          "model_module": "@jupyter-widgets/base",
          "model_name": "LayoutModel",
          "model_module_version": "1.2.0",
          "state": {
            "_model_module": "@jupyter-widgets/base",
            "_model_module_version": "1.2.0",
            "_model_name": "LayoutModel",
            "_view_count": null,
            "_view_module": "@jupyter-widgets/base",
            "_view_module_version": "1.2.0",
            "_view_name": "LayoutView",
            "align_content": null,
            "align_items": null,
            "align_self": null,
            "border": null,
            "bottom": null,
            "display": null,
            "flex": null,
            "flex_flow": null,
            "grid_area": null,
            "grid_auto_columns": null,
            "grid_auto_flow": null,
            "grid_auto_rows": null,
            "grid_column": null,
            "grid_gap": null,
            "grid_row": null,
            "grid_template_areas": null,
            "grid_template_columns": null,
            "grid_template_rows": null,
            "height": null,
            "justify_content": null,
            "justify_items": null,
            "left": null,
            "margin": null,
            "max_height": null,
            "max_width": null,
            "min_height": null,
            "min_width": null,
            "object_fit": null,
            "object_position": null,
            "order": null,
            "overflow": null,
            "overflow_x": null,
            "overflow_y": null,
            "padding": null,
            "right": null,
            "top": null,
            "visibility": null,
            "width": null
          }
        },
        "f22c1a4d4cb74eac9aa9208eaea14104": {
          "model_module": "@jupyter-widgets/base",
          "model_name": "LayoutModel",
          "model_module_version": "1.2.0",
          "state": {
            "_model_module": "@jupyter-widgets/base",
            "_model_module_version": "1.2.0",
            "_model_name": "LayoutModel",
            "_view_count": null,
            "_view_module": "@jupyter-widgets/base",
            "_view_module_version": "1.2.0",
            "_view_name": "LayoutView",
            "align_content": null,
            "align_items": null,
            "align_self": null,
            "border": null,
            "bottom": null,
            "display": null,
            "flex": null,
            "flex_flow": null,
            "grid_area": null,
            "grid_auto_columns": null,
            "grid_auto_flow": null,
            "grid_auto_rows": null,
            "grid_column": null,
            "grid_gap": null,
            "grid_row": null,
            "grid_template_areas": null,
            "grid_template_columns": null,
            "grid_template_rows": null,
            "height": null,
            "justify_content": null,
            "justify_items": null,
            "left": null,
            "margin": null,
            "max_height": null,
            "max_width": null,
            "min_height": null,
            "min_width": null,
            "object_fit": null,
            "object_position": null,
            "order": null,
            "overflow": null,
            "overflow_x": null,
            "overflow_y": null,
            "padding": null,
            "right": null,
            "top": null,
            "visibility": null,
            "width": null
          }
        },
        "5f9e75431d02443aa486dd262d1232ae": {
          "model_module": "@jupyter-widgets/controls",
          "model_name": "DescriptionStyleModel",
          "model_module_version": "1.5.0",
          "state": {
            "_model_module": "@jupyter-widgets/controls",
            "_model_module_version": "1.5.0",
            "_model_name": "DescriptionStyleModel",
            "_view_count": null,
            "_view_module": "@jupyter-widgets/base",
            "_view_module_version": "1.2.0",
            "_view_name": "StyleView",
            "description_width": ""
          }
        },
        "75d20f70500b4afab57b274f736b34f7": {
          "model_module": "@jupyter-widgets/base",
          "model_name": "LayoutModel",
          "model_module_version": "1.2.0",
          "state": {
            "_model_module": "@jupyter-widgets/base",
            "_model_module_version": "1.2.0",
            "_model_name": "LayoutModel",
            "_view_count": null,
            "_view_module": "@jupyter-widgets/base",
            "_view_module_version": "1.2.0",
            "_view_name": "LayoutView",
            "align_content": null,
            "align_items": null,
            "align_self": null,
            "border": null,
            "bottom": null,
            "display": null,
            "flex": null,
            "flex_flow": null,
            "grid_area": null,
            "grid_auto_columns": null,
            "grid_auto_flow": null,
            "grid_auto_rows": null,
            "grid_column": null,
            "grid_gap": null,
            "grid_row": null,
            "grid_template_areas": null,
            "grid_template_columns": null,
            "grid_template_rows": null,
            "height": null,
            "justify_content": null,
            "justify_items": null,
            "left": null,
            "margin": null,
            "max_height": null,
            "max_width": null,
            "min_height": null,
            "min_width": null,
            "object_fit": null,
            "object_position": null,
            "order": null,
            "overflow": null,
            "overflow_x": null,
            "overflow_y": null,
            "padding": null,
            "right": null,
            "top": null,
            "visibility": null,
            "width": null
          }
        },
        "c638b6018d90418fa760ec33c5763187": {
          "model_module": "@jupyter-widgets/controls",
          "model_name": "ProgressStyleModel",
          "model_module_version": "1.5.0",
          "state": {
            "_model_module": "@jupyter-widgets/controls",
            "_model_module_version": "1.5.0",
            "_model_name": "ProgressStyleModel",
            "_view_count": null,
            "_view_module": "@jupyter-widgets/base",
            "_view_module_version": "1.2.0",
            "_view_name": "StyleView",
            "bar_color": null,
            "description_width": ""
          }
        },
        "0c0db3c2f3884e58ae1b8f1f6886788c": {
          "model_module": "@jupyter-widgets/base",
          "model_name": "LayoutModel",
          "model_module_version": "1.2.0",
          "state": {
            "_model_module": "@jupyter-widgets/base",
            "_model_module_version": "1.2.0",
            "_model_name": "LayoutModel",
            "_view_count": null,
            "_view_module": "@jupyter-widgets/base",
            "_view_module_version": "1.2.0",
            "_view_name": "LayoutView",
            "align_content": null,
            "align_items": null,
            "align_self": null,
            "border": null,
            "bottom": null,
            "display": null,
            "flex": null,
            "flex_flow": null,
            "grid_area": null,
            "grid_auto_columns": null,
            "grid_auto_flow": null,
            "grid_auto_rows": null,
            "grid_column": null,
            "grid_gap": null,
            "grid_row": null,
            "grid_template_areas": null,
            "grid_template_columns": null,
            "grid_template_rows": null,
            "height": null,
            "justify_content": null,
            "justify_items": null,
            "left": null,
            "margin": null,
            "max_height": null,
            "max_width": null,
            "min_height": null,
            "min_width": null,
            "object_fit": null,
            "object_position": null,
            "order": null,
            "overflow": null,
            "overflow_x": null,
            "overflow_y": null,
            "padding": null,
            "right": null,
            "top": null,
            "visibility": null,
            "width": null
          }
        },
        "b31329a3becb41c582dc8ffa816647d5": {
          "model_module": "@jupyter-widgets/controls",
          "model_name": "DescriptionStyleModel",
          "model_module_version": "1.5.0",
          "state": {
            "_model_module": "@jupyter-widgets/controls",
            "_model_module_version": "1.5.0",
            "_model_name": "DescriptionStyleModel",
            "_view_count": null,
            "_view_module": "@jupyter-widgets/base",
            "_view_module_version": "1.2.0",
            "_view_name": "StyleView",
            "description_width": ""
          }
        },
        "0567b6c762df40a9ab88392c8d545a31": {
          "model_module": "@jupyter-widgets/controls",
          "model_name": "HBoxModel",
          "model_module_version": "1.5.0",
          "state": {
            "_dom_classes": [],
            "_model_module": "@jupyter-widgets/controls",
            "_model_module_version": "1.5.0",
            "_model_name": "HBoxModel",
            "_view_count": null,
            "_view_module": "@jupyter-widgets/controls",
            "_view_module_version": "1.5.0",
            "_view_name": "HBoxView",
            "box_style": "",
            "children": [
              "IPY_MODEL_43b63abf21984707b3c6e348dcaf8992",
              "IPY_MODEL_624d2c0e1a15420a8d5cbd58feb1aeaa",
              "IPY_MODEL_8e146a78178c435b8e8c8b2e6d1a297b"
            ],
            "layout": "IPY_MODEL_fd4b415af5c5468ab2b9dd1b56d3a1f8"
          }
        },
        "43b63abf21984707b3c6e348dcaf8992": {
          "model_module": "@jupyter-widgets/controls",
          "model_name": "HTMLModel",
          "model_module_version": "1.5.0",
          "state": {
            "_dom_classes": [],
            "_model_module": "@jupyter-widgets/controls",
            "_model_module_version": "1.5.0",
            "_model_name": "HTMLModel",
            "_view_count": null,
            "_view_module": "@jupyter-widgets/controls",
            "_view_module_version": "1.5.0",
            "_view_name": "HTMLView",
            "description": "",
            "description_tooltip": null,
            "layout": "IPY_MODEL_b09bc36aa87f457b9beadbf8055e157b",
            "placeholder": "​",
            "style": "IPY_MODEL_b8ef482eb1204bd09e38be381bcd0e69",
            "value": "config.json: 100%"
          }
        },
        "624d2c0e1a15420a8d5cbd58feb1aeaa": {
          "model_module": "@jupyter-widgets/controls",
          "model_name": "FloatProgressModel",
          "model_module_version": "1.5.0",
          "state": {
            "_dom_classes": [],
            "_model_module": "@jupyter-widgets/controls",
            "_model_module_version": "1.5.0",
            "_model_name": "FloatProgressModel",
            "_view_count": null,
            "_view_module": "@jupyter-widgets/controls",
            "_view_module_version": "1.5.0",
            "_view_name": "ProgressView",
            "bar_style": "success",
            "description": "",
            "description_tooltip": null,
            "layout": "IPY_MODEL_a58138d4c43a451d9ec8a535aa54008f",
            "max": 570,
            "min": 0,
            "orientation": "horizontal",
            "style": "IPY_MODEL_9b8a62a177ee4f82b880768b11ca84f3",
            "value": 570
          }
        },
        "8e146a78178c435b8e8c8b2e6d1a297b": {
          "model_module": "@jupyter-widgets/controls",
          "model_name": "HTMLModel",
          "model_module_version": "1.5.0",
          "state": {
            "_dom_classes": [],
            "_model_module": "@jupyter-widgets/controls",
            "_model_module_version": "1.5.0",
            "_model_name": "HTMLModel",
            "_view_count": null,
            "_view_module": "@jupyter-widgets/controls",
            "_view_module_version": "1.5.0",
            "_view_name": "HTMLView",
            "description": "",
            "description_tooltip": null,
            "layout": "IPY_MODEL_ba954ca492ce49a28f701eef95401d4e",
            "placeholder": "​",
            "style": "IPY_MODEL_44a63a8e9ff945fc91720aa260bb361b",
            "value": " 570/570 [00:00&lt;00:00, 33.5kB/s]"
          }
        },
        "fd4b415af5c5468ab2b9dd1b56d3a1f8": {
          "model_module": "@jupyter-widgets/base",
          "model_name": "LayoutModel",
          "model_module_version": "1.2.0",
          "state": {
            "_model_module": "@jupyter-widgets/base",
            "_model_module_version": "1.2.0",
            "_model_name": "LayoutModel",
            "_view_count": null,
            "_view_module": "@jupyter-widgets/base",
            "_view_module_version": "1.2.0",
            "_view_name": "LayoutView",
            "align_content": null,
            "align_items": null,
            "align_self": null,
            "border": null,
            "bottom": null,
            "display": null,
            "flex": null,
            "flex_flow": null,
            "grid_area": null,
            "grid_auto_columns": null,
            "grid_auto_flow": null,
            "grid_auto_rows": null,
            "grid_column": null,
            "grid_gap": null,
            "grid_row": null,
            "grid_template_areas": null,
            "grid_template_columns": null,
            "grid_template_rows": null,
            "height": null,
            "justify_content": null,
            "justify_items": null,
            "left": null,
            "margin": null,
            "max_height": null,
            "max_width": null,
            "min_height": null,
            "min_width": null,
            "object_fit": null,
            "object_position": null,
            "order": null,
            "overflow": null,
            "overflow_x": null,
            "overflow_y": null,
            "padding": null,
            "right": null,
            "top": null,
            "visibility": null,
            "width": null
          }
        },
        "b09bc36aa87f457b9beadbf8055e157b": {
          "model_module": "@jupyter-widgets/base",
          "model_name": "LayoutModel",
          "model_module_version": "1.2.0",
          "state": {
            "_model_module": "@jupyter-widgets/base",
            "_model_module_version": "1.2.0",
            "_model_name": "LayoutModel",
            "_view_count": null,
            "_view_module": "@jupyter-widgets/base",
            "_view_module_version": "1.2.0",
            "_view_name": "LayoutView",
            "align_content": null,
            "align_items": null,
            "align_self": null,
            "border": null,
            "bottom": null,
            "display": null,
            "flex": null,
            "flex_flow": null,
            "grid_area": null,
            "grid_auto_columns": null,
            "grid_auto_flow": null,
            "grid_auto_rows": null,
            "grid_column": null,
            "grid_gap": null,
            "grid_row": null,
            "grid_template_areas": null,
            "grid_template_columns": null,
            "grid_template_rows": null,
            "height": null,
            "justify_content": null,
            "justify_items": null,
            "left": null,
            "margin": null,
            "max_height": null,
            "max_width": null,
            "min_height": null,
            "min_width": null,
            "object_fit": null,
            "object_position": null,
            "order": null,
            "overflow": null,
            "overflow_x": null,
            "overflow_y": null,
            "padding": null,
            "right": null,
            "top": null,
            "visibility": null,
            "width": null
          }
        },
        "b8ef482eb1204bd09e38be381bcd0e69": {
          "model_module": "@jupyter-widgets/controls",
          "model_name": "DescriptionStyleModel",
          "model_module_version": "1.5.0",
          "state": {
            "_model_module": "@jupyter-widgets/controls",
            "_model_module_version": "1.5.0",
            "_model_name": "DescriptionStyleModel",
            "_view_count": null,
            "_view_module": "@jupyter-widgets/base",
            "_view_module_version": "1.2.0",
            "_view_name": "StyleView",
            "description_width": ""
          }
        },
        "a58138d4c43a451d9ec8a535aa54008f": {
          "model_module": "@jupyter-widgets/base",
          "model_name": "LayoutModel",
          "model_module_version": "1.2.0",
          "state": {
            "_model_module": "@jupyter-widgets/base",
            "_model_module_version": "1.2.0",
            "_model_name": "LayoutModel",
            "_view_count": null,
            "_view_module": "@jupyter-widgets/base",
            "_view_module_version": "1.2.0",
            "_view_name": "LayoutView",
            "align_content": null,
            "align_items": null,
            "align_self": null,
            "border": null,
            "bottom": null,
            "display": null,
            "flex": null,
            "flex_flow": null,
            "grid_area": null,
            "grid_auto_columns": null,
            "grid_auto_flow": null,
            "grid_auto_rows": null,
            "grid_column": null,
            "grid_gap": null,
            "grid_row": null,
            "grid_template_areas": null,
            "grid_template_columns": null,
            "grid_template_rows": null,
            "height": null,
            "justify_content": null,
            "justify_items": null,
            "left": null,
            "margin": null,
            "max_height": null,
            "max_width": null,
            "min_height": null,
            "min_width": null,
            "object_fit": null,
            "object_position": null,
            "order": null,
            "overflow": null,
            "overflow_x": null,
            "overflow_y": null,
            "padding": null,
            "right": null,
            "top": null,
            "visibility": null,
            "width": null
          }
        },
        "9b8a62a177ee4f82b880768b11ca84f3": {
          "model_module": "@jupyter-widgets/controls",
          "model_name": "ProgressStyleModel",
          "model_module_version": "1.5.0",
          "state": {
            "_model_module": "@jupyter-widgets/controls",
            "_model_module_version": "1.5.0",
            "_model_name": "ProgressStyleModel",
            "_view_count": null,
            "_view_module": "@jupyter-widgets/base",
            "_view_module_version": "1.2.0",
            "_view_name": "StyleView",
            "bar_color": null,
            "description_width": ""
          }
        },
        "ba954ca492ce49a28f701eef95401d4e": {
          "model_module": "@jupyter-widgets/base",
          "model_name": "LayoutModel",
          "model_module_version": "1.2.0",
          "state": {
            "_model_module": "@jupyter-widgets/base",
            "_model_module_version": "1.2.0",
            "_model_name": "LayoutModel",
            "_view_count": null,
            "_view_module": "@jupyter-widgets/base",
            "_view_module_version": "1.2.0",
            "_view_name": "LayoutView",
            "align_content": null,
            "align_items": null,
            "align_self": null,
            "border": null,
            "bottom": null,
            "display": null,
            "flex": null,
            "flex_flow": null,
            "grid_area": null,
            "grid_auto_columns": null,
            "grid_auto_flow": null,
            "grid_auto_rows": null,
            "grid_column": null,
            "grid_gap": null,
            "grid_row": null,
            "grid_template_areas": null,
            "grid_template_columns": null,
            "grid_template_rows": null,
            "height": null,
            "justify_content": null,
            "justify_items": null,
            "left": null,
            "margin": null,
            "max_height": null,
            "max_width": null,
            "min_height": null,
            "min_width": null,
            "object_fit": null,
            "object_position": null,
            "order": null,
            "overflow": null,
            "overflow_x": null,
            "overflow_y": null,
            "padding": null,
            "right": null,
            "top": null,
            "visibility": null,
            "width": null
          }
        },
        "44a63a8e9ff945fc91720aa260bb361b": {
          "model_module": "@jupyter-widgets/controls",
          "model_name": "DescriptionStyleModel",
          "model_module_version": "1.5.0",
          "state": {
            "_model_module": "@jupyter-widgets/controls",
            "_model_module_version": "1.5.0",
            "_model_name": "DescriptionStyleModel",
            "_view_count": null,
            "_view_module": "@jupyter-widgets/base",
            "_view_module_version": "1.2.0",
            "_view_name": "StyleView",
            "description_width": ""
          }
        },
        "f94da65585c44a129bd737f27ec30762": {
          "model_module": "@jupyter-widgets/controls",
          "model_name": "HBoxModel",
          "model_module_version": "1.5.0",
          "state": {
            "_dom_classes": [],
            "_model_module": "@jupyter-widgets/controls",
            "_model_module_version": "1.5.0",
            "_model_name": "HBoxModel",
            "_view_count": null,
            "_view_module": "@jupyter-widgets/controls",
            "_view_module_version": "1.5.0",
            "_view_name": "HBoxView",
            "box_style": "",
            "children": [
              "IPY_MODEL_b34009abdfe34283a06652912be1de49",
              "IPY_MODEL_0f6335430b304e249417d44801b25eb8",
              "IPY_MODEL_4e10271bbe7a41b7b2fb552b8a8cdfbd"
            ],
            "layout": "IPY_MODEL_3a2e9abde2e148efb8bdc0062390646a"
          }
        },
        "b34009abdfe34283a06652912be1de49": {
          "model_module": "@jupyter-widgets/controls",
          "model_name": "HTMLModel",
          "model_module_version": "1.5.0",
          "state": {
            "_dom_classes": [],
            "_model_module": "@jupyter-widgets/controls",
            "_model_module_version": "1.5.0",
            "_model_name": "HTMLModel",
            "_view_count": null,
            "_view_module": "@jupyter-widgets/controls",
            "_view_module_version": "1.5.0",
            "_view_name": "HTMLView",
            "description": "",
            "description_tooltip": null,
            "layout": "IPY_MODEL_f7ade329691649ae8ef3e7e3201f1da4",
            "placeholder": "​",
            "style": "IPY_MODEL_a5290b27ac154a85b480c1c8270a7ec2",
            "value": "model.safetensors: 100%"
          }
        },
        "0f6335430b304e249417d44801b25eb8": {
          "model_module": "@jupyter-widgets/controls",
          "model_name": "FloatProgressModel",
          "model_module_version": "1.5.0",
          "state": {
            "_dom_classes": [],
            "_model_module": "@jupyter-widgets/controls",
            "_model_module_version": "1.5.0",
            "_model_name": "FloatProgressModel",
            "_view_count": null,
            "_view_module": "@jupyter-widgets/controls",
            "_view_module_version": "1.5.0",
            "_view_name": "ProgressView",
            "bar_style": "success",
            "description": "",
            "description_tooltip": null,
            "layout": "IPY_MODEL_74272f29fbcf46e58b405d026f6c68b7",
            "max": 435755784,
            "min": 0,
            "orientation": "horizontal",
            "style": "IPY_MODEL_efb9d81a6f474411948c5b3fcfa84661",
            "value": 435755784
          }
        },
        "4e10271bbe7a41b7b2fb552b8a8cdfbd": {
          "model_module": "@jupyter-widgets/controls",
          "model_name": "HTMLModel",
          "model_module_version": "1.5.0",
          "state": {
            "_dom_classes": [],
            "_model_module": "@jupyter-widgets/controls",
            "_model_module_version": "1.5.0",
            "_model_name": "HTMLModel",
            "_view_count": null,
            "_view_module": "@jupyter-widgets/controls",
            "_view_module_version": "1.5.0",
            "_view_name": "HTMLView",
            "description": "",
            "description_tooltip": null,
            "layout": "IPY_MODEL_32ea7173cdec447fa9e2b484066739ae",
            "placeholder": "​",
            "style": "IPY_MODEL_e04608a4372b43d69d3843573973bc0d",
            "value": " 436M/436M [00:02&lt;00:00, 221MB/s]"
          }
        },
        "3a2e9abde2e148efb8bdc0062390646a": {
          "model_module": "@jupyter-widgets/base",
          "model_name": "LayoutModel",
          "model_module_version": "1.2.0",
          "state": {
            "_model_module": "@jupyter-widgets/base",
            "_model_module_version": "1.2.0",
            "_model_name": "LayoutModel",
            "_view_count": null,
            "_view_module": "@jupyter-widgets/base",
            "_view_module_version": "1.2.0",
            "_view_name": "LayoutView",
            "align_content": null,
            "align_items": null,
            "align_self": null,
            "border": null,
            "bottom": null,
            "display": null,
            "flex": null,
            "flex_flow": null,
            "grid_area": null,
            "grid_auto_columns": null,
            "grid_auto_flow": null,
            "grid_auto_rows": null,
            "grid_column": null,
            "grid_gap": null,
            "grid_row": null,
            "grid_template_areas": null,
            "grid_template_columns": null,
            "grid_template_rows": null,
            "height": null,
            "justify_content": null,
            "justify_items": null,
            "left": null,
            "margin": null,
            "max_height": null,
            "max_width": null,
            "min_height": null,
            "min_width": null,
            "object_fit": null,
            "object_position": null,
            "order": null,
            "overflow": null,
            "overflow_x": null,
            "overflow_y": null,
            "padding": null,
            "right": null,
            "top": null,
            "visibility": null,
            "width": null
          }
        },
        "f7ade329691649ae8ef3e7e3201f1da4": {
          "model_module": "@jupyter-widgets/base",
          "model_name": "LayoutModel",
          "model_module_version": "1.2.0",
          "state": {
            "_model_module": "@jupyter-widgets/base",
            "_model_module_version": "1.2.0",
            "_model_name": "LayoutModel",
            "_view_count": null,
            "_view_module": "@jupyter-widgets/base",
            "_view_module_version": "1.2.0",
            "_view_name": "LayoutView",
            "align_content": null,
            "align_items": null,
            "align_self": null,
            "border": null,
            "bottom": null,
            "display": null,
            "flex": null,
            "flex_flow": null,
            "grid_area": null,
            "grid_auto_columns": null,
            "grid_auto_flow": null,
            "grid_auto_rows": null,
            "grid_column": null,
            "grid_gap": null,
            "grid_row": null,
            "grid_template_areas": null,
            "grid_template_columns": null,
            "grid_template_rows": null,
            "height": null,
            "justify_content": null,
            "justify_items": null,
            "left": null,
            "margin": null,
            "max_height": null,
            "max_width": null,
            "min_height": null,
            "min_width": null,
            "object_fit": null,
            "object_position": null,
            "order": null,
            "overflow": null,
            "overflow_x": null,
            "overflow_y": null,
            "padding": null,
            "right": null,
            "top": null,
            "visibility": null,
            "width": null
          }
        },
        "a5290b27ac154a85b480c1c8270a7ec2": {
          "model_module": "@jupyter-widgets/controls",
          "model_name": "DescriptionStyleModel",
          "model_module_version": "1.5.0",
          "state": {
            "_model_module": "@jupyter-widgets/controls",
            "_model_module_version": "1.5.0",
            "_model_name": "DescriptionStyleModel",
            "_view_count": null,
            "_view_module": "@jupyter-widgets/base",
            "_view_module_version": "1.2.0",
            "_view_name": "StyleView",
            "description_width": ""
          }
        },
        "74272f29fbcf46e58b405d026f6c68b7": {
          "model_module": "@jupyter-widgets/base",
          "model_name": "LayoutModel",
          "model_module_version": "1.2.0",
          "state": {
            "_model_module": "@jupyter-widgets/base",
            "_model_module_version": "1.2.0",
            "_model_name": "LayoutModel",
            "_view_count": null,
            "_view_module": "@jupyter-widgets/base",
            "_view_module_version": "1.2.0",
            "_view_name": "LayoutView",
            "align_content": null,
            "align_items": null,
            "align_self": null,
            "border": null,
            "bottom": null,
            "display": null,
            "flex": null,
            "flex_flow": null,
            "grid_area": null,
            "grid_auto_columns": null,
            "grid_auto_flow": null,
            "grid_auto_rows": null,
            "grid_column": null,
            "grid_gap": null,
            "grid_row": null,
            "grid_template_areas": null,
            "grid_template_columns": null,
            "grid_template_rows": null,
            "height": null,
            "justify_content": null,
            "justify_items": null,
            "left": null,
            "margin": null,
            "max_height": null,
            "max_width": null,
            "min_height": null,
            "min_width": null,
            "object_fit": null,
            "object_position": null,
            "order": null,
            "overflow": null,
            "overflow_x": null,
            "overflow_y": null,
            "padding": null,
            "right": null,
            "top": null,
            "visibility": null,
            "width": null
          }
        },
        "efb9d81a6f474411948c5b3fcfa84661": {
          "model_module": "@jupyter-widgets/controls",
          "model_name": "ProgressStyleModel",
          "model_module_version": "1.5.0",
          "state": {
            "_model_module": "@jupyter-widgets/controls",
            "_model_module_version": "1.5.0",
            "_model_name": "ProgressStyleModel",
            "_view_count": null,
            "_view_module": "@jupyter-widgets/base",
            "_view_module_version": "1.2.0",
            "_view_name": "StyleView",
            "bar_color": null,
            "description_width": ""
          }
        },
        "32ea7173cdec447fa9e2b484066739ae": {
          "model_module": "@jupyter-widgets/base",
          "model_name": "LayoutModel",
          "model_module_version": "1.2.0",
          "state": {
            "_model_module": "@jupyter-widgets/base",
            "_model_module_version": "1.2.0",
            "_model_name": "LayoutModel",
            "_view_count": null,
            "_view_module": "@jupyter-widgets/base",
            "_view_module_version": "1.2.0",
            "_view_name": "LayoutView",
            "align_content": null,
            "align_items": null,
            "align_self": null,
            "border": null,
            "bottom": null,
            "display": null,
            "flex": null,
            "flex_flow": null,
            "grid_area": null,
            "grid_auto_columns": null,
            "grid_auto_flow": null,
            "grid_auto_rows": null,
            "grid_column": null,
            "grid_gap": null,
            "grid_row": null,
            "grid_template_areas": null,
            "grid_template_columns": null,
            "grid_template_rows": null,
            "height": null,
            "justify_content": null,
            "justify_items": null,
            "left": null,
            "margin": null,
            "max_height": null,
            "max_width": null,
            "min_height": null,
            "min_width": null,
            "object_fit": null,
            "object_position": null,
            "order": null,
            "overflow": null,
            "overflow_x": null,
            "overflow_y": null,
            "padding": null,
            "right": null,
            "top": null,
            "visibility": null,
            "width": null
          }
        },
        "e04608a4372b43d69d3843573973bc0d": {
          "model_module": "@jupyter-widgets/controls",
          "model_name": "DescriptionStyleModel",
          "model_module_version": "1.5.0",
          "state": {
            "_model_module": "@jupyter-widgets/controls",
            "_model_module_version": "1.5.0",
            "_model_name": "DescriptionStyleModel",
            "_view_count": null,
            "_view_module": "@jupyter-widgets/base",
            "_view_module_version": "1.2.0",
            "_view_name": "StyleView",
            "description_width": ""
          }
        }
      }
    }
  },
  "cells": [
    {
      "cell_type": "code",
      "execution_count": null,
      "metadata": {
        "id": "e_GzfS0752bL"
      },
      "outputs": [],
      "source": [
        "!pip install tensorflow-datasets --quiet\n",
        "!pip install transformers --quiet\n",
        "!pip install pydot --quiet"
      ]
    },
    {
      "cell_type": "code",
      "source": [
        "!pip install datasets --quiet"
      ],
      "metadata": {
        "id": "xC4yXCCnEQb3",
        "colab": {
          "base_uri": "https://localhost:8080/"
        },
        "outputId": "afb309a0-ce51-48ee-b064-c5da1c58d507"
      },
      "execution_count": null,
      "outputs": [
        {
          "output_type": "stream",
          "name": "stdout",
          "text": [
            "\u001b[2K     \u001b[90m━━━━━━━━━━━━━━━━━━━━━━━━━━━━━━━━━━━━━━━━\u001b[0m \u001b[32m521.2/521.2 kB\u001b[0m \u001b[31m10.3 MB/s\u001b[0m eta \u001b[36m0:00:00\u001b[0m\n",
            "\u001b[2K     \u001b[90m━━━━━━━━━━━━━━━━━━━━━━━━━━━━━━━━━━━━━━━━\u001b[0m \u001b[32m115.3/115.3 kB\u001b[0m \u001b[31m14.4 MB/s\u001b[0m eta \u001b[36m0:00:00\u001b[0m\n",
            "\u001b[2K     \u001b[90m━━━━━━━━━━━━━━━━━━━━━━━━━━━━━━━━━━━━━━━━\u001b[0m \u001b[32m134.8/134.8 kB\u001b[0m \u001b[31m17.5 MB/s\u001b[0m eta \u001b[36m0:00:00\u001b[0m\n",
            "\u001b[?25h"
          ]
        }
      ]
    },
    {
      "cell_type": "code",
      "source": [
        "import numpy as np\n",
        "import tensorflow as tf\n",
        "from tensorflow import keras\n",
        "\n",
        "from tensorflow.keras.layers import Embedding, Input, Dense, Lambda\n",
        "from tensorflow.keras.models import Model\n",
        "import tensorflow.keras.backend as K\n",
        "import tensorflow_datasets as tfds\n",
        "\n",
        "import sklearn as sk\n",
        "import os\n",
        "import nltk\n",
        "from nltk.data import find\n",
        "\n",
        "import matplotlib.pyplot as plt\n",
        "\n",
        "import re\n",
        "\n",
        "# Pretty print\n",
        "from pprint import pprint\n",
        "\n",
        "# Datasets load_dataset function\n",
        "from datasets import load_dataset, load_metric, load_from_disk"
      ],
      "metadata": {
        "id": "oMJqGI-v6nuE"
      },
      "execution_count": null,
      "outputs": []
    },
    {
      "cell_type": "code",
      "source": [
        "from transformers import BertTokenizer, TFBertModel\n",
        "\n",
        "from transformers import logging\n",
        "logging.set_verbosity_error()"
      ],
      "metadata": {
        "id": "9GOGzCD897Z_"
      },
      "execution_count": null,
      "outputs": []
    },
    {
      "cell_type": "markdown",
      "source": [
        "# Dataset Acquisition"
      ],
      "metadata": {
        "id": "AtUmC9LW7gsQ"
      }
    },
    {
      "cell_type": "code",
      "source": [
        "\n",
        "def running_in_colab():\n",
        "    \"\"\"\n",
        "    Check if the Jupyter Notebook is running in Google Colab.\n",
        "\n",
        "    Returns:\n",
        "        bool: True if running in Google Colab, False otherwise.\n",
        "    \"\"\"\n",
        "    try:\n",
        "        import google.colab\n",
        "\n",
        "        return True\n",
        "    except ImportError:\n",
        "        return False"
      ],
      "metadata": {
        "id": "ieBwuF_mhIF8"
      },
      "execution_count": null,
      "outputs": []
    },
    {
      "cell_type": "code",
      "source": [
        "#mount data on drive\n",
        "\n",
        "if running_in_colab():\n",
        "    from google.colab import drive\n",
        "\n",
        "    drive.mount(\"drive\")"
      ],
      "metadata": {
        "colab": {
          "base_uri": "https://localhost:8080/"
        },
        "id": "rSGnaF6jg87g",
        "outputId": "8994c45c-a6f2-4585-b5b8-1ef41e704e5e"
      },
      "execution_count": null,
      "outputs": [
        {
          "output_type": "stream",
          "name": "stdout",
          "text": [
            "Mounted at drive\n"
          ]
        }
      ]
    },
    {
      "cell_type": "code",
      "source": [
        "# Enter path here\n",
        "train_path = '/content/drive/MyDrive/patent_data/VDB/train'\n",
        "val_path = '/content/drive/MyDrive/patent_data/VDB/val'"
      ],
      "metadata": {
        "id": "L0AWQyqNk7QR"
      },
      "execution_count": null,
      "outputs": []
    },
    {
      "cell_type": "code",
      "source": [
        "\n",
        "# Label-to-index mapping for the decision status field\n",
        "decision_to_str = {'REJECTED': 0, 'ACCEPTED': 1, 'PENDING': 2, 'CONT-REJECTED': 3, 'CONT-ACCEPTED': 4, 'CONT-PENDING': 5}\n",
        "\n",
        "# Helper function\n",
        "def map_decision_to_string(example):\n",
        "    return {'decision': decision_to_str[example['decision']]}\n",
        "\n",
        "if os.path.exists(train_path) and os.path.exists(val_path):\n",
        "  print('Train and validation sets are cached to: ')\n",
        "  pprint(train_path)\n",
        "  pprint(val_path)\n",
        "  train_set = load_from_disk(train_path)\n",
        "  val_set = load_from_disk(val_path)\n",
        "else:\n",
        "  # loading data, this is just a small set\n",
        "  dataset_dict = load_dataset('HUPD/hupd',\n",
        "                              name='all',\n",
        "                              data_files=\"https://huggingface.co/datasets/HUPD/hupd/blob/main/hupd_metadata_2022-02-22.feather\",\n",
        "                              icpr_label=None,\n",
        "                              train_filing_start_date='2015-01-01',\n",
        "                              train_filing_end_date='2016-12-31',\n",
        "                              val_filing_start_date='2017-01-01',\n",
        "                              val_filing_end_date='2017-12-31')\n",
        "\n",
        "  # Re-labeling/mapping.\n",
        "  train_set = dataset_dict['train'].map(map_decision_to_string)\n",
        "  val_set = dataset_dict['validation'].map(map_decision_to_string)\n",
        "  train_set = train_set.filter(lambda data: data[\"decision\"] <= 1)\n",
        "  val_set = val_set.filter(lambda data: data[\"decision\"] <= 1)\n",
        "  train_set = train_set.filter(lambda data: 'A61K' in data[\"ipc_label\"])\n",
        "  val_set = val_set.filter(lambda data: 'A61K' in data[\"ipc_label\"])\n",
        "  train_set.save_to_disk(train_path)\n",
        "  val_set.save_to_disk(val_path)"
      ],
      "metadata": {
        "colab": {
          "base_uri": "https://localhost:8080/"
        },
        "id": "Uvi-PmZLk7Y6",
        "outputId": "3e98d820-db5d-41e8-8cea-77ceb6602126"
      },
      "execution_count": null,
      "outputs": [
        {
          "output_type": "stream",
          "name": "stdout",
          "text": [
            "Train and validation sets are cached to: \n",
            "'/content/drive/MyDrive/patent_data/VDB/train'\n",
            "'/content/drive/MyDrive/patent_data/VDB/val'\n"
          ]
        }
      ]
    },
    {
      "cell_type": "code",
      "source": [
        "# Print info about the sizes of the train and validation sets\n",
        "print(f'Train dataset size: {train_set.shape}')\n",
        "print(f'Validation dataset size: {val_set.shape}')\n"
      ],
      "metadata": {
        "id": "5sDA-3B47nht",
        "colab": {
          "base_uri": "https://localhost:8080/"
        },
        "outputId": "875d823f-9855-42ad-c423-fad22cb3e334"
      },
      "execution_count": null,
      "outputs": [
        {
          "output_type": "stream",
          "name": "stdout",
          "text": [
            "Train dataset size: (14216, 14)\n",
            "Validation dataset size: (1351, 14)\n"
          ]
        }
      ]
    },
    {
      "cell_type": "code",
      "source": [
        "train_set[:3]"
      ],
      "metadata": {
        "colab": {
          "base_uri": "https://localhost:8080/"
        },
        "id": "1VojMTykmgb6",
        "outputId": "d8a94e09-53f7-4d03-dfb6-977788f48e9e"
      },
      "execution_count": null,
      "outputs": [
        {
          "output_type": "execute_result",
          "data": {
            "text/plain": [
              "{'patent_number': ['12598047', '13001814', '13144833'],\n",
              " 'decision': [0, 1, 0],\n",
              " 'title': ['MULTIPOTENT STEM CELLS AND USES THEREOF',\n",
              "  'Xanthine Oxidase Inhibitor And Uric Acid Production Inhibitor',\n",
              "  'ROSACEA TREATMENTS AND KITS FOR PERFORMING THEM'],\n",
              " 'abstract': ['The invention provides a quiescent stem cell having the capacity to differentiate into ectoderm, mesoderm and endoderm, and which does not express cell surface markers including MHC class I, MHC class II, CD44, CD45, CD13, CD34, CD49c, CD73, CD105 and CD90. The invention further provides a proliferative stem cell, which expresses genes including Oct-4, Nanog, Sox2, GDF3, P16INK4, BMI, Notch, HDAC4, TERT, Rex-1 and TWIST but does not express cell surface markers including MHC class I, MHC class II, CD44, CD45, CD13, CD34, CD49c, CD73, CD105 and CD90. The cells of the invention can be isolated from adult mammals, have embryonic cell characteristics, and can form embryoid bodies. Methods for obtaining the stem cells, as well as methods of treating diseases and differentiated the stem cells, are also provided.',\n",
              "  'A xanthine oxidase inhibitor and a uric acid-producing inhibitor, each containing an extract from at least one member selected from the group consisting of Zanthoxylum bungeanum, Sorghum nervosum, Cuminum cyminum, Rosa centifolia, Pimenta officinalis, Origanum majorana, Psidium guajava, Pimpinella anisum, Olea europaea, Illicium verum, Canavalia gladiata, Hyssopus officinalis, Ribes nigrum, Vaccinium myrtillus, Artemisia princeps and Haematoxylon campechianum L.',\n",
              "  'Regimen for the treatment of rosacea include the application of an anti-redness composition to at least a portion of the cleansed area of skin afflicted with rosacea. The regimen may include the application of one or more of a polymetal complex, a composition containing metronidazole, and/or a protective composition. Kits containing components useful in performing such regimens are also described.'],\n",
              " 'claims': ['1. An isolated stem cell which is capable of proliferating and differentiating into ectoderm, mesoderm, and endoderm, expresses at least one of Oct-4, Nanog, Sox-2, Rex-1, GDF-3, and Stella and does not express CD13, CD44, CD45, CD90, and CD105. 2. An isolated quiescent stem cell which is capable of proliferating and differentiating into ectoderm, mesoderm, and endoderm and does not express Oct-4, CD13, CD44, CD45, CD90, and CD105. 3. The cell of claim 1, wherein said cell further does not express at least one of MHC class I, MHC class II, CD34, CD49c, and CD73. 4. The cell of claim 1, wherein said cell is isolated from synovial fluid, blood or tissue. 5. The cell of claim 1, wherein said cell is substantially purified. 6. The cell of claim 1, wherein said cell is isolated from a mammal. 7. The cell of claim 6, wherein said cell is isolated from a human. 8. The cell of claim 1, wherein said cell is isolated from an adult mammal. 9. The cell of claim 1, comprising a heterologous nucleic acid sequence. 10. The cell of claim 9, wherein said heterologous nucleic acid sequence comprises a stem cell-specific promoter. 11. The cell of claim 10, wherein said promoter is the promoter of an embryonic transcription factor. 12. The cell of claim 11, wherein said promoter is selected from the group consisting of the Oct-4 promoter, Nanog promoter, Sox2 promoter, cMyc-2 promoter, KLF4 promoter, Rex-1 promoter, GDF-3 promoter, Stella promoter, FoxD3 promoter, Polycomb Repressor Complex 2 promoter, and CTCF promoter. 13. The cell of claim 10, wherein said promoter is operably linked to a detectable gene product. 14. The cell of claim 13, wherein said detectable gene product is GFP. 15. A population of cells wherein at least 10% of the cells are the stem cells of claim 1. 16. (canceled) 17. A composition comprising: (a) a population of cells of claim 15; and (b) a cryoprotectant, a dendritic cell or an antigen presenting cell or a committed or differentiated cell. 18-20. (canceled) 21. A method of isolating a population of stem cells, said method comprising the steps: (a) providing a bodily fluid or tissue from a subject; (b) enriching for a population of cells that are about 6 μm to 20 μm in size; and (c) depleting cells from said population expressing a stem cell surface marker or an MHC protein, thereby isolating a population of stem cells. 22-37. (canceled) 38. A method of forming a muscle cell, said method comprising culturing a stem cell of claim 1 under muscle cell differentiating conditions. 39. (canceled) 40. A method of forming a neural cell, said method comprising culturing a stem cell of claim 1 under neural cell-forming conditions. 41. (canceled) 42. A method of forming a hematopoietic cell, the method comprising culturing a stem cell of claim 1 under hematopoietic cell-forming conditions. 43. (canceled) 44. A method of forming an endothelial cell, the method comprising culturing a stem cell of claim 1 under endothelial cell-forming conditions. 45. (canceled) 46. A method of forming a hematopoietic cell, the method comprising culturing a stem cell of claim 1 under hematopoietic cell-forming conditions. 47. (canceled) 48. (canceled) 49. A method for promoting wound healing in a subject, said method comprising administering a stem cell of claim 1, or a committed or differentiated progeny thereof, to said wound or to a site near said wound in an amount sufficient to promote the healing of said wound. 50. (canceled) 51. A method for treating a cardiovascular disease in a subject, said method comprising administering to said subject a stem cell of claim 1, or a committed or differentiated progeny thereof, in an amount sufficient to treat said disease. 52. (canceled) 53. A method of increasing vascularization in a subject, said method comprising administering to said subject a stem cell of claim 1, or a committed or differentiated progeny thereof, in an amount sufficient to increase vascularization. 54. (canceled) 55. A method for treating a neurological disorder in a subject, said method comprising administering to said subject a stem cell of claim 1, or a committed or differentiated progeny thereof, in an amount sufficient to treat said disease. 56. (canceled) 57. (canceled) 58. A method for treating an autoimmune disease in a subject, said method comprising administering to said subject a stem cell of claim 1, or a committed or differentiated progeny thereof, in an amount sufficient to treat said disease. 59. A method for reducing or preventing rejection of transplanted tissue in a subject, said method comprising administering to said subject a stem cell of claim 1 or a committed or differentiated progency thereof, in an amount sufficient to reduce or prevent said rejection.',\n",
              "  '1.-10. (canceled) 11. A method of inhibiting a xanthine oxidase, inhibiting production of uric acid, inhibiting an increase in a value of blood uric acid, or improving or reducing onset probability of gout or hyperuricemia, which comprises administering an extract from at least one member selected from the group consisting of Zanthoxylum bungeanum, Sorghum nervosum, Cuminum cyminum, Rosa centifolia, Pimenta officinalis, Origanum majorana, Psidium guajava, Pimpinella anisum, Olea europaea, Illicium verum, Canavalia gladiata, Hyssopus officinalis, Ribes nigrum, Vaccinium myrtillus, Artemisia princeps and Haematoxylon campechianum L. 12. A method of improving a cardiovascular disease or reducing onset possibility of the disease, which comprises administering an extract from at least one member selected from the group consisting of Zanthoxylum bungeanum, Sorghum nervosum, Cuminum cyminum and Rosa centifolia. 13. The method of improving a cardiovascular disease or reducing onset possibility of the disease according to claim 12, wherein the cardiovascular disease is hypertension. 14. A food product or a beverage, comprising an extract from at least one member selected from the group consisting of Zanthoxylum bungeanum, Sorghum nervosum, Cuminum cyminum, Rosa centifolia, Pimenta officinalis, Origanum majorana, Psidium guajava, Pimpinella anisum, Olea europaea, Illicium verum, Canavalia gladiata, Hyssopus officinalis, Ribes nigrum, Vaccinium myrtillus, Artemisia princeps and Haematoxylon campechianum L.',\n",
              "  '1. A treatment regimen comprising: cleansing at least a portion of an area of skin afflicted with rosacea with an antimicrobial or cleanser; applying an anti-redness composition to at least a portion of the cleansed area; and applying a protective composition to at least a portion of the cleansed, and moisturized area. 2. A treatment regimen as in claim 1 further comprising the step of applying a composition containing metronidazole to at least a portion of the afflicted area. 3. A treatment regimen as in claim 1 wherein the protective composition comprises a sunscreen. 4. A treatment regimen as in claim 1 wherein the protective composition comprises a compound selected from the group consisting of ZnO, Vitamin A, Vitamin D and combinations thereof. 5. A treatment regimen as in claim 1 further comprising applying a benzoyl peroxide containing composition to at least a portion of the cleansed, and moisturized area of skin. 6. A treatment regimen as in claim 1 further comprising applying a retinoid containing composition to at least a portion of the cleansed, moisturized area of skin. 7. A treatment regimen as in claim 1 further comprising applying an antibiotic containing composition to at least a portion of the cleansed, and moisturized area of skin. 8. The treatment method of claim 1 further comprising taking an oral antibiotic after applying the protective composition. 9. A kit comprising: a outer package enclosing individual containers containing a cleanser; an anti-redness composition; and a protective composition. 10. A treatment regimen comprising: cleansing at least a portion of an area of skin afflicted with rosacea with an antimicrobial or cleanser; applying a composition containing a polymetal complex to at least a portion of the cleansed area; and applying a protective composition to at least a portion of the cleansed and polymetal complex-treated area. 11. The treatment regimen as in claim 10, further comprising applying a composition containing metronidazole to at least a portion of the afflicted area. 12. The treatment regimen as in claim 10 further comprising applying to at least a portion of the afflicted area an additional ingredient selected from the group consisting of an anti-redness composition, an anti-parasitic compound, and combinations thereof. 13. The treatment regimen of claim 12, wherein the anti parasitic product is selected from the group consisting of benzyl benzoate, salicylic acid and combinations thereof. 14. The treatment regimen as in claim 10, wherein the polymetal complex comprises a Cu/Zn malonate complex. 15. The treatment regimen as in claim 10, wherein the protective composition comprises a sunscreen. 16. The treatment regimen as in claim 10, wherein the protective composition comprises a compound selected from the group consisting of ZnO, Vitamin A, Vitamin D and combinations thereof. 17. The treatment regimen as in claim 10, further comprising applying a benzoyl peroxide containing composition to at least a portion of the cleansed, and moisturized area of skin. 18. The treatment regimen as in claim 10, further comprising applying a retinoid containing composition to at least a portion of the cleansed, moisturized area of skin. 19. The treatment regimen as in claim 10, further comprising applying an antibiotic containing composition to at least a portion of the cleansed, and moisturized area of skin. 20. The treatment method of claim 10, further comprising taking an oral antibiotic after applying the protective composition. 21. A kit comprising: a cleanser; a composition containing a polymetal complex; and a protective composition. 22. The kit as in claim 21, further comprising a composition containing an additional ingredient selected from the group consisting of metronidazole, an anti-redness composition, an antibiotic, an anti-parasitic composition and combinations thereof. 23. The kit as in claim 21, wherein the composition containing a polymetal complex is a moisturizing composition. 24. The kit as in claim 21, wherein the protective composition is a sunscreen containing vitamins A and D. 25. A method of treating skin afflicted with rosacea comprising the step of applying a redness reducing amount of a composition containing a polymetal complex to at least a portion of the afflicted area. 26. The method of claim 25, wherein the polymetal complex is a Cu/Zn malonate complex. 27. The method of claim 25, wherein the composition containing a polymetal complex further includes a moisturizer. 28. The method of claim 25, further comprising the step of cleansing at least a portion of the afflicted area. 29. The method of claim 25, wherein the cleanser is an antimicrobial cleanser. 30. The method of claim 29 wherein the antimicrobial cleanser is selected from the group consisting of chlorhexidine gluconate, triclosan, zinc pyrithione, clindamycin phosphate, sodium sulphacetamide and combinations thereof. 31. The method of claim 25 further comprising applying a protective composition to at least a portion of the afflicted area. 32. The method of claim 31 wherein the protective composition comprises a sunscreen. 33. The method of claim 31 wherein the sunscreen comprises a compound selected from the group consisting of ZnO, Vitamin A, Vitamin D and combinations thereof. 34. The method of claim of claim 25 further comprising applying an anti-parasitic product to at least a portion of the afflicted area. 35. The method of claim 34 wherein the anti-parasitic product includes a compound selected from the group consisting of benzyl benzoate, salicyclic acid and combinations thereof. 36. The method of claim 25 further comprising applying an additional an anti-acne medication to at least a portion of the afflicted area. 37. The method of claim 36 wherein the anti-acne medication is selected from the group consisting of benzoyl peroxide, retinoids, tetracycline, clindamycin, erythromycin, and combinations thereof. 38. A method of treating skin afflicted with rosacea comprising sequentially applying a cleanser, an anti-redness composition, and a protective composition to at least a portion of the afflicted area. 39. The method of claim of claim 38 further comprising applying a composition containing metronidazole to at least a portion of the afflicted area. 40. The method of claim 38 further comprising applying an anti-acne medication to at least a portion of the afflicted area. 41. The method of claim 40 wherein the anti-acne, medication is selected from the group consisting of benzoyl peroxide, retinoids, tetracycline, clindamycin, erythromycin, and combinations thereof.'],\n",
              " 'background': ['<SOH> BACKGROUND OF THE INVENTION <EOH>A stem cell is commonly defined as a cell that (i) is capable of renewing itself; and (ii) can give rise to more than one type of cell through asymmetric cell division (Watt et al., Science, 284:1427-1430, 2000). Stem cells typically give rise to a type of multipotent cell called a progenitor cell; progenitor cells, in turn, proliferate and differentiate into lineage-committed cells that populate the body. Pluripotent stem cells are thought to have the potential to differentiate into almost any cell type, while multipotent stem cells are believed to have the potential to differentiate into many cell types (Robertson, Meth. Cell Biol. 75:173, 1997; Pedersen, Reprod. Fertil. Dev. 6:543-552, 1994). Stem cells exist in many tissues of embryos and adult mammals. Many different types of mammalian stem cells have been characterized and certain stem cells have not only been isolated and characterized, but have also been cultured under conditions to allow differentiation to a limited extent. Both adult and embryonic stem cells are able to differentiate into a variety of cell types and, accordingly, may be a source of replacement cells and tissues that are damaged in the course of disease or infection, or because of congenital abnormalities (Lovell-Badge, Nature 414:88-91, 2001; Donovan et al., Nature 414:92-97, 2001). Various types of putative stem cells exist which, when differentiated into mature cells, carry out the unique functions of particular tissues, such as heart, liver, or neuronal tissue. These cells are important for the treatment of a wide variety of disorders, including malignancies, inborn effors of metabolism, hemoglobinopathies, immunodeficiencies and the replacement of damaged and diseased tissues. Recent success at transplanting such stem cells have provided new clinical tools to reconstitute and/or supplement bone marrow after myeloablation due to disease, exposure to toxic chemical and/or radiation. Further evidence exists that demonstrates that stem cells can be employed to repopulate many, if not all, tissues and restore physiologic and anatomic functionality. The application of stem cells in tissue engineering, gene therapy delivery and cell therapeutics is also advancing rapidly. Prior to the present invention, a basic problem existed, i.e., that obtaining sufficient quantities and populations of human stem cells which are capable of differentiating into most cell types was nearly impossible. Stem cells are in critically short supply. Obtaining sufficient numbers of human stem cells has been problematic for several reasons. First, isolation of normally occurring populations of stem cells in adult tissues has been technically difficult and costly due, in part, to very limited quantity found in blood or tissue. The isolation of the cells is generally laborious, involving the harvesting of cells or tissues from a patient or donor, culturing and/or propagating the cells in vitro. Certain cell types, such as nerve cells and cardiac cells, differentiate during development, and adult organisms are not known to generally replace these cells. Even in cell types that are replaced in adult organisms (e.g., epithelial cells and hematopoietic cells), it has been a significant challenge to readily and inexpensively obtain stem cells in significant quantities. For example, mammalian hematopoietic cells (e.g., lymphoid, myeloid, and erythroid cells) are all believed to be generated by a single cell type called the hematopoietic “stem cell” (Civin et al., J. Immunol. 133:157-165, 1984). However, these hematopoietic stem cells are very rare in adults, accounting for approximately 0.01% of bone marrow cells. Isolation of these cells based on surface proteins such as CD34 results in very low yields. Schemes to fractionate human hematopoietic cells into lineage committed and non-committed progenitors are technically complicated and often do not permit the recovery of a sufficient number of cells to address multilineage differentiation (Berenson et al., 1991; Terstappen et al., 1991; Brandt et al., J. Clin. Invest. 82:1017-1027, 1988; Landsdorp et al., J. Exp. Med. 175:1501-1509, 1992; Baum et al., Proc. Natl. Acad. Sci. USA 89:2804-2808, 1992) A second reason that obtaining sufficient number of human stem cells has been problematic is that procurement of these cells from embryos or fetal tissue has raised religious, ethical, and legal concerns. Alternative sources that do not require the use of cells procured from embryonic or fetal tissue are therefore highly desirably for clinical use of stem cells. Prior to the present invention, there have been few viable alternative sources of stem cells, particularly human stem cells. It would therefore be of particularly great value in treating a wide variety of diseases to have an easily accessible quantity of embryonic like stem cells that are found in the adult body that can reliably differentiate into a desired phenotype. In addition, it would also be advantageous to have stem cells that do not require feeder cells. Many adult stem cell propagation protocols require such cells, which creates risks including infection, cell fusion, and/or contamination. As such, adult stem cells are have often been very difficult to expand in culture (Reya et al., Nature 414:105-111, 2001; Tang et al. Science 291:868-871, 2001). Thus, there remains a need in the art to develop methods for identifying, propagating, and altering the state (e.g., by differentiation or dedifferentiation) of stem cells and to provide a source of cells that are transplantable to in vivo tissues in order to replace damaged or diseased tissue.',\n",
              "  '<SOH> BACKGROUND ART <EOH>Uric acid is a metabolic product originating from nucleic acids as a carrier of genetic information or ATP as a carrier of energy, and it is secreted as a final degradation product of purine compounds in mammals, etc. Regarding the mechanism of this metabolism, hypoxanthine is converted into xanthine, and then xanthine is converted into uric acid. This reaction is catalyzed by a xanthine oxidase. When an abnormality in the metabolism of purine compounds by xanthine oxidase occurs, various disorders are caused. As an example, hyperuricemia can be mentioned (Non-Patent Literature 1). In general, saturation solubility of sodium urate in blood serum is believed to be 7 mg/dL at 37° C. Thus, when the blood uric acid concentration is more than 7 mg/dL, there is a possibility that crystals of uric acid are precipitated in a human body. Accordingly, a symptom in which the blood uric acid concentration is more than 7 mg/dL is called “hyperuricemia.” In addition, the abnormality in the metabolism of purine compounds may also cause gout. When the blood uric acid concentration stays continuously high, crystals of uric acid salt accumulate within or around a joint. Due to such phenomenon, a symptom like occurrence of acute arthritis, gouty node, joint dysfunction and joint deformation, etc. is caused. Such symptom is called “gout,” which is a disorder capable of causing various complications like renal dysfunction and vascular dysfunction, etc. In addition, it is known that uric acid is a risk factor for cardiovascular diseases (Non-Patent Literatures 2 to 7) and a cardiovascular disease such as hypertension is caused by the increase in value of uric acid in blood (Non-Patent Literatures 8 to 11). Conventionally, the number of patients suffering from gout and hyperuricemia is not so high in Japan. As such, not so much attention has been paid to prevention of gout and hyperuricemia. However, in recent years, a rapid change occurs in lifestyle and the number of people who eat high calorie, high protein and high fat foods is on the rise. Furthermore, an increasing number of onset of gout is reported according to increased stress, etc. Thus, greater attention is now being paid to the prevention and amelioration of gout or hyperuricemia, which is a risk factor thereof. Until now, in order to improve or prevent hyperuricemia, gout, or a cardiovascular disease that is caused by high content value of uric acid in blood, “Probenecid (trade name)” as a uricosuric drug or “Allopurinol (trade name)” as a uric acid-producing inhibitor has been provided. However, those are problematic in that they are transient, and side effects like gastric dysfunction, rash, decrease in white blood cells, decrease in platelets, hepatic dysfunction and renal dysfunction, etc. are accompanied therewith. As such, in order to prevent or improve the disorders described above, there is a need to control or reduce the value of uric acid in blood to an appropriate level by inhibiting the production of uric acid in a living body.',\n",
              "  '<SOH> BACKGROUND <EOH>Rosacea is a chronic inflammatory disease that occurs primarily in fair skinned people. By some recent estimates rosacea afflicts 13 million Americans. It usually first appears as subtle reddening on the face. Over time this may develop into inflammation, be accompanied by skin eruptions, and in the appearance of red lines which result from swollen or damaged veins and capillary blood vessels immediately under the surface of the skin. There is no single test to determine whether someone has rosacea. The diagnosis is usually made based on a visual examination and from identifying a number of symptoms, such as: flushing or blushing that occurs easily and often and lasts longer than normal; erythema (i.e., rashes and redness on part or all of the face); burning or stinging sensations; papules, or pustules; rhinophyma; and/or telangiectasis caused as a result of capillary blood vessels in the face becoming enlarged or damaged. Symptoms are often aggravated by sun exposure, changes or extremes in temperature, wind, and consumption of certain foods (including spicy foods, caffeine & alcohol). Rosacea is generally categorized into four stages. Stage one is characterized by flushing or redness (known as erythema) that lasts for hours or days. Red lines (a condition known as telangiectases) may appear. Stages two and three, Papulopustular and Phymatous, are characterized by skin eruptions (nodules, papules pustules). Symptoms may spread from the face to other parts of the body such as the scalp, neck, and chest. Stage four, Ocular, is characterized by large nodules appearing, severe inflammation, facial pain, swelling, and burning. Rhinophyma the bulbous enlargement of the nose may also be present with some subjects. The exact cause of rosecea is still largely unknown, however the symptoms are reasonably well understood as are a variety of lifestyle factors (such as particular foods and activities) that are known to trigger outbreaks in people that have the disease. Although there is not yet a cure for rosacea, a combination of treatment of the symptoms and lifestyle changes to avoid these triggers can greatly reduce the negative impacts of rosacea. In general, the treatment is aimed at the control of redness, inflammation, and skin eruptions. Treatment is necessary to prevent permanent damage and progression of the symptoms. In more severe cases, once a diagnosis of rosacea has been made a dermatologist will prescribed a combination of oral antibiotics and the use of antibiotic gel as initial treatment. The oral antibiotics (e.g., minocycline or erythromycin) will bring the condition under control (reducing redness and the formation of papules and pustules), then the topical treatments will be used to keep the symptoms under control. Since rosacea cannot be cured it is often necessary to continue topical treatment (and modification of lifestyle factors) even after symptoms have been reduced or disappeared. In addition, laser treatments may be employed to seal the broken vessels and prevent blood flow to the surface off the skin. Alternatively, mixed intense pulse light (IPL) may be employed to treat Rosacea symptoms. Light pulse therapy works by sending light energy through the outer skin, concentrating on the dermal layer just below and attacks the problem from the inside, stimulating growth of collagen. One commercially available treatment for rosacea is Metrogel, from Galderma Laboratories, Fort Worth, Tex. USA. This product is indicated for the topical treatment of inflammatory lesions associated with rosacea and is not clinically approved for reducing redness. There is thus a continuing need for improved and effectual treatments for rosacea, especially the rapid and effective reduction in redness of the skin associated with rosacea.'],\n",
              " 'summary': [\"<SOH> SUMMARY OF THE INVENTION <EOH>A purified population of stem cells that exist in the synovial fluid and blood is disclosed. These cells are embryonic in character and prior to culture do not present the surface markers generally associated with other adult stem cells, even after days in culture. These cells also express key embryonic transcription factors within a few days of isolation, in contrast to other adult stem cells, which require longer periods of culture before such expression. Further, these cell can differentiate into all three germ layers (mesoderm, ectoderm, and endoderm) and do not form teratoma bodies in vitro. This discovery allows for a non-controversial supply of easily attainable embryonic-like stem cells. Accordingly, in one aspect, the invention features an isolated (e.g., purified or substantially purified) stem cell which is capable of proliferating and differentiating into ectoderm, mesoderm, and endoderm, expresses at least one of (e.g., at least 2, 4, 5, or 6 of) Oct-4, Nanog, Sox-2, KLF4, c-Myc, Rex-1, GDF-3, LIF receptor, and Stella, and does not express at least one of (e.g., at least 2, 3, 4, 5, 6, 7, 8, or all of) MHC class I, MHC class II, CD44, CD45, CD13, CD34, CD49c, CD66b, CD73, CD105, and CD90 cell surface proteins. In another aspect, the invention features an isolated (e.g., purified or substantially purified) quiescent stem cell which is capable of proliferating and differentiating into ectoderm, mesoderm, and endoderm and does not express Oct-4 and at least one of (e.g., at least 2, 3, 4, 5, 6, 7, 8, or all of) MHC class I, MHC class II, CD44, CD45, CD13, CD34, CD49c, CD66b, CD73, CD105, and CD90 cell surface proteins. The stem cell may be proliferative following 1, 2, 3, 4, 5, 6, 7, 8, or 10 days in culture. In either of the above two aspects, the stem cell may not express CD13, CD44, CD45, CD90, and CD105. The stem cell may be isolated from synovial fluid, blood, or other tissue. The cell of may be isolated from a human or non-human animal (e.g., any described herein). The cell may be about 6 μm to about 15 μm or to 20 μm in size. The cell may further contain a heterologous nucleic acid sequence, which may include a stem cell-specific promoter (e.g., an embryonic transcription factor promoter such as an Oct-4 promoter, Nanog promoter, Sox-2 promoter, KLF4 promoter, c-Myc promoter, Rex-1 promoter, GDF-3 promoter, Stella promoter, FoxD3 promoter, Polycomb Repressor Complex 2 promoter, and CTCF promoter). The promoter may be operably linked to a detectable gene product (e.g., a fluorescent protein such as a GFP) or any gene product, including those described herein. In another aspect the invention features a population of cells including cells of either of the previous two aspects. The population may contain at least 5%, 10%, 20%, 30%, 40%, 50%, 60%, 70%, 80%, 90%, 95%, or 99% of the cells of the previous two aspects (e.g., an embryoid body). The population may further be part of a composition including a cryoprotectant (e.g., any described herein). The population may be present with a dendritic cell or an antigen presenting cell (e.g., in a cell culture including a dendritic cell or antigen-presenting cell). In another embodiment, the population of cells may be part of a composition with other types of stem cells (e.g., any known in the art such as mesenchymal cells or embryonic stem cells) or differentiated cells (e.g., any described herein, including myocytes, adipocytes, fibromyoblasts, ectodermal cells, muscle cells, osteoblasts, chondrocytes, endothelial cells, fibroblasts, pancreatic cells, hepatocytes, bile duct cells, bone marrow cells, neural cells, and genitourinary cells. Such cells may be autologous or allogenic to the stem cells of the invention. In another aspect, the invention features a method for isolating a population of stem cells. The method includes the steps (a) providing a bodily fluid from a subject (e.g., a mammal such as a human); (b) enriching for a population of cells that are about 6 μm to 20 μm in size; and may optionally include (c) depleting cells from the population expressing stem cell surface markers or MHC proteins (e.g., any described herein), thereby isolating a population of stem cells. Step (c) may include depleting cells expressing MHC class I, CD66b, glycophorin a, or glyclophorin b, or any of the cell surface markers described herein. The subject may be administered a stem cell mobilizing agent prior to step (a) providing. The subject may be suffering from osteoarthritis. The method may further include (d) cryopreserving the cells. In another embodiment, the method further includes (d) transfecting the cells with a polynucleotide vector containing a stem cell-specific promoter (e.g., an Oct-4, Nanog, Sox-9, GDF3, Rex-1, or Sox-2 promoter, or any promoter described herein) operably linked to a reporter or selection gene; and (e) further enriching the population for the stem cells using expression of the reporter or selection gene (e.g., using flow cytometry). In another embodiment, the method further includes (d) contacting the cells with a detectable compound (e.g., carboxyfluorescein diacetate, succinimidyl ester, or Aldefluor) which enters said cells, the compound being selectively detectable in proliferating and non-proliferating cells; and (e) enriching the population of cells for the proliferating cells. In another embodiment, the method further includes culturing the cells under conditions which form embryoid bodies (e.g., those described herein). The method may further include separating (e.g., by cell depletion) cell types such as granulocytes, T-cells, B-cells, NK-cell, red blood cells, or any combination thereof, from the stem cells of the invention. The method may further include culturing the population of stem cell under conditions which support proliferation of the cells (e.g., where the culturing conditions include the presence of dendritic cells or antigen-presenting cells). In any of the embodiments of this aspect of the invention, the cells may further be cryopreserved. The invention also features a cell produced by any of the above methods. The invention also provides a method for identifying a stem cell, the method including the steps of introducing into a stem cell a vector comprising a stem cell-specific promoter coupled to at least one selectable marker gene, wherein said stem cell that does not express at least one of (e.g., at least 2, 3, 4, 5, 6, 7, 8, or all of) MHC class I, MHC class II, CD44, CD45, CD13, CD34, CD49c, CD66b, CD73, CD105, and CD90 cell surface proteins, is capable of differentiating into mesoderm, ectoderm, and endoderm; and expresses at least one embryonic transcription factor (e.g., Oct-4, Nanog, Sox-2, Rex-1, GDF-3, Stella, FoxD3, Polycomb), expressing the selectable marker gene from the stem-cell specific promoter in said stem cell; and detecting expression of the marker gene in the stem cell, thereby identifying the stem cell. The method may further comprise isolating the stem cell. The stem cell can be derived from the bodily fluid of a mammal, such as synovial fluid or blood. Preferably, the mammal is a human. In certain embodiments, the cell does not express CD13, CD44, and CD90. In various embodiments, the stem cell-specific promoter is an Oct-4 promoter, Nanog promoter, Sox-2 promoter, Rex-1 promoter, GDF-3 promoter, Stella promoter, FoxD3 promoter, Polycomb Repressor Complex 2 promoter, or CTCF promoter. In one embodiment, the stem cell-specific promoter is flanked by loxP sites. In another embodiment, the vector is a retroviral vector. In yet another embodiment, the selectable marker gene encodes a fluorescent protein, such as a Green Fluorescent Protein (GFP). In yet another embodiment, the vector comprises two selectable marker genes. In a specific embodiment, the two selectable marker genes are a fluorescent protein and a protein sensitive to drug selection. In yet another embodiment, the selectable marker gene encodes a cell surface protein. In another aspect, the invention provides a stem cell isolated by a method comprising the steps of introducing into a stem cell a vector comprising a stem cell-specific promoter coupled to at least one selectable marker gene, wherein said stem cell does not express MHC class I, MHC class II, CD44, CD45, CD13, CD34, CD49c, CD73, CD105 and CD90 cell surface proteins; expressing the selectable marker gene from the stem-cell specific promoter in said stem cell; and detecting expression of the marker gene in the stem cell. In yet another aspect, the invention provides a method for isolating proliferative stem cells from a population of mobilized cells, the method comprising the steps of introducing into a population of mobilized cells a vector comprising a stem cell-specific promoter coupled to at least one selectable marker gene, wherein said population comprises proliferative stem cells which express Oct-4, Nanog, Sox-2, Rex-1, GDF-3, and Stella, and do not express MHC class I, MHC class II, CD44, CD45, CD13, CD34, CD49c, CD73, CD105 and CD90 cell surface markers; expressing the selectable marker gene in said proliferative stem cells; detecting expression of the marker gene in said proliferative stem cells; and isolating said proliferative stem cells from the population of mobilized cells. In one embodiment, about 5% to about 30% proliferative stem cells are isolated from a population of about 500,000-12,000,000 mobilized cells without expansion in vitro. In yet another aspect, the invention provides proliferative stem cells isolated by the method comprising the steps of introducing into a population of mobilized cells a vector comprising a stem cell-specific promoter coupled to at least one selectable marker gene, wherein said population comprises proliferative stem cells which express Oct-4, Nanog, Sox-2, Rex-1, GDF-3 and Stella, and do not express MHC class I, MHC class II, CD44, CD45, CD13, CD34, CD49c, CD73, CD105 and CD90 cell surface markers; expressing the selectable marker gene in said proliferative stem cells; detecting expression of the marker gene in said proliferative stem cells. In yet another aspect, the invention provides a method of obtaining stem cells from synovial fluid, the method comprising the steps of obtaining synovial fluid from a subject optionally treated with a stem cell mobilizing agent; centrifuging the synovial fluid at about 200 g to form a first pellet of cells, thereby obtaining a population of stem cells. The method may further include any of the enrichment procedures described herein. Such methods include applying said cells to a discontinuous density gradient and centrifuging the gradient at about 500 g to form a second pellet of cells; suspending the second pellet of cells in a solution to form a suspension. The method may also include contacting the suspension with an agent that binds to an MHC class I cell surface protein; to form a binding complex between said agent and cells that express an MHC class I cell surface protein; contacting the suspension with an agent that binds to glycophorin to form a binding complex between said agent and cells that express glycophorin; and removing the binding complex from the suspension to form an MHC class I and glycophorin-depleted suspension, thereby obtaining stem cells from synovial fluid. The method may further comprise isolating proliferative stem cells from the obtained stem cells, wherein said proliferative stem cells express Oct-4, Nanog, Sox-2, Rex-1, GDF-3 and Stella, and do not express MHC class I, MHC class II, CD44, CD45, CD13, CD34, CD49c, CD73, CD105 and CD90 cell surface markers. The invention also features a stem cell isolated by this method. In yet another aspect, the invention provides a stem cell obtained from synovial fluid by a method comprising the steps of obtaining synovial fluid from a subject optionally treated with a stem cell mobilizing agent; centrifuging the synovial fluid at about 200 g to form a first pellet of cells; applying said cells to a discontinuous density gradient and centrifuging the gradient at about 500 g to form a second pellet of cells; suspending the second pellet of cells in a solution to form a suspension; contacting the suspension with an agent that binds to an MHC class I cell surface protein; to form a binding complex between said agent and cells that express an MHC class I cell surface protein; contacting the suspension with an agent that binds to glycophorin to form a binding complex between said agent and cells that express glycophorin; and removing the binding complex from the suspension to form an MHC class I and glycophorin-depleted suspension. In yet another aspect, the invention provides a method for the differentiation of a stem cell of the invention into a cell lineage of a germ layer selected from the group consisting of ectoderm, mesoderm and endoderm, and/or a specific cell type including but not limited to a neural, glial, chondroblast, osteoblast, adipocyte, hepatocyte, muscle cell (e.g., smooth muscle or skeletal muscle), cardiac cell, pancreatic cell, pulmonary cell, and endothelial cell. In yet another aspect, the invention provides a method of forming an adipocyte by culturing a stem cell of any of the previous aspects under adipocyte forming conditions (e.g., with dexamethasone, 3-isobutyl-1-methylxanthine (IBMX), insulin and indomethacin), thereby forming an adipocyte. In yet another aspect, the invention provides a method of forming a cartilage cell by culturing a stem cell of any of the previous aspects under chrondrocyte-forming conditions (e.g. with TGF-β1 and BMP-4) thereby forming a cartilage cell. In yet another aspect, the invention provides a method of forming a bone cell by culturing a stem cell of any of the previous aspects under osteoblast-forming conditions (e.g. with BMP-2) thereby forming a bone cell. In yet another aspect, the invention provides a method of forming a muscle cell by culturing a stem cell of any of the previous aspects under muscle cell-forming conditions (e.g., with PDGF and TGF-β1), thereby forming a muscle cell. In yet another aspect, the invention provides a method of forming a neural cell by culturing a stem cell of any of the previous aspects under neural cell-forming conditions (e.g., with bFGF, FGF-8, SHH and BDNF), thereby forming a neuron. In yet another aspect, the invention provides a method of forming a hepatocyte by contacting a stem cell of any of the previous aspects under hepatocyte-forming conditions (e.g., with hepatocyte growth factor (HGF) and FGF-4), thereby forming a hepatocyte. In yet another aspect, the invention provides a method of forming an endothelial cell by contacting a stem cell of any of the previous aspects under endothelial cell-forming conditions (e.g., with VEGF), thereby forming an endothelial cell. In yet another aspect, the invention provides a method of forming a hematopoietic cell by culturing a stem cell of any of the previous aspects under hematopoietic cell-forming conditions (e.g., with one or more of bone morphogenic protein-4 (BMP4), VEGF, bFGF, stem cell factor (SCF), Flt3L, hyper IL6, thrombopoietin (TPO), and erythropoietin (EPO)), thereby forming a hematopoietic cell. In any of the above differentiating methods, the method may further include transplanting the differentiated cell into a subject (e.g., a human). The invention also features the use of stem cells to treat disease. The stem cells of the invention may be used to treat any disease or condition including but not limited to those described herein. In another aspect, the invention features a method for promoting wound healing in a subject. The method includes administering a stem cell of any of the above aspects, or a committed or differentiated progeny of the stem cell, to the wound or to a site near the wound in an amount sufficient to promote the healing of the wound. The administration of the cells may result in reduced scarring at the wound site. In another aspect, the invention features a method for treating a cardiovascular disease in a subject. The method includes administering to the subject a stem cell of any of the above aspects, or a committed or differentiated progeny of the stem cell, in an amount sufficient to treat the disease (e.g., myocardial infarction, congestive heart failure, ischemic cardiomyopathy, and coronary artery disease). In another aspect, the invention features a method of increasing vascularization in a subject. The method includes administering to the subject a stem cell of any of the above aspects, or a committed or differentiated progeny of the stem cell, in an amount sufficient to increase vascularization. For example, the subject may be suffering from type II diabetes. In another aspect, the invention features a method of treating a neurological disorder or neurological damage. The method includes administering to the subject a stem cell of any of the above aspects, or a committed or differentiated progeny of the stem cell, in an amount sufficient to treat the disorder. The disorder may be a neurodegenerative disease (e.g., Parkinson's disease or any neurodegenerative disease described herein). In another aspect, the invention features a method of suppressing an immune response in a subject (e.g., a subject suffering from an autoimmune disease such as those described herein) by administering a stem cell of the invention to the subject. In another aspect, the invention features a method of treating skeletal muscle disease such as fibrosis (e.g., muscular dystrophy, such as such as Duchenne's and Becker's muscular dystrophy, and denervation atrophy), by administering a stem cell of the invention, or a differentiated progeny of the stem cell, in an amount sufficient to treat the disease. In another aspect, the invention features a method of treating an autoimmune disease (e.g., any described herein). The method includes administering to the subject a stem cell of any of the above aspects, or a committed or differentiated progeny of the stem cell, in an amount sufficient to treat the disease. In another aspect, the invention features a method of replacing or repairing bone or cartilage. The method includes administering to the subject a stem cell of any of the above aspects, or a committed or differentiated progeny of the stem cell, in an amount sufficient to partially or completely repair or replace the cartilage or bone. In any of the above treatment methods, the stem cells of the invention may be administered simultaneously with, prior to, or following administration of a differentiated cell (e.g., an autologous or allogenic cell). In any of the above treatment methods, autologous or allogenic stem cells may be administered.\",\n",
              "  '<SOH> SUMMARY OF INVENTION <EOH>An object of the present invention is to provide a xanthine oxidase inhibitor having an excellent inhibitory effect on xanthine oxidase. Another object of the present invention is to provide a uric acid-producing inhibitor having an excellent inhibitory effect on uric acid production. Further object of the present invention is to provide an agent for improving or preventing gout, hyperuricemia or a cardiovascular disease which is effective, highly safe and free of any side effect even when it is continuously used, and has an effect of improving or preventing gout, hyperuricemia or a cardiovascular disease. Yet further object of the present invention is to provide a food product or a beverage which has an inhibitory effect on xanthine oxidase, an inhibitory effect on production of uric acid and/or an effect of improving or preventing gout, hyperuricemia or a cardiovascular disease. In view of the problems described above, inventors of the present invention found that an extract from specific plant species inhibits production of uric acid which is catalyzed by xanthine oxidase and has an inhibitory effect on xanthine oxidase. The present invention was completed based on this finding. The present invention resides in a xanthine oxidase inhibitor, comprising an extract from at least one member selected from the group consisting of Zanthoxylum bungeanum, Sorghum nervosum, Cuminum cyminum, Rosa centifolia, Pimenta officinalis, Origanum majorana, Psidium guajava, Pimpinella anisum, Olea europaea, Illicium verum, Canavalia gladiata, Hyssopus officinalis, Ribes nigrum, Vaccinium myrtillus, Artemisia princeps and Haematoxylon campechianum L. Further, the present invention resides in a uric acid-producing inhibitor, comprising an extract from at least one member selected from the group consisting of Zanthoxylum bungeanum, Sorghum nervosum, Cuminum cyminum, Rosa centifolia, Pimenta officinalis, Origanum majorana, Psidium guajava, Pimpinella anisum, Olea europaea, Illicium verum, Canavalia gladiata, Hyssopus officinalis, Ribes nigrum, Vaccinium myrtillus, Artemisia princeps and Haematoxylon campechianum L. Furthermore, the present invention resides in an agent for improving or preventing gout or hyperuricemia, comprising an extract from at least one member selected from the group consisting of Zanthoxylum bungeanum, Sorghum nervosum, Cuminum cyminum, Rosa centifolia, Pimenta officinalis, Origanum majorana, Psidium guajava, Pimpinella anisum, Olea europaea, Illicium verum, Canavalia gladiata, Hyssopus officinalis, Ribes nigrum, Vaccinium myrtillus, Artemisia princeps and Haematoxylon campechianum L. Furthermore, the present invention resides in an agent for improving or preventing a cardiovascular disease, comprising an extract from at least one member selected from the group consisting of Zanthoxylum bungeanum, Sorghum nervosum, Cuminum cyminum and Rosa centifolia. Furthermore, the present invention resides in a food product or a beverage, comprising, as an effective component, an extract from at least one member selected from the group consisting of Zanthoxylum bungeanum, Sorghum nervosum, Cuminum cyminum, Rosa centifolia, Pimenta officinalis, Origanum majorana, Psidium guajava, Pimpinella anisum, Olea europaea, Illicium verum, Canavalia gladiata, Hyssopus officinalis, Ribes nigrum, Vaccinium myrtillus, Artemisia princeps and Haematoxylon campechianum L. Furthermore, the present invention resides in use of an extract from at least one member selected from the group consisting of Zanthoxylum bungeanum, Sorghum nervosum, Cuminum cyminum, Rosa centifolia, Pimenta officinalis, Origanum majorana, Psidium guajava, Pimpinella anisum, Olea europaea, verum, Canavalia gladiata, Hyssopus officinalis, Ribes nigrum, Vaccinium myrtillus, Artemisia princeps and Haematoxylon campechianum L. as a xanthine oxidase inhibitor, a uric acid-producing inhibitor, an inhibitor against increase in value of blood uric acid or a preventing agent against onset possibility of gout or hyperuricemia. Furthermore, the present invention resides in use of an extract from at least one member selected from the group consisting of Zanthoxylum bungeanum, Sorghum nervosum, Cuminum cyminum and Rosa centifolia as a preventing agent against onset possibility of a cardiovascular disease. Furthermore, the present invention resides in an extract from at least one member selected from the group consisting of Zanthoxylum bungeanum, Sorghum nervosum, Cuminum cyminum, Rosa centifolia, Pimenta officinalis, Origanum majorana, Psidium guajava, Pimpinella anisum, Olea europaea, Illicium verum, Canavalia gladiata, Hyssopus officinalis, Ribes nigrum, Vaccinium myrtillus, Artemisia princeps and Haematoxylon campechianum L. for use in the improvement or prevention of gout or hyperuricemia. Furthermore, the present invention resides in an extract from at least one member selected from the group consisting of Zanthoxylum bungeanum, Sorghum nervosum, Cuminum cyminum and Rosa centifolia for use in the improvement or prevention of a cardiovascular disease. Furthermore, the present invention resides in a method of inhibiting a xanthine oxidase, inhibiting production of uric acid, inhibiting an increase in a value of blood uric acid, or improving or reducing onset probability of gout or hyperuricemia, which comprises administering an extract from at least one member selected from the group consisting of Zanthoxylum bungeanum, Sorghum nervosum, Cuminum cyminum, Rosa centifolia, Pimenta officinalis, Origanum majorana, Psidium guajava, Pimpinella anisum, Olea europaea, Illicium verum, Canavalia gladiata, Hyssopus officinalis, Ribes nigrum, Vaccinium myrtillus, Artemisia princeps and Haematoxylon campechianum L. Still furthermore, the present invention resides in a method of improving a cardiovascular disease or reducing onset possibility of the disease, which comprises administering an extract from at least one member selected from the group consisting of Zanthoxylum bungeanum, Sorghum nervosum, Cuminum cyminum and Rosa centifolia. The xanthine oxidase inhibitor of the present invention has an excellent inhibitory effect on an activity of xanthine oxidase. Furthermore, the uric acid-producing inhibitor of the present invention has an excellent inhibitory effect on uric acid production. Furthermore, the agent for improving or preventing gout, hyperuricemia or a cardiovascular disease of the present invention is effective, highly safe and free of any side effect even when it is continuously used, and therefore has an effect of improving or preventing gout, hyperuricemia or a cardiovascular disease. Still furthermore, the food product and the beverage of the present invention have an inhibitory effect on xanthine oxidase, an inhibitory effect on production of uric acid, and/or an effect of improving or preventing gout, hyperuricemia or a cardiovascular disease. Other and further features and advantages of the invention will appear more fully from the following description, appropriately referring to the accompanying drawings.',\n",
              "  '<SOH> SUMMARY <EOH>The present disclosure provides a treatment regimen including cleansing at least a portion of an area of skin afflicted with rosacea with a cleanser; applying a composition containing metronidazole to at least a portion of the afflicted area; and applying an anti-redness composition to at least a portion of the cleansed and metronidazole-treated area. The present disclosure also includes a treatment regimen including cleansing at least a portion of an area of skin afflicted with rosacea with a cleanser; applying a composition containing metronidazole to at least a portion of the afflicted area; applying an anti-redness composition to at least a portion of the afflicted area; and applying a protective composition to at least a portion of the afflicted area. In another embodiment, the present disclosure provides a kit including an antimicrobial cleanser; a composition containing metronidazole; and an anti-redness composition. Additionally disclosed is a treatment regimen including cleansing at least a portion of an area of skin afflicted with rosacea with an antimicrobial or cleanser; applying a composition containing a polymetal complex to at least a portion of the cleansed area; and applying a protective composition to at least a portion of the cleansed, and polymetal complex-treated area. The present disclosure further includes a treatment regimen including cleansing at least a portion of an area of skin afflicted with rosacea with an antimicrobial or cleanser; applying a composition containing a polymetal complex to at least a portion of the cleansed area; and applying a protective composition to at least a portion of the cleansed, and polymetal complex-treated area. A kit is disclosed in the present disclosure. The kit includes a cleanser; a composition containing a polymetal complex; and a protective composition. detailed-description description=\"Detailed Description\" end=\"lead\"?'],\n",
              " 'description': [\"STATEMENT OF RIGHTS TO INVENTIONS MADE UNDER FEDERALLY SPONSORED RESEARCH This work was supported by NIAMS grant AR050243. The government may have certain rights in this invention. BACKGROUND OF THE INVENTION A stem cell is commonly defined as a cell that (i) is capable of renewing itself; and (ii) can give rise to more than one type of cell through asymmetric cell division (Watt et al., Science, 284:1427-1430, 2000). Stem cells typically give rise to a type of multipotent cell called a progenitor cell; progenitor cells, in turn, proliferate and differentiate into lineage-committed cells that populate the body. Pluripotent stem cells are thought to have the potential to differentiate into almost any cell type, while multipotent stem cells are believed to have the potential to differentiate into many cell types (Robertson, Meth. Cell Biol. 75:173, 1997; Pedersen, Reprod. Fertil. Dev. 6:543-552, 1994). Stem cells exist in many tissues of embryos and adult mammals. Many different types of mammalian stem cells have been characterized and certain stem cells have not only been isolated and characterized, but have also been cultured under conditions to allow differentiation to a limited extent. Both adult and embryonic stem cells are able to differentiate into a variety of cell types and, accordingly, may be a source of replacement cells and tissues that are damaged in the course of disease or infection, or because of congenital abnormalities (Lovell-Badge, Nature 414:88-91, 2001; Donovan et al., Nature 414:92-97, 2001). Various types of putative stem cells exist which, when differentiated into mature cells, carry out the unique functions of particular tissues, such as heart, liver, or neuronal tissue. These cells are important for the treatment of a wide variety of disorders, including malignancies, inborn effors of metabolism, hemoglobinopathies, immunodeficiencies and the replacement of damaged and diseased tissues. Recent success at transplanting such stem cells have provided new clinical tools to reconstitute and/or supplement bone marrow after myeloablation due to disease, exposure to toxic chemical and/or radiation. Further evidence exists that demonstrates that stem cells can be employed to repopulate many, if not all, tissues and restore physiologic and anatomic functionality. The application of stem cells in tissue engineering, gene therapy delivery and cell therapeutics is also advancing rapidly. Prior to the present invention, a basic problem existed, i.e., that obtaining sufficient quantities and populations of human stem cells which are capable of differentiating into most cell types was nearly impossible. Stem cells are in critically short supply. Obtaining sufficient numbers of human stem cells has been problematic for several reasons. First, isolation of normally occurring populations of stem cells in adult tissues has been technically difficult and costly due, in part, to very limited quantity found in blood or tissue. The isolation of the cells is generally laborious, involving the harvesting of cells or tissues from a patient or donor, culturing and/or propagating the cells in vitro. Certain cell types, such as nerve cells and cardiac cells, differentiate during development, and adult organisms are not known to generally replace these cells. Even in cell types that are replaced in adult organisms (e.g., epithelial cells and hematopoietic cells), it has been a significant challenge to readily and inexpensively obtain stem cells in significant quantities. For example, mammalian hematopoietic cells (e.g., lymphoid, myeloid, and erythroid cells) are all believed to be generated by a single cell type called the hematopoietic “stem cell” (Civin et al., J. Immunol. 133:157-165, 1984). However, these hematopoietic stem cells are very rare in adults, accounting for approximately 0.01% of bone marrow cells. Isolation of these cells based on surface proteins such as CD34 results in very low yields. Schemes to fractionate human hematopoietic cells into lineage committed and non-committed progenitors are technically complicated and often do not permit the recovery of a sufficient number of cells to address multilineage differentiation (Berenson et al., 1991; Terstappen et al., 1991; Brandt et al., J. Clin. Invest. 82:1017-1027, 1988; Landsdorp et al., J. Exp. Med. 175:1501-1509, 1992; Baum et al., Proc. Natl. Acad. Sci. USA 89:2804-2808, 1992) A second reason that obtaining sufficient number of human stem cells has been problematic is that procurement of these cells from embryos or fetal tissue has raised religious, ethical, and legal concerns. Alternative sources that do not require the use of cells procured from embryonic or fetal tissue are therefore highly desirably for clinical use of stem cells. Prior to the present invention, there have been few viable alternative sources of stem cells, particularly human stem cells. It would therefore be of particularly great value in treating a wide variety of diseases to have an easily accessible quantity of embryonic like stem cells that are found in the adult body that can reliably differentiate into a desired phenotype. In addition, it would also be advantageous to have stem cells that do not require feeder cells. Many adult stem cell propagation protocols require such cells, which creates risks including infection, cell fusion, and/or contamination. As such, adult stem cells are have often been very difficult to expand in culture (Reya et al., Nature 414:105-111, 2001; Tang et al. Science 291:868-871, 2001). Thus, there remains a need in the art to develop methods for identifying, propagating, and altering the state (e.g., by differentiation or dedifferentiation) of stem cells and to provide a source of cells that are transplantable to in vivo tissues in order to replace damaged or diseased tissue. SUMMARY OF THE INVENTION A purified population of stem cells that exist in the synovial fluid and blood is disclosed. These cells are embryonic in character and prior to culture do not present the surface markers generally associated with other adult stem cells, even after days in culture. These cells also express key embryonic transcription factors within a few days of isolation, in contrast to other adult stem cells, which require longer periods of culture before such expression. Further, these cell can differentiate into all three germ layers (mesoderm, ectoderm, and endoderm) and do not form teratoma bodies in vitro. This discovery allows for a non-controversial supply of easily attainable embryonic-like stem cells. Accordingly, in one aspect, the invention features an isolated (e.g., purified or substantially purified) stem cell which is capable of proliferating and differentiating into ectoderm, mesoderm, and endoderm, expresses at least one of (e.g., at least 2, 4, 5, or 6 of) Oct-4, Nanog, Sox-2, KLF4, c-Myc, Rex-1, GDF-3, LIF receptor, and Stella, and does not express at least one of (e.g., at least 2, 3, 4, 5, 6, 7, 8, or all of) MHC class I, MHC class II, CD44, CD45, CD13, CD34, CD49c, CD66b, CD73, CD105, and CD90 cell surface proteins. In another aspect, the invention features an isolated (e.g., purified or substantially purified) quiescent stem cell which is capable of proliferating and differentiating into ectoderm, mesoderm, and endoderm and does not express Oct-4 and at least one of (e.g., at least 2, 3, 4, 5, 6, 7, 8, or all of) MHC class I, MHC class II, CD44, CD45, CD13, CD34, CD49c, CD66b, CD73, CD105, and CD90 cell surface proteins. The stem cell may be proliferative following 1, 2, 3, 4, 5, 6, 7, 8, or 10 days in culture. In either of the above two aspects, the stem cell may not express CD13, CD44, CD45, CD90, and CD105. The stem cell may be isolated from synovial fluid, blood, or other tissue. The cell of may be isolated from a human or non-human animal (e.g., any described herein). The cell may be about 6 μm to about 15 μm or to 20 μm in size. The cell may further contain a heterologous nucleic acid sequence, which may include a stem cell-specific promoter (e.g., an embryonic transcription factor promoter such as an Oct-4 promoter, Nanog promoter, Sox-2 promoter, KLF4 promoter, c-Myc promoter, Rex-1 promoter, GDF-3 promoter, Stella promoter, FoxD3 promoter, Polycomb Repressor Complex 2 promoter, and CTCF promoter). The promoter may be operably linked to a detectable gene product (e.g., a fluorescent protein such as a GFP) or any gene product, including those described herein. In another aspect the invention features a population of cells including cells of either of the previous two aspects. The population may contain at least 5%, 10%, 20%, 30%, 40%, 50%, 60%, 70%, 80%, 90%, 95%, or 99% of the cells of the previous two aspects (e.g., an embryoid body). The population may further be part of a composition including a cryoprotectant (e.g., any described herein). The population may be present with a dendritic cell or an antigen presenting cell (e.g., in a cell culture including a dendritic cell or antigen-presenting cell). In another embodiment, the population of cells may be part of a composition with other types of stem cells (e.g., any known in the art such as mesenchymal cells or embryonic stem cells) or differentiated cells (e.g., any described herein, including myocytes, adipocytes, fibromyoblasts, ectodermal cells, muscle cells, osteoblasts, chondrocytes, endothelial cells, fibroblasts, pancreatic cells, hepatocytes, bile duct cells, bone marrow cells, neural cells, and genitourinary cells. Such cells may be autologous or allogenic to the stem cells of the invention. In another aspect, the invention features a method for isolating a population of stem cells. The method includes the steps (a) providing a bodily fluid from a subject (e.g., a mammal such as a human); (b) enriching for a population of cells that are about 6 μm to 20 μm in size; and may optionally include (c) depleting cells from the population expressing stem cell surface markers or MHC proteins (e.g., any described herein), thereby isolating a population of stem cells. Step (c) may include depleting cells expressing MHC class I, CD66b, glycophorin a, or glyclophorin b, or any of the cell surface markers described herein. The subject may be administered a stem cell mobilizing agent prior to step (a) providing. The subject may be suffering from osteoarthritis. The method may further include (d) cryopreserving the cells. In another embodiment, the method further includes (d) transfecting the cells with a polynucleotide vector containing a stem cell-specific promoter (e.g., an Oct-4, Nanog, Sox-9, GDF3, Rex-1, or Sox-2 promoter, or any promoter described herein) operably linked to a reporter or selection gene; and (e) further enriching the population for the stem cells using expression of the reporter or selection gene (e.g., using flow cytometry). In another embodiment, the method further includes (d) contacting the cells with a detectable compound (e.g., carboxyfluorescein diacetate, succinimidyl ester, or Aldefluor) which enters said cells, the compound being selectively detectable in proliferating and non-proliferating cells; and (e) enriching the population of cells for the proliferating cells. In another embodiment, the method further includes culturing the cells under conditions which form embryoid bodies (e.g., those described herein). The method may further include separating (e.g., by cell depletion) cell types such as granulocytes, T-cells, B-cells, NK-cell, red blood cells, or any combination thereof, from the stem cells of the invention. The method may further include culturing the population of stem cell under conditions which support proliferation of the cells (e.g., where the culturing conditions include the presence of dendritic cells or antigen-presenting cells). In any of the embodiments of this aspect of the invention, the cells may further be cryopreserved. The invention also features a cell produced by any of the above methods. The invention also provides a method for identifying a stem cell, the method including the steps of introducing into a stem cell a vector comprising a stem cell-specific promoter coupled to at least one selectable marker gene, wherein said stem cell that does not express at least one of (e.g., at least 2, 3, 4, 5, 6, 7, 8, or all of) MHC class I, MHC class II, CD44, CD45, CD13, CD34, CD49c, CD66b, CD73, CD105, and CD90 cell surface proteins, is capable of differentiating into mesoderm, ectoderm, and endoderm; and expresses at least one embryonic transcription factor (e.g., Oct-4, Nanog, Sox-2, Rex-1, GDF-3, Stella, FoxD3, Polycomb), expressing the selectable marker gene from the stem-cell specific promoter in said stem cell; and detecting expression of the marker gene in the stem cell, thereby identifying the stem cell. The method may further comprise isolating the stem cell. The stem cell can be derived from the bodily fluid of a mammal, such as synovial fluid or blood. Preferably, the mammal is a human. In certain embodiments, the cell does not express CD13, CD44, and CD90. In various embodiments, the stem cell-specific promoter is an Oct-4 promoter, Nanog promoter, Sox-2 promoter, Rex-1 promoter, GDF-3 promoter, Stella promoter, FoxD3 promoter, Polycomb Repressor Complex 2 promoter, or CTCF promoter. In one embodiment, the stem cell-specific promoter is flanked by loxP sites. In another embodiment, the vector is a retroviral vector. In yet another embodiment, the selectable marker gene encodes a fluorescent protein, such as a Green Fluorescent Protein (GFP). In yet another embodiment, the vector comprises two selectable marker genes. In a specific embodiment, the two selectable marker genes are a fluorescent protein and a protein sensitive to drug selection. In yet another embodiment, the selectable marker gene encodes a cell surface protein. In another aspect, the invention provides a stem cell isolated by a method comprising the steps of introducing into a stem cell a vector comprising a stem cell-specific promoter coupled to at least one selectable marker gene, wherein said stem cell does not express MHC class I, MHC class II, CD44, CD45, CD13, CD34, CD49c, CD73, CD105 and CD90 cell surface proteins; expressing the selectable marker gene from the stem-cell specific promoter in said stem cell; and detecting expression of the marker gene in the stem cell. In yet another aspect, the invention provides a method for isolating proliferative stem cells from a population of mobilized cells, the method comprising the steps of introducing into a population of mobilized cells a vector comprising a stem cell-specific promoter coupled to at least one selectable marker gene, wherein said population comprises proliferative stem cells which express Oct-4, Nanog, Sox-2, Rex-1, GDF-3, and Stella, and do not express MHC class I, MHC class II, CD44, CD45, CD13, CD34, CD49c, CD73, CD105 and CD90 cell surface markers; expressing the selectable marker gene in said proliferative stem cells; detecting expression of the marker gene in said proliferative stem cells; and isolating said proliferative stem cells from the population of mobilized cells. In one embodiment, about 5% to about 30% proliferative stem cells are isolated from a population of about 500,000-12,000,000 mobilized cells without expansion in vitro. In yet another aspect, the invention provides proliferative stem cells isolated by the method comprising the steps of introducing into a population of mobilized cells a vector comprising a stem cell-specific promoter coupled to at least one selectable marker gene, wherein said population comprises proliferative stem cells which express Oct-4, Nanog, Sox-2, Rex-1, GDF-3 and Stella, and do not express MHC class I, MHC class II, CD44, CD45, CD13, CD34, CD49c, CD73, CD105 and CD90 cell surface markers; expressing the selectable marker gene in said proliferative stem cells; detecting expression of the marker gene in said proliferative stem cells. In yet another aspect, the invention provides a method of obtaining stem cells from synovial fluid, the method comprising the steps of obtaining synovial fluid from a subject optionally treated with a stem cell mobilizing agent; centrifuging the synovial fluid at about 200 g to form a first pellet of cells, thereby obtaining a population of stem cells. The method may further include any of the enrichment procedures described herein. Such methods include applying said cells to a discontinuous density gradient and centrifuging the gradient at about 500 g to form a second pellet of cells; suspending the second pellet of cells in a solution to form a suspension. The method may also include contacting the suspension with an agent that binds to an MHC class I cell surface protein; to form a binding complex between said agent and cells that express an MHC class I cell surface protein; contacting the suspension with an agent that binds to glycophorin to form a binding complex between said agent and cells that express glycophorin; and removing the binding complex from the suspension to form an MHC class I and glycophorin-depleted suspension, thereby obtaining stem cells from synovial fluid. The method may further comprise isolating proliferative stem cells from the obtained stem cells, wherein said proliferative stem cells express Oct-4, Nanog, Sox-2, Rex-1, GDF-3 and Stella, and do not express MHC class I, MHC class II, CD44, CD45, CD13, CD34, CD49c, CD73, CD105 and CD90 cell surface markers. The invention also features a stem cell isolated by this method. In yet another aspect, the invention provides a stem cell obtained from synovial fluid by a method comprising the steps of obtaining synovial fluid from a subject optionally treated with a stem cell mobilizing agent; centrifuging the synovial fluid at about 200 g to form a first pellet of cells; applying said cells to a discontinuous density gradient and centrifuging the gradient at about 500 g to form a second pellet of cells; suspending the second pellet of cells in a solution to form a suspension; contacting the suspension with an agent that binds to an MHC class I cell surface protein; to form a binding complex between said agent and cells that express an MHC class I cell surface protein; contacting the suspension with an agent that binds to glycophorin to form a binding complex between said agent and cells that express glycophorin; and removing the binding complex from the suspension to form an MHC class I and glycophorin-depleted suspension. In yet another aspect, the invention provides a method for the differentiation of a stem cell of the invention into a cell lineage of a germ layer selected from the group consisting of ectoderm, mesoderm and endoderm, and/or a specific cell type including but not limited to a neural, glial, chondroblast, osteoblast, adipocyte, hepatocyte, muscle cell (e.g., smooth muscle or skeletal muscle), cardiac cell, pancreatic cell, pulmonary cell, and endothelial cell. In yet another aspect, the invention provides a method of forming an adipocyte by culturing a stem cell of any of the previous aspects under adipocyte forming conditions (e.g., with dexamethasone, 3-isobutyl-1-methylxanthine (IBMX), insulin and indomethacin), thereby forming an adipocyte. In yet another aspect, the invention provides a method of forming a cartilage cell by culturing a stem cell of any of the previous aspects under chrondrocyte-forming conditions (e.g. with TGF-β1 and BMP-4) thereby forming a cartilage cell. In yet another aspect, the invention provides a method of forming a bone cell by culturing a stem cell of any of the previous aspects under osteoblast-forming conditions (e.g. with BMP-2) thereby forming a bone cell. In yet another aspect, the invention provides a method of forming a muscle cell by culturing a stem cell of any of the previous aspects under muscle cell-forming conditions (e.g., with PDGF and TGF-β1), thereby forming a muscle cell. In yet another aspect, the invention provides a method of forming a neural cell by culturing a stem cell of any of the previous aspects under neural cell-forming conditions (e.g., with bFGF, FGF-8, SHH and BDNF), thereby forming a neuron. In yet another aspect, the invention provides a method of forming a hepatocyte by contacting a stem cell of any of the previous aspects under hepatocyte-forming conditions (e.g., with hepatocyte growth factor (HGF) and FGF-4), thereby forming a hepatocyte. In yet another aspect, the invention provides a method of forming an endothelial cell by contacting a stem cell of any of the previous aspects under endothelial cell-forming conditions (e.g., with VEGF), thereby forming an endothelial cell. In yet another aspect, the invention provides a method of forming a hematopoietic cell by culturing a stem cell of any of the previous aspects under hematopoietic cell-forming conditions (e.g., with one or more of bone morphogenic protein-4 (BMP4), VEGF, bFGF, stem cell factor (SCF), Flt3L, hyper IL6, thrombopoietin (TPO), and erythropoietin (EPO)), thereby forming a hematopoietic cell. In any of the above differentiating methods, the method may further include transplanting the differentiated cell into a subject (e.g., a human). The invention also features the use of stem cells to treat disease. The stem cells of the invention may be used to treat any disease or condition including but not limited to those described herein. In another aspect, the invention features a method for promoting wound healing in a subject. The method includes administering a stem cell of any of the above aspects, or a committed or differentiated progeny of the stem cell, to the wound or to a site near the wound in an amount sufficient to promote the healing of the wound. The administration of the cells may result in reduced scarring at the wound site. In another aspect, the invention features a method for treating a cardiovascular disease in a subject. The method includes administering to the subject a stem cell of any of the above aspects, or a committed or differentiated progeny of the stem cell, in an amount sufficient to treat the disease (e.g., myocardial infarction, congestive heart failure, ischemic cardiomyopathy, and coronary artery disease). In another aspect, the invention features a method of increasing vascularization in a subject. The method includes administering to the subject a stem cell of any of the above aspects, or a committed or differentiated progeny of the stem cell, in an amount sufficient to increase vascularization. For example, the subject may be suffering from type II diabetes. In another aspect, the invention features a method of treating a neurological disorder or neurological damage. The method includes administering to the subject a stem cell of any of the above aspects, or a committed or differentiated progeny of the stem cell, in an amount sufficient to treat the disorder. The disorder may be a neurodegenerative disease (e.g., Parkinson's disease or any neurodegenerative disease described herein). In another aspect, the invention features a method of suppressing an immune response in a subject (e.g., a subject suffering from an autoimmune disease such as those described herein) by administering a stem cell of the invention to the subject. In another aspect, the invention features a method of treating skeletal muscle disease such as fibrosis (e.g., muscular dystrophy, such as such as Duchenne's and Becker's muscular dystrophy, and denervation atrophy), by administering a stem cell of the invention, or a differentiated progeny of the stem cell, in an amount sufficient to treat the disease. In another aspect, the invention features a method of treating an autoimmune disease (e.g., any described herein). The method includes administering to the subject a stem cell of any of the above aspects, or a committed or differentiated progeny of the stem cell, in an amount sufficient to treat the disease. In another aspect, the invention features a method of replacing or repairing bone or cartilage. The method includes administering to the subject a stem cell of any of the above aspects, or a committed or differentiated progeny of the stem cell, in an amount sufficient to partially or completely repair or replace the cartilage or bone. In any of the above treatment methods, the stem cells of the invention may be administered simultaneously with, prior to, or following administration of a differentiated cell (e.g., an autologous or allogenic cell). In any of the above treatment methods, autologous or allogenic stem cells may be administered. BRIEF DESCRIPTION OF THE FIGURES FIGS. 1a-1e show dot plots of undifferentiated stem cells of the invention. The freshly isolated stem cells were sorted into 3 groups as shown, Groups A, B, and C, and analyzed for Oct-4, Rex-1, Runx2, Sox-9, Nanog, Class I, CD44, and CD45 expression. FIG. 1a shows forward and side scatter of synovial fluid mononuclear cells. FIG. 1b shows Group A cell surface profile: small size and side scatter. FIG. 1c shows group B cell surface profile: medium size and small side scatter. FIG. 1d shows group C cell surface profile: large size and small side scatter. FIG. 1e shows a comparison of Class-I and CD44 expression in Groups A, B, and C. FIG. 2 shows the expression of embryonic stem cell genes: Nanog, Oct-4, Rex-1 and Sox-2. FIG. 3 shows expansion and proliferative capacity of undifferentiated stem cells of the invention. FIG. 3a depicts a low-power light microscopic view of cell morphology after culture for 3 days, 6 days, and 9 days. In FIG. 3b, freshly isolated stem cells were pulsed with CFSE and the percent positive was assessed after 6 days; the white bar region represents the percentage of highly proliferative stem cells, the stripped bar region represents the percentage of moderately proliferative stem cells, and black bar region represents the percentage of nonproliferative stem cells. FIG. 4 shows differentiation of stem cells into osteoblasts, adipocytes, and a neuron. FIG. 5 shows expression of osteoblast- or adipocyte-specific genes. FIG. 6 shows a slide dot plot of the Oct-4 intercellular stain. FIGS. 7a-7d show an example of stem cells transduced with Lenti-Oct-4 GFP (3.5 kb Oct 4 promoter) or Lenti-Nanog-GFP (2.5 kb Nanog promoter). Freshly isolated stem cells were sorted as previously described, pulsed with 107-108 viral particles per ml, and assessed for fluorescence daily. FIG. 7a shows a stem cell aggregate 3 days after transduction, low (left panel) and high (right panel). FIG. 7b shows a stem cell aggregate 4 days after transduction, at low (left), medium (middle), and high (right) magnifications. FIG. 7c shows a stem cell aggregate 9 days after transduction, at low (left) and high (right) magnifications. FIG. 7d shows a stem cell aggregate 5 days after transduction, at low (left), medium (middle), and high (right) magnifications. FIGS. 8a-8c are maps of the lentiviral vector for the stem cell expression. FIG. 8a shows H2B-EGFP, and FIG. 8b shows GFP-ZEOCIN in human adult stem cells. FIG. 8c is a map of the lentiviral vector for the stem-cell specific expression of a master regulator gene and IRES-EGFP in human adult stem cells. FIGS. 9a and 9b show co-transducible lentiviral vectors. FIG. 9a shows a co-transducible lentiviral vector system for the tetracycline-inducible and stem/lineage progenitor cell-specific expression of a master regulator gene and IRES EYFP in human adult stem cells. FIG. 9b shows a co-transducible lentiviral vector system for the tetracycline-inducible expression of a TAT-HA master regulator fusion gene construct and IRES EYPF in human feeder cells or human embryonic stem cells or derivatives of human embryonic stem cells. FIGS. 10a-10c show lentiviral transduction and FACS (FIG. 10a) or ZEOCIN (FIG. 10b) selection of human adult stem cells. FIG. 10c shows expression of master genes in human adult stem cells. FIGS. 11a and 11b show tetracycline-inducible and stem/lineage progenitor cell-specific expression of master gene(s) (FIG. 11a) or TAT-HA-master gene (FIG. 11b) constructs in human adult stem cells and/or human adult stem/cell lineage progenitor cells and co-culture with human adult stem cells. FIGS. 12a and 12b shows schema for the generation of transgenic mice. FIG. 12a shows generation of humanized rTtA transgenic mice for the in vivo expansion of repopulating human cell lineage-specific progenitor/stem cells. FIG. 12b shows generation of humanized cre transgenic mice for the in vivo expansion of repopulating human cell-lineage specific progenitor/stem cells. DETAILED DESCRIPTION OF THE INVENTION As used herein, a “stem cell” is a multipotent or pluripotent cell that (i) is capable of self-renewal; and (ii) can give rise to more than one type of cell through asymmetric cell division. The term “self renewal” as used herein, refers to the process by which a stem cell divides to generate one (asymmetric division) or two (symmetric division) daughter cells having development potential indistinguishable from the mother cell. Self renewal involves both proliferation and the maintenance of an undifferentiated state. As used herein, a “proliferative stem cell” refers to a stem cell that is rapidly dividing, for example, at a rate of one division every 12, 18, 24, 36, or 48 hours. As used herein, a “quiescent stem cell” refers to a stem cell that is not dividing and is in the Gap0 (G0) phase of the cell cycle. A “quiescent stem cell” expresses genes responsible for sustaining an epigenetic state of silence, which refers to a state in which the cellular chromatin is organized such that gene expression is substantially decreased. For example, acetylation of histone H3 and H4 correlates with gene expression activation, while deacetylation correlates with gene expression silencing (Fry et al., Curr. Biol. 11:R185-197, 2001). To date at least eight acetylatable lysine positions are known in the N termini of histone H3 (K9, K14, K18, and K23) and H4 (K5, K8, K12, and K16) and six methylatable lysine positions exist in those of histone H3 (K4, K9, K27, K36, and K79) and H4 (K20). Methylation of histone H3 (which can be acetylated at lysine position K4) also marks active chromatin, which contrasts with the modulation of inactive chromatin by methylation of H3 (which can be methylated at K9) (Lachner et al., J. Cell Sci. 116:2117-2124, 2003). Methylation of H3 at position K27 is an epigenetic marker for recruitment of polycomb group (Pc-G) complexes (Czermin et al., Cell 111:185-196, 2002) and is prominent in the inactivated X chromosome of female mammalian somatic cells (Plath et al., Science 300:131-135, 2003; Silva et al., Dev. Cell 4:481-495, 2003; Cao et al., Science 298:1039-1043, 2002). Thus, acetylation and methylation of histone H3 and H4 amino termini result in regulation of gene activity through the modulation of chromatin conformation, which propagates stably activated or silenced chromatin domains. As used herein, the term “mobilized cells” refers to cells which have been exposed to an agent (e.g., any of those described herein) that promotes movement of the cells from the bone marrow into the peripheral blood and/or other reservoirs of the body (e.g., synovial fluid) or tissue. As used herein, the term “stem cell-specific promoter” is a promoter that is capable of driving transcription of a gene in a multipotent stem cell, but not in a lineage-committed or differentiated cell. Exemplary stem cell-specific promoters are described herein. A “nucleic acid molecule” is a strand of linked nucleic acids. The term “nucleic acid” is well known in the art. A “nucleic acid” as used herein will generally refer to a molecule (i.e., a strand) of DNA, RNA, or a derivative or analog thereof, comprising a nucleobase. A nucleobase includes, for example, a naturally occurring purine or pyrimidine base found in DNA (e.g., an adenine, guanine, thymine, or cytosine) or RNA (e.g., an adenine, guanine, uracil, or cytosine). As used herein, the term “heterologous nucleic acid molecule” refers to any heterologous polynucleotide sequence. The sequence can comprise a polynucleotide sequence obtained from a source other than the cell into which it is introduced (e.g., an exogenous sequence). The polynucleotide can comprise a sequence of synthetic or naturally occurring DNA or RNA nucleotide bases. As used herein, the term “selectable marker gene” refers to a gene, which upon its expression into a polypeptide in a cell, is detectable due to a specific property of the polypeptide (e.g., enzymatic activity or fluorescence). As used herein “an interfering RNA” refers to any double stranded or single stranded RNA sequence, capable—either directly or indirectly (i.e., upon conversion)—of inhibiting or down regulating gene expression by mediating RNA interference. Interfering RNA includes but is not limited to small interfering RNA (“siRNA”) and small hairpin RNA (“shRNA”). “RNA interference” refers to the selective degradation of a sequence-compatible messenger RNA transcript. As used herein “an shRNA” (small hairpin RNA) refers to an RNA molecule comprising an antisense region, a loop portion and a sense region, wherein the sense region has complementary nucleotides that base pair with the antisense region to form a duplex stem. Following post-transcriptional processing, the small hairpin RNA is converted into a small interfering RNA by a cleavage event mediated by the enzyme Dicer, which is a member of the RNase III family. As used herein “an RNAi” (RNA interference) refers to a post-transcriptional silencing mechanism initiated by small double-stranded RNA molecules that suppress expression of genes with sequence homology. As used herein, the term “cell surface protein” refers to a protein that is present on the surface of a cell. As used herein, the term “expansion” refers to the propagation of a cell or cells without terminal differentiation. As used herein, the term “differentiation” refers to the developmental process of lineage commitment. A “lineage” refers to a pathway of cellular development, in which precursor or “progenitor” cells undergo progressive physiological changes to become a specified cell type having a characteristic function (e.g., nerve cell, muscle cell, or endothelial cell). Differentiation occurs in stages, whereby cells gradually become more specified until they reach full maturity, which is also referred to as “terminal differentiation.” A “terminally differentiated cell” is a cell that has committed to a specific lineage, and has reached the end stage of differentiation (i.e., a cell that has fully matured). As used herein, the term “isolated” refers to a stem cell or population of daughter stem cells in a non-naturally occurring state outside of the body (e.g., isolated from the body or a biological sample from the body). The biological sample can include synovial fluid, blood (e.g., peripheral blood), or tissue. As used herein, the term “purified” as in a “purified cell” refers to a cell that has been separated from the body of a subject but remains in the presence of other cell types also obtained from the body of the subject. By “substantially purified” is meant that the desired cells are enriched by at least 20%, more preferably by at least 50%, even more preferably by at least 75%, and most preferably by at least 90% or even 95%. By a “population of cells” is meant a collection of at least ten cells. Preferably, the population consists of at least twenty cells, more preferably at least one hundred cells, and most preferably at least one thousand, or even one million cells. Because the stem cells of the present invention exhibit a capacity for self-renewal, they can be expanded in culture to produce populations of even billions of cells. “Germ layers” are the three primary layers formed as a result of gastrulation in early stage embryos, consisting of endoderm, mesoderm, and ectoderm. Embryonic germ layers are the source from which all tissues and organs derive. The endoderm is the source of, for example, pharynx, esophagus, stomach, intestine and associated glands (e.g., salivary glands), liver, epithelial linings of respiratory passages and gastrointestinal tract, pancreas and lungs. The mesoderm is the source of, for example, smooth and striated muscle, connective tissue, vessels, the cardiovascular system, blood cells, bone marrow, skeleton, reproductive organs and excretory organs. Ectoderm is the source of, for example, epidermis (epidermal layer of the skin), sensory organs, the entire nervous system, including brain, spinal cord, and all the outlying components of the nervous system. The term “multipotent,” with respect to stem cells of the invention, refers to the ability of the stem cells to give rise to cells of all three primitive germ layers (endoderm, mesoderm, and ectoderm) upon differentiation. The term “allogeneic,” as used herein, refers to cells of the same species that differ genetically to the cell in comparison. The term “autologous,” as used herein, refers to cells derived from the same subject. The term “engraft” as used herein refers to the process of stem cell incorporation into a tissue of interest in vivo through contact with existing cells of the tissue. By “does not express” means that expression of a protein or gene cannot be detected by standard methods. In the case of cell surface markers, expression can be measured by flow cytometry, using a cut-off values as obtained from negative controls (i.e., cells known to lack the antigen of interest) or by isotype controls (i.e., measuring non-specific binding of the antibody to the cell). Thus, a cell that “does not express” a marker appears similar to the negative control for that marker. For gene expression, a gene “does not express” if the presence of its mRNA cannot be visually detected on a standard agarose gel following standard PCR protocols. Conversely, a cell “expresses” the protein or gene if it can be detected by the same method. As used herein, the term “loxP sites” refers to the consensus sites recognized by an enzyme of a bacteriophage (Cre-recombinase) in mediating site-specific recombination and excision. As used herein, a “vector” or “expression vector” is a nucleic acid-based delivery vehicle comprising regulatory sequences and a gene of interest, which can be used to transfer its contents into a cell. A “subject” is a vertebrate, preferably a mammal (e.g., a non-human mammal), more preferably a primate and still more preferably a human. Mammals include, but are not limited to, primates, humans, farm animals, sport animals, and pets. By “embryoid body” is meant an aggregate of stem cells of the invention. In addition to expression of one or more of the transcription factors described herein (e.g., Oct-4, Nanog, Sox-2, Rex-1, GDF-3, and Stella), the cells in the embryoid body can also express KLF-4 or Myc. The term “obtaining” as in “obtaining the stem cell” is intended to include purchasing, synthesizing or otherwise acquiring the stem cell (or indicated substance or material). In this disclosure, the terms “comprises,” “comprising,” “containing” and “having” and the like can have the meaning ascribed to them in U.S. Patent law and can mean “includes,” “including,” and the like; “consisting essentially of” or “consists essentially” likewise has the meaning ascribed in U.S. Patent law and the term is open-ended, allowing for the presence of more than that which is recited so long as basic or novel characteristics of that which is recited is not changed by the presence of more than that which is recited, but excludes prior art embodiments. Other definitions appear in context throughout the specification. Stem Cells of the Invention We have identified a quiescent adult stem cell having embryonic stem cell characteristics with the capacity to differentiate into ectoderm, mesoderm and endoderm, and having low immunogenic potential, as it does not express cell surface markers including MHC class I, MHC class II, CD44, CD45, CD13, CD34, CD49c, CD73, CD66b, CD105 and CD90. The quiescent stem cell is in the resting phase of the cell cycle, Gap0 (G0), and therefore, may not exhibit proliferative characteristics, such as expression of the transcription factor Oct-4. This stem cell can be found in bodily fluids such as blood and synovial fluid or tissue. The blood may be mobilized or non-mobilized blood. Upon activation, the quiescent stem cell becomes proliferative, and expresses genes including Oct-4 (Lau et al., Adv. Anat. Pathol. 13:76-79, 2006), Nanog (Pan et al., J. Biol. Chem. 280:1401-1407, 2005), Sox2 (Lee et al., Cell 125:301-313, 2006), GDF3 (Hexige et al., Neurosci. Lett. 389: 83-87, 2005), P16INK4 (Gray-Schopfer et al., Br. J. Cancer; 95:496-505, 2006), BMI (Itahana, K., Mol. Cell. Biol. 23:389-401, 2003), Notch (Chiang et al., Mol. Cell. Biol.; 26:6261-6271, 2006), HDAC4 (Zeremski et al., Genesis 35: 31-38, 2003), TERT (Middleman et al., Mol. Cell. Biol. 26:2146-2159, 2006), Rex-1 (Zhang et al., Stem Cells; 24:2669-2676, 2006), and TWIST (Guenou et al., Hum. Mol. Genet. 14:1429-1439, 2005), but retains its low immunogenic potential, as it does not express cell surface markers including MHC class I, MHC class II, CD44, CD45, CD13, CD34, CD49c, CD66b, CD73, CD105 and CD90. The size of the cell has been observed to be about 6 μm to about 20 μm. The proliferative stem cells of the invention are uniquely suited for large scale use. They are proliferative after less than ten days in culture, e.g., about one day, three days, or seven days in culture, and do not require expansion in order to achieve an activated and/or proliferative state. Accordingly, it is possible to obtain about 5% to about 30% proliferative stem cells from a population of about 500,000-12,000,000 mobilized cells without expansion in vitro. Stem cells of the invention are multipotent, having the capacity to differentiate into a cell lineage of each germ layer (e.g., ectoderm, mesoderm, and endoderm). Upon further differentiation, the stem cells can be fully differentiated into cell types including but not limited to a neuron, chondroblast, osteoblast, adipocyte, hepatocyte, smooth muscle cell, skeletal muscle cell, cardiac cell, pancreatic cell, pulmonary cell, and endothelial cell. Methods for the differentiation of stem cells are well known in the art. Typically, stem cells are cultured in the presence of differentiation-specific agents, which promote lineage commitment. Differentiation-specific agents and conditions include, for example, PDGF (e.g., about 10 ng/ml) and TGF-β1 (e.g., about 5 ng/ml) for the formation of a muscle cell; bFGF (e.g., about 100 ng/ml), FGF-8 (e.g., about 10 ng/mL), SHH (e.g., about 100 ng/ml) and BDNF (e.g., about 10 ng/ml) for the formation of a neuron; hepatocyte growth factor (HGF) and FGF-4 for the formation of a hepatocyte; dexamethasone, 3-isobutyl-1-methylxanthine (IBMX), insulin and indomethacin for the formation of an adipocyte; VEGF (e.g., about 100 ng/ml of VEGF-165) for the formation of an endothelial cell; and bone morphogenic protein-4 (BMP4) (e.g., about 10 ng/ml), VEGF, bFGF, stem cell factor (SCF), Flt3L, hyper IL6, thrombopoietin (TPO), and erythropoietin (EPO) for the formation of a hematopoietic cell. The stem cells of the invention can also form embryoid bodies upon culture. The cells forming the embryoid bodies, in addition to the embryonic transcription factors described herein, may additionally express KLF-4 or Myc. Exemplary culture conditions for embryoid body formation are described in Example 4 below. Isolation of Stem Cells Any bodily source where stem cells of the invention are suspected of residing may be used for purification according to the methods described herein. Methods of obtaining stem cells of the invention, particularly cells in blood and synovial fluid, can be conducted as described below. Mobilization Prior to removal of the cells from the subject, stem cells may optionally be mobilized using any method known in the art. Typically, stem mobilization is induced by administering an appropriate agent, such as a cytokine or chemotherapeutic agent, to the subject. Cytokines that can be used to mobilize stem cells include G-CSF, GM-CSF, Flt-3 ligand, stem cell factor (SCF), IL-3 receptor agonists (e.g., Daniplestim), thrombopoietin agonists, chimeric cytokins (e.g., leridistim and progenipoietin-1), peg-fligrastim, and SDF-1 antagonists (e.g., AMD 3100). Chemotherapeutic agents include cyclophosphamide (Cy), or combined chemotherapy regimens such as iphosphamide, carboplatin and etoposide (ICE) and etoposide, methylprednisolone, ara-c and cisplatin (ESHAP) (Cottler-Fox et al., Hematology Am Soc Hematol Educ Program pp. 419-37, 2003). Purification of Stem Cells The stem cells of the invention can be purified from any bodily fluid or tissue in which they are found, including synovial fluid and blood. In some embodiments, the stem cells of the invention are purified from the synovial fluid of a subject suffering from osteoarthritis. One bodily reservoir in which the stem cells reside is synovial fluid. To obtain the stem cells from the synovial fluid, cells can be spun down, pelleted, resuspended. The cells pelleted from synovial fluid contains the stem cells of the invention. The cells from the pellet may be cultured or may be further purified, e.g., by cell depletion or using a discontinuous density gradient (e.g., DM-M, sucrose, or percoll gradients). In one exemplary protocol, synovial fluid from osteoarthritic patients is harvested, diluted in serum-free medium (AIM-V, GIBCO), and spun at about 200 g for about 15 minutes at room temperature. The pelleted population is then resuspended in AIM-V up to the original synovial fluid volume. The cells are then counted with a hemacytometer. The resuspended, washed sample is layered over a discontinuous density gradient (DM-M, Stem Cell Technologies Inc.) and spun at 500 g for about 30 minutes at room temperature. The discontinuous density gradient separates synovial fluid into a buffy layer and a pelleted layer. This gradient advantageously prevents granulocytes from pelleting with the smaller cells (e.g., about 6 μm in diameter or less). Use of this gradient allows only two populations of cells (RBC and stem cells) to form the pellet. The buffy layer is found at the AIMV and DM-M interface while the pellet population is found in the conical portion of the tube. The desired cellular population is isolated from the pellet layer, washed in PBS, and prepared for flow cytometry analysis, if desired. Stem cells of the invention may also be isolated from blood (i.e., hematopoietic tissue). Possible sources of human hematopoietic tissue include, but are not limited to, embryonic hematopoietic tissue, fetal hematopoietic tissue, and post-natal hematopoietic tissue. Embryonic hematopoietic tissue can be yolk sac or embryonic liver. Fetal hematopoietic can be selected from fetal liver, fetal bone marrow and fetal peripheral blood. The post-natal hematopoietic can be cord blood, bone marrow, normal peripheral blood, mobilized peripheral blood, hepatic hematopoietic tissue, or splenic hematopoietic tissue. In one exemplary protocol, blood from mammals is harvested, diluted in serum-free medium (AIM-V, GIBCO), and spun at about 200 g for 10 minutes at room temperature, about three times. The pelleted red cell fraction can either be cultured or further enriched as described below. Further purification may include resuspending the cells in AIM-V up to two or three times the original volume. The resuspended, washed sample is layered over a combined gradient of Ficoll-Paque and Stem Cells Technologies Granulocyte gradient (ROSETTE SEP DM-M, Stem Cell Technologies). This gradient advantageously prevents granulocytes from pelleting with the smaller cells (e.g., 6 μm in diameter), thus allowing only two populations of cells (RBC and stem cells) to pellet. The sample is subsequently spun at about 500 g for 30 minutes at room temperature. The Ficoll-Stem Cell Technology gradients separate the cells into a buffy layer, an intermediate layer, and pelleted layer. The desired cellular population is isolated from the pelleted layer, washed in PBS, and resuspended in AIM V for further enrichment, if desired. Further enrichment of the desired stem cells may be achieve by depletion of T cells (CD2/CD3), B cells (CD19/CD20), NK cells (CD16/CD56), dendritic cells (CD13, CD14, CD11B, MHC Class II), monocytes (CD13, CD14, CD11B Class II), granulocytes (CD13, CD14, CD66B), red blood cells, or any combination thereof. Further separation can also be achieved using an anti-glycophorin A antibody which binds most, if not all, red blood cells. This antibody is added, and the red blood cells are depleted from the stem cell population. Sorting can then be performed either by flow cytometric or immunomagnetic bead selection. A variation of this method involves the depletion of all cells except the stem cells by using the tetrameric antibody complex, as described in U.S. Pat. No. 6,448,075. Alternatively, red blood cells can be removed by CD71 and/or Hoechst33258 (HO258) staining, followed by sorting using flow cytometry. Such a method is described in Tao et al., Zhonghua Yi Xue Yi Chuan Xue Za Zhi. 17:352-354, 2000. Another approach involves lysis of the red blood cells, and sorting using electric fields, as described in U.S. Pat. No. 6,043,066. Because the stem cells of the invention, when cultured with dendritic cells typically proliferate more rapidly, and such dendritic cells occur naturally in synovial fluid, it may be desirable to purify the stem cells of the invention along with naturally occurring dendritic cells, e.g., using techniques which do not deplete dendritic cells from the stem cells of the invention. Enrichment Once a population of cells containing the desired stem cells has been isolated from a subject, (e.g., according to the methods described above), proliferating stem cells can be enriched. The procedures described above produce a mixed population of both quiescent and proliferating stem cells (FIGS. 1a-1e). If desired, proliferative stem cells of the invention, which are proliferative after less than ten days in culture and do not require expansion in order to achieve an activated and/or proliferative state, can be enriched. The enrichment may be performed using dyes (e.g., either negative or positive identification of stem cells using such dyes such as those described herein), sorting techniques, or by using a vector with a stem-cell specific promoter operably linked to a detectable marker gene). To perform the enrichment, a vector having a stem cell-specific promoter coupled to at least one selectable marker gene can be introduced into a cell population (e.g., a population of mobilized stem cells obtained from a source such as synovium or blood). Within the population are the proliferative stem cells that express Oct-4, Nanog, Sox 2, Rex-1, GDF-3 and Stella, and do not express MHC class I, MHC class II, CD44, CD45, CD 13, CD34, CD49c, CD73, CD105 and CD90 cell surface markers. Upon introduction into the proliferative stem cell, the selectable marker gene is expressed by internal factors that activate the stem cell-specific promoter. Detection of marker gene expression facilitates sorting and isolation of the cells according to methods known in the art (e.g., fluorescence activated flow cytometry and affinity bead purification). The stem cell-specific promoter can be any promoter that is capable of driving transcription of a gene in a multipotent stem cell, but not in a lineage-committed or differentiated cell. Specificity for promoter activation in a multipotent cellular environment allows for activation of selectable marker gene expression within the target proliferative stem cells, but not within more committed progenitors. Preferably, the stem cell-specific promoter is an Oct-4 promoter (Sylvester et al., Nucleic Acids Res. 22:901-911, 1994), Nanog promoter (Wu da et al., Cell Res. 15:317-324, 2005), Sox2 promoter (Boer, et al., Nucleic Acids Res., 35:1773-1786, 2007), Rex-1 promoter (Shi et al., J. Biol. Chem., 281:23319-23325, 2006), GDF-3 promoter (Clark, A. T., Stem Cells, 2004; 22(2):169-79), Stella promoter (Clark, A. T., Stem Cells, 2004; 22(2):169-79), FoxD3 promoter (Alkhateeb, A., J. Invest. Dermatol., 2005 125, 388-391), Polycomb Repressor Complex 2 promoter (Sparmann, A., Nat. Rev., 2006. 6, 846-856, and CTCF promoter (De La Rosa-Velazquez I A, Cancer Res., 2007; 67(6):2577-85). The selectable marker gene may be any known in the art, and is preferably a gene which does not disrupt the growth and proliferation of a live cell, such as a fluorescent protein, preferably a Green Fluorescent Protein (GFP). Where additional selectivity is desirable for isolation, the vector may encode multiple selectable marker genes coupled to one or more stem cell specific promoters. For example, the vector may encode a fluorescent protein and a protein sensitive to drug selection. The selectable marker gene may also encode a cell surface protein which may be sorted according to standard methods known in the art. The cells expressing the selectable marker gene from the stem-cell specific promoter may be separated from each other by, for example, fluorescence activated cell sorting as disclosed herein. A preferred sorting procedure is by fluorescent activated cell sorting (FACS), wherein the cells can be separated on the basis of the level of staining of the particular antigens. These techniques are well known to those skilled in the art and are described in various references including U.S. Pat. Nos. 5,061,620; 5,409,8213; 5,677,136; and 5,750,397; and Yau et al., Exp. Hematol. 18:219-222 (1990). In specific embodiments, the stem cell-specific promoter is flanked by loxP sites, so that the promoter may be conveniently excised to prevent expression of the selectable marker gene following isolation. It may be advantageous to stop expression of the marker gene, for example, where clinical use of the cells is desired. Vectors for use in enrichment methods of the invention can be any known in the art. Vectors containing both a promoter and a cloning site into which a heterologous polynucleotide can be operatively linked are well known in the art. One skilled in the art will readily recognize that any heterologous polynucleotide can be excised as a compatible restriction fragment and placed in a vector in such a manner as to allow proper expression of the heterologous polynucleotide from the stem cell-specific promoter. Such vectors are capable of transcribing RNA in vitro or in vivo, and are commercially available from sources such as Stratagene (La Jolla, Calif.) and Promega Biotech (Madison, Wis.). Examples of vectors include vectors derived from viruses, such as baculovirus, retroviruses, adenoviruses, adeno-associated viruses, and herpes simplex viruses; bacteriophages; cosmids; plasmid vectors; fungal vectors; synthetic vectors; and other recombination vehicles typically used in the art. These vectors have been used for expression in a variety of eukaryotic and prokaryotic hosts and may be used for protein expression. Specific non-limiting examples include pSG, pSV2CAT, and pXt1 from Stratagene (La Jolla, Calif.) and pMSG, pSVL, pBPV and pSVK3 from Pharamacia. Other exemplary vectors include the pCMV mammalian expression vectors, such as pCMV6b and pCMV6c (Chiron Corporation, Calif.), pSFFV-Neo, and pBluescript-SK+. In order to optimize expression and/or in vitro transcription, it may be necessary to remove, add or alter 5′ and/or 3′ untranslated portions of polynucleotides to eliminate potentially extra inappropriate alternative translation initiation codons or other sequences that may interfere with or reduce expression, either at the level of transcription or translation. Alternatively consensus ribosome binding sites can be inserted immediately ′5 of the start codon to enhance expression. The vector may further comprise a polyadenylation signal that is positioned 3′ of the carboxy-terminal amino acid. The vector may be introduced into a cell using any method known in the art for introducing a nucleic acid into a cell and such methods are well-known in the art and are described, for example, in Sambrook et al. (1989, In: Molecular Cloning: A Laboratory Manual, Cold Spring Harbor Laboratory Press, New York), and Ausubel et al. (1997, In: Current Protocols in Molecular Biology, Green & Wiley, New York). These methods include, but are not limited to, calcium phosphate precipitation transfection, DEAE dextran transfection, electroporation, microinjection, liposome-mediated transfer, chemical-mediated transfer, ligand-mediated transfer, and recombinant viral vector transfer, and the like. In addition to or in place of cell enrichment using vector driven expression of various markers, additional cell enrichment techniques, including depletion techniques and other sorting techniques, may be employed. One exemplary approach to enrich for the desired cells is magnetic bead cell sorting (MACS). The conventional MACS procedure is described by Miltenyi et al. (Cytometry 11:231-238, 1990). In this procedure, one labels cells with magnetic beads and passes the cells through a paramagnetic separation column. The separation column is placed in a strong permanent magnet, thereby creating a magnetic field within the column. Cells that are magnetically labeled are trapped in the column; cells that are not pass through. The trapped cells are then eluted from the column. Stem cells of the invention can be enriched, for example, from a suitable bodily reservoir, such as the synovial fluid, using MACS to separate MHC class I and glycophorin positive cells. The sample is incubated with immunomagnetic beads that bind to MHC class I and/or glycophorin. Following incubation, samples are washed and resuspended at 105-106 cells/ml and passed through a magnetic field to remove cells bound to the immunomagnetic beads. Such negative selection techniques are known to those of skill in the art. Monoclonal and polyclonal antibodies suitable for negative selection purposes are also known to those of skill in the art (see, for example, Leukocyte Typing V, Schlossman, et al., Eds. (1995) Oxford University Press), and are commercially available from a number of sources. Other separation techniques, including affinity column chromatography using similar immunological reagents and FACS may also be used to remove particular cell populations in order to enrich_for the desired cells. Another exemplary enrichment method involves incubating purified cells with a detectable label that allow for sorting of cells. One exemplary label is carboxyfluorescein diacetate, succinimidyl ester (CFSE). CFSE passively diffuses into cells. CFSE remains colorless and nonfluorescent until the acetate group is cleaved by intracellular esterases to yield high fluorescent carboxyfluorescein succinimidyl ester. The dye-protein adducts that form in labeled cells are retained by the cells throughout development and meiosis, and can be used for in vivo tracing. The label is inherited by daughter cells after either cell division or cell fusion, and is not transferred to adjacent cells in a population. Because CFSE is partitioned equally among daughter cells with each division, thus allowing simultaneous analysis of cell number, position, as well as division status. Based on this partitioning, proliferating stem cells can therefore be identified and separated based on CFSE content. An additional enrichment method involves the use of Aldefluor, a fluorescent substrate for aldehyde dehydrogenase (ALDH). Human stem and progenitor cells express high levels of ALDH activity when measured by flow cytometry, whereas differentiated cells do not. Primitive hematopoietic cells are relatively resistant to alkylating agents such as the active derivatives of cyclophosphamide (e.g., 4-hydroxyperoxycyclophosphamide (4-HC) and mafosphamide). This resistance is due to the selective expression in primitive hematopoietic cells of the enzyme aldehyde dehydrogenase (ALDH). Fluorescent ALDH-substrates can be used to identify, quantitate and isolate hematopoietic cells by flow cytometry. Commercially available ALDEFLUOR reagent systems offers a non-immunological way to identify human stem cells and progenitors from bone marrow (BM), mobilized peripheral blood (MPB) and umbilical cord blood (UCB) on the basis of their ALDH activity. In various embodiments of the invention, multiple enrichment strategies can be combined to achieve isolation of proliferative stem cells. For example, vector-based isolation techniques can be used together with immunomagnetic sorting, either before or after vector-based sorting, and either with or without subsequent FACS analysis. In one exemplary protocol, purified cells that are MHC class I and glycophorin negative, obtained by negative selection methods described herein above, are resuspended to 105 per ml and placed in 6-well tissue culture plastic. A lentiviral vector expressing GFP under the control of an Oct-4 stem cell-specific promoter is added to the cells and cultured for one day, for three days, five days, and seven days. The GFP-expressing cells are then subsequently sorted into individual wells by flow cytometry. Culture Stem cells of the invention can be maintained under standard cell culture conditions. For example, the cells can be maintained in Dulbecco Minimal Essential Medium (DMEM) or any other appropriate cell culture medium, supplemented with 1-50 ng/ml (e.g., about 5-15 ng/ml) platelet-derived growth factor-BB (PDGF-BB), 1-50 ng/ml (e.g., about 5-15 ng/ml) epidermal growth factor (EGF), 1-50 ng/ml (e.g., about 5-15 ng/ml) insulin-like growth factor (IGF), or 100-10,000 IU (e.g., about 1,060) LIF, with 10−10 to 10−8 M dexamethasone or other appropriate steroid, 2-10 μg/ml linoleic acid, and 0.05-0.15 μm ascorbic acid. Additional culture conditions can be identified by one of skill in the art. In one example, about 50,000 cells are grown under suitable conditions. The cells can be plated in fibronectin-coated wells of 96 well plates in defined medium consisting of 1% PHS, 10 ng/ml IGF, 10 ng/ml EGF and 10 ng/ml PDGF-BB as well as transferrin, selenium, dexamethasone, linoleic acid, insulin, and ascorbic acid. The negatively-selected samples, which can optimally comprise a population of cells that is greater than 98% class I and glycophorin negative, can then be assessed for expression of adult and embryonic stem cell markers, as well as the lack of expression of MHC class I, MHC class II, CD44, CD45, CD13, CD34, CD49c, CD73, CD105, and CD90 cell surface markers, according to methods known in the art to confirm the identity of the purified population. In specific embodiments, pooled human serum (1-2%) and human growth factors are used to supplement growth and proliferation. Preferably, stem cells of the invention are grown in the presence of 1-2% pooled human serum, epidermal growth factor, and platelet-derived growth factor-BB. Other appropriate media include, for example, MCDB, Minimal Essential Medium (MEM), IMDM, and RPMI. Minimum Essential Medium (MEM) is one of the most widely used of all synthetic cell culture media. Early attempts to cultivate normal mammalian fibroblasts and certain subtypes of HeLa cells revealed that they had specific nutritional requirements that could not be met by Eagle's Basal Medium (BME). Subsequent studies using these and other cells in culture indicated that additions to BME could be made to aid growth of a wider variety of fastidious cells. MEM, which incorporates these modifications, includes higher concentrations of amino acids so that the medium more closely approximates the protein composition of mammalian cells. MEM has been used for cultivation of a wide variety of cells grown in monolayers. Optional supplementation of non-essential amino acids to the formulations that incorporate either Hanks' or Eagles' salts has broadened the usefulness of this medium. The formulation has been further modified by optional elimination of calcium to permit the growth of cells in suspension. Iscove's Modified Dulbecco's Media (IMDM) is a highly enriched synthetic media. IMDM is well suited for rapidly proliferating, high-density cell cultures. MCDB media were developed for the low-protein and serum free growth of specific cell types using hormones, growth factors, trace elements and/or low levels of dialyzed fetal bovine serum protein (FBSP). Each MCDB medium was formulated (quantitatively and qualitatively) to provide a defined and optimally balanced nutritional environment that selectively promoted the growth of a specific cell line. MCDB 105 and 110 are modifications of MCDB 104 medium, optimized for long-term survival and rapid clonal growth of human diploid fibroblast-like cells (WI-38, MRC-5, IMR-90) and low passaged human foreskin fibroblasts using FBSP, hormone, and growth factor supplements. MCDB 151, 201, and 302 are modifications of Ham's nutrient mixture F-12, designed for the growth of human keratinocytes, clonal growth of chicken embryo fibroblasts (CEF) and Chinese hamster ovary (CHO) cells using low levels of FBSP, extensive trace elements or no serum protein. RPMI-1640 was developed by Moore et. al. at Roswell Park Memorial Institute, hence the acronym RPMI. The formulation is based on the RPMI-1630 series of media utilizing a bicarbonate buffering system and alterations in the amounts of amino acids and vitamins. RPMI-1640 medium has been used for the culture of human normal and neoplastic leukocytes. RPMI-1640, when properly supplemented, has demonstrated wide applicability for supporting growth of many types of cultured cells, including fresh human lymphocytes in the 72 hour phytohemaglutinin (PHA) stimulation assay. Stem cells of the invention can be maintained according to culture methods known in the art enhance proliferation. Preferably, proliferative stem cells of the invention are plated in fibronectin-coated wells of 96 well plates in defined medium consisting of 1% PHS, 10 ng/ml IGF, 10 ng/ml EGF and 10 ng/ml PDGF-BB as well as transferrin, selenium, dexamethasone, linoleic acid, insulin, and ascorbic acid. To improve proliferation of these cells, the stem cells of the invention can be co-cultured with dendritic cells or antigen-presenting cells. These co-cultures can be carried out using basal or propagation culture conditions, as described herein. Dendritic cells can also be cultured using 10% pooled human serum (PHS) in standard culture medium plus antibiotics. We have observed that use of human serum results in the stem cells growing better (e.g., in 1%-2% PHS) as compared to bovine serum. Alternatively, serum free media may be used. In other embodiments, the cells may be cultured in the presence of an extracellular matrix. Suitable procedures for proliferating cells in the presence of such matrices are described, for example, in U.S. Pat. No. 7,297,539. Methods of Use The production of stem cells, which can be either maintained in an undifferentiated state or directed to undergo differentiation into extraembryonic or somatic lineages ex vivo, allows for the study of the cellular and molecular biology of events of early human development, generation of differentiated cells from the stem cells for use in transplantation (e.g., autologous or allogenic transplantation), treating diseases (e.g., any described herein), tissue generation, tissue engineering, in vitro drug screening or drug discovery, and cryopreservation. Transplant and Treatment of Disease The stem cells of the invention may be used in autologous or allogenic stem cell transplantation. Stem cell transplantation is a useful approach of repairing damaged tissue, for example, in the treatment of diseases including, but not limited to, cardiac disease, neurodegenerative disease, diabetes, wound healing, diseases treatable by immunosuppression (e.g., autoimmune disorders), and bone and cartilage replacement or augmentation. Stem cells of the invention have the potential to differentiate into a variety of cell types including but not limited to a neuron, chondroblast, osteoblast, adipocyte, hepatocyte, muscle cell (e.g., smooth muscle or skeletal muscle), cardiac cell, pancreatic cell, pulmonary cell, and endothelial cell. Accordingly, stem cells of the invention can be transplanted into a subject, engrafted into a target tissue, and differentiated in vivo to match the tissue type and supplement the target tissue, thereby restoring or enhancing function. In other cases, a stem cell is differentiated into a particular target tissue prior to transplantation. Cardiac The stem cells of the invention may be used in the treatment of cardiac conditions, e.g., where cardiac tissue has been damaged. Exemplary conditions include myocardial infarction, congestive heart failure, ischemic cardiomyopathy, and coronary artery disease. Such methods are described, for example, in U.S. Pat. No. 6,534,052, incorporated herein by reference in its entirety. Here, embryonic cells are introduced surgically and implanted into the infarcted area of the myocardium. After implantation, the embryonic stem cells form stable grafts and survive indefinitely within the infarcted area of the heart in the living host. In other cases, the cells are cultured under conditions that induce differentiation into cardiac tissue prior to transplantation. Vascularization The stem cells of the invention may also be used to increase vascularization. Doing so may be desirable when organs have been injured or in cases of diabetic disorders. Diseases in which increased vascularization is desirable include diabetes, atherosclerosis, arteriosclerosis, and any of the cardiac conditions described above. Neurological Conditions Stem cells of the invention or their committed or differentiated progeny may also be used to treat neural disorders where regeneration of tissue is desirable. Stem cells of the invention can address the shortage of donor tissue for use in transplantation procedures, particularly where no alternative culture system can support growth of the required committed stem cell. In another example, following transplantation into the central nervous system (CNS), ES cell-derived neural precursors have been shown to integrate into the host tissue and, in some cases, yield functional improvement (McDonald et al., Nat. Med. 5:1410-1412, 1999). Neurological diseases that can be treated using stem cells of the invention include neurodegenerative disorders such as Parkinson's disease, polyglutamine expansion disorders (e.g., Huntington's Disease, dentatorubropallidoluysian atrophy, Kennedy's disease (also referred to as spinobulbar muscular atrophy), and spinocerebellar ataxia (e.g., type 1, type 2, type 3 (also referred to as Machado-Joseph disease), type 6, type 7, and type 17)), other trinucleotide repeat expansion disorders (e.g., fragile X syndrome, fragile XE mental retardation, Friedreich's ataxia, myotonic dystrophy, spinocerebellar ataxia type 8, and spinocerebellar ataxia type 12), Alexander disease, Alper's disease, Alzheimer's disease, amyotrophic lateral sclerosis, ataxia telangiectasia, Batten disease (also referred to as Spielmeyer-Vogt-Sjogren-Batten disease), Canavan disease, Cockayne syndrome, corticobasal degeneration, Creutzfeldt-Jakob disease, ischemia stroke, Krabbe disease, Lewy body dementia, multiple sclerosis, multiple system atrophy, Pelizaeus-Merzbacher disease, Pick's disease, primary lateral sclerosis, Refsum's disease, Sandhoff disease, Schilder's disease, spinal cord injury, brain injury, spinal muscular atrophy, Steele-Richardson-Olszewski disease, and Tabes dorsalis. Immunosuppression and Treatment of Autoimmune Diseases Stem cells of the invention may also be used to inhibit or reduce undesired or inappropriate immune responses. For example, the stem cells may be used to treat an autoimmune disease, to promote wound healing, or to reduce or prevent rejection of a tissue or organ. Stem cells can be used to suppress immune responses upon administration to subjects. See, e.g., U.S. Patent Application Publication No. 2005/0282272. Such approaches have also been proposed in Sykes et al., Nature 435:620-627, 2005 and Passweg et al., Semin. Hematol. 44:278-85, 2007. Other immunosuppressive uses of stem cells are described in U.S. Pat. Nos. 6,328,960, 6,368,636, 6,685,936, 6,797,269, 6,875,430, and 7,029,666. Thus, stem cells of the invention may be used for immunosuppression or to treat autoimmune disease. Immunosuppression may be desirable prior to transplantation of tissues or organs into a patient (e.g., those described herein). Autoimmune disease which may be treated by administration of stem cells include multiple sclerosis (MS), systemic sclerosis (SSc), systemic lupus erythematosus (SLE), rheumatoid arthritis (RA), juvenile idiopathic arthritis, and immune cytopenias. Other autoimmune disease which may be treated using stem cells of the include acute disseminated encephalomyelitis (ADEM), Addison's disease, Ankylosing spondylitis, antiphospholipid antibody syndrome (APS), aplastic anemia, autoimmune hepatitis, autoimmune oophoritis, celiac disease, Crohn's disease, diabetes mellitus type 1, gestational pemphigoid, Goodpasture's syndrome, Graves' disease, Guillain-Barré syndrome (GBS), Hashimoto's disease, idiopathic thrombocytopenic purpura, Kawasaki's disease, lupus erythematosus, mixed connective tissue disease, multiple sclerosis, myasthenia gravis, opsoclonus myoclonus syndrome, Ord's thyroiditis, pemphigus, pernicious anaemia, primary biliary cirrhosis, rheumatoid arthritis, Reiter's syndrome, Sjögren's syndrome, Takayasu's arteritis, temporal arteritis, warm autoimmune hemolytic anemia, and Wegener's granulomatosis. In other embodiments, the stem cells of the invention can be used to reduce or prevent rejection of a transplanted tissue or organ. For instance, such a method can include engrafting the hematopoietic system of the tissue or organ recipient with stem cells of the invention obtained from the organ donor prior to transplanting the organ. By engrafting the hematopoietic system of the recipient with stem cells derived from the organ donor, rejection of the transplanted organ is thereby inhibited. Prior to engraftment and organ transplantation, the bone marrow of the recipient would be ablated by standard methods well known in the art. Generally, bone marrow ablation is accomplished by X-radiating the animal to be transplanted, administering drugs such as cyclophosphamide or by a combination of X-radiation and drug administration. Bone marrow ablation can be produced by administration of radioisotopes known to kill metastatic bone cells such as, for example, radioactive strontium, 135Samarium, or 166Holmium (Applebaum et al., 1992, Blood 80:1608-1613). In some embodiments, autologous stem cells can be transplanted into a subject. A population of stem cells can be isolated from the recipient according to the methods described herein prior to ablating bone marrow of the recipient. The bone marrow of the individual is purged of malignant blasts and other malignant cells such that by transplanting the non-malignant stem cells back into to the individual, diseases such as melanomas may be treated. Wound Healing The stem cells of the invention can also be used to improve wound healing. Inflammation during healing of wounds has been shown to increase scarring at wound sites (Redd et al., Philos. Trans. R. Soc. Lond. B Biol. Sci. 359:777-784, 2004). Doing so at a wound site can promote healing of the tissue and further can decrease fibrosis and scarring at the wound site. Because formation of age-related wrinkles may also be caused by a scarring process, administration of stem cells of the invention to the site of wrinkles may reduce wrinkle formation or result in reduction or elimination of such of wrinkles as well as scars. Wound healing using regenerative cells from adipose tissue is described, for example, in U.S. Patent Application Publication Nos. 2005/0048034 and 2006/0147430. Such approaches can be adapted for use with the cells of the present invention. Tissue Generation Stem cells of the invention may also be used in promoting tissue generation, e.g., to replace damaged or diseased tissue. The term “promoting tissue generation” includes activating, enhancing, facilitating, increasing, inducing, initiating, or stimulating the growth and/or proliferation of tissue, as well as activating, enhancing, facilitating, increasing, inducing, initiating, or stimulating the differentiation, growth, and/or proliferation of tissue cells. Thus, the term includes initiation of tissue generation, as well as facilitation or enhancement of tissue generation already in progress. The term “generation” also includes the generation of new tissue and the regeneration of tissue where tissue previously existed. Stem cells of the invention are multipotent, and have the potential to differentiate into a variety of cell types as discussed above. As such, the cells are useful in tissue generation. For instance, the stem cells of the invention can be used in the generation of neural cells. More specifically, stem cells of the invention can be induced to differentiate into neural cells using, for example, commercially available products such as NEUROCULT (Stem Cell Technologies). Stem cells of the invention may be used in the production of tissues according to methods known in the art. U.S. Pat. No. 5,834,312, incorporated by reference in its entirety herein, for example, describes media and methods for the in vitro formation of a histologically complete human epithelium. The media are serum-free, companion cell or feeder layer free and organotypic, matrix free solutions for the isolation and cultivation of clonally competent basal epithelial cells. The media and methods of the invention are useful in the production of epithelial tissues such as epidermis, cornea, gingiva, and ureter. U.S. Pat. No. 5,912,175, incorporated by reference in its entirety herein, describes media and methods for the in vitro formation of human cornea and gingival from stem cells. U.S. Pat. No. 6,497,872, incorporated by reference in its entirety herein, describes the differentiation of stem cells into neural cells (e.g., neurons, astrocytes, and oligodendrocytes), and methods for neurotransplantation in the undifferentiated or differentiated state, into a subject to alleviate the symptoms of neurological disease, neurodegeneration and central nervous system (CNS) trauma. Methods for the generation of suitable in autografts, xenografts, and allografts are also described. In certain embodiments, it may be desirable to treat the cells in order to decrease the likelihood of transplant rejection, especially where non-autologous cells are used. The invention therefore features methods of decreasing uric acid production in cells, and cells in which uric acid production has been reduced. Exemplary means for doing so are described in U.S. Patent Application Publication No. 2005/0142121 and include treatment with compounds that decrease xanthine oxidase activity, such as allopurinol, oxypurinol, and BOF-4272. Other approaches include pre-treatment with low levels of tungsten to deplete molybdenum, a necessary cofactor for xanthine oxidase. Genetic or RNAi approaches which reduce transcription or translation of the xanthine oxidase gene or mRNA, may also be used to decrease uric acid production. Stem cells of the invention may also be used for the generation of tissue engineered constructs or grafts, such as for use in replacement of bodily tissues and organs (e.g., fat, liver, smooth muscle, osteoblasts, kidney, liver, heart, and neural tissue). Stem cells of the invention may also be particularly well suited for the generation of tissue engineered constructs for use in replacement of musculoskeletal tissues (e.g., cartilage, joint, ligament, tendon). For instance, the inability to use articular cartilage for self-repair is a major problem in the treatment of patients who have their joints damaged by traumatic injury or suffer from degenerative conditions, such as arthritis or osteoarthritis. New approaches to cartilage tissue repair based on implanting or injecting expanded autologous cells into a patient's injured cartilage tissue can be used. More recently, it has been proposed in EP-A-0 469 070, incorporated by reference herein in its entirety, to use a biocompatible synthetic polymeric matrix seeded with chondrocytes, fibroblasts or bone-precursor cells as an implant for cartilaginous structures. Stem cells of the invention can be differentiated into chondroblasts, and optionally seeded on a matrix for implantation into a patient in need of cartilage replacement. A suitable matrix is described, for example, in U.S. Pat. No. 6,692,761, incorporated by reference in its entirety herein, in a material that has hydrogel properties and allows for diffusion through the material itself, in addition to diffusion through its porous structure. This feature is highly advantageous when cells are seeded onto the scaffold and are cultured thereon, as it enables a very efficient transport of nutrient and waste materials from and to the cells. Secondly, the material closely mimics the structure and properties of natural cartilage, which, containing 80% water, is also a hydrogel. Other matrix cell based cultures are described in U.S. Pat. Nos. 5,855,619 and 5,962,325. Methods of transplanting stem cells, stem cell-derived progeny (e.g., differentiated cells) and/or stem cell-derived tissue grafts are well known in the art. For example, U.S. Pat. No. 7,166,277, (“the '277 patent”), incorporated by reference in its entirety herein, describes the use of stem cells and their progeny as neuronal tissue grafts. The methods taught in the '277 patent for the in vitro proliferation and differentiation of stem cells and stem cell progeny into neurons and/or glia for the treatment of neurodegenerative diseases can be applied to the stem cells of the invention. Differentiation occurs by exposing the stem cells to a culture medium containing a growth factor which induces the cells to differentiate. Proliferation and/or differentiation can be done before or after transplantation, and in various combinations of in vitro or in vivo conditions, including (1) proliferation and differentiation in vitro, then transplantation, (2) proliferation in vitro, transplantation, then further proliferation and differentiation in vivo, and (3) proliferation in vitro, transplantation and differentiation in vivo. As another example, U.S. Pat. No. 7,150,990, incorporated by reference in its entirety herein, describes methods for transplanting stem cells and/or stem cell-derived hepatocytes into a subject to supplement or restore liver function in vivo. Such methods can also be applied to the stem cells of the invention. As yet another example, U.S. Pat. No. 7,166,464, incorporated by reference in its entirety herein, provides methods for the formation of a tissue sheet comprised of living cells and extracellular matrix formed by the cells, whereby the tissue sheet can be removed from the culture container to generate a genetically engineered tissue graft. Practitioners can follow standard methodology known in the art to transform the stem cells of the invention into a desired cell type or engineered construct for use in transplantation. Stem cells of the invention may be used to produce muscle cells (e.g., for use in the treatment of muscular dystrophy (e.g., as Duchenne's and Becker's muscular dystrophy and denervation atrophy). See, e.g., U.S. Patent Application Publication No. 2003/0118565. Gene Therapy The stem cells of the invention may be transfected for use in gene therapy applications. Stem cells of the invention may be transfected using any methods known in the art such as viral vector systems, microinjection, electroporation, liposomes, and chromosome transfer, or any other method described herein may be used. A wide variety of nucleic acids may be transfected into the stem cells of the invention. Thus, the invention should be construed to include nucleic acid products which are useful for the treatment of various disease states in a mammal. Such nucleic acids and associated disease states include, but are not limited to: DNA encoding glucose-6-phosphatase, associated with glycogen storage deficiency type 1A; DNA encoding phosphoenolpyruvate-carboxykinase, associated with Pepck deficiency; DNA encoding galactose-1 phosphate uridyl transferase, associated with galactosemia; DNA encoding phenylalanine hydroxylase, associated with phenylketonuria; DNA encoding branched chain α-ketoacid dehydrogenase, associated with Maple syrup urine disease; DNA encoding fumarylacetoacetate hydrolase, associated with tyrosinemia type 1; DNA encoding methylmalonyl-CoA mutase, associated with methylmalonic acidemia; DNA encoding medium chain acyl CoA dehydrogenase, associated with medium chain acetyl CoA deficiency; DNA encoding omithine transcarbamylase, associated with omithine transcarbamylase deficiency; DNA encoding argininosuccinic acid synthetase, associated with citrullinemia; DNA encoding low density lipoprotein receptor protein, associated with familial hypercholesterolemia; DNA encoding UDP-glucouronosyltransferase, associated with Crigler-Najjar disease; DNA encoding adenosine deaminase, associated with severe combined immunodeficiency disease; DNA encoding hypoxanthine guanine phosphoribosyl transferase, associated with Gout and Lesch-Nyan syndrome; DNA encoding biotinidase, associated with biotinidase deficiency; DNA encoding beta-glucocerebrosidase, associated with Gaucher disease; DNA encoding beta-glucuronidase, associated with Sly syndrome; DNA encoding peroxisome membrane protein 70 kDa, associated with Zellweger syndrome; DNA encoding porphobilinogen deaminase, associated with acute intermittent porphyria; DNA encoding antitrypsin for treatment of alpha-1 antitrypsin deficiency (emphysema); DNA encoding erythropoietin for treatment of anemia due to thalassemia or to renal failure; and, DNA encoding insulin for treatment of diabetes. Such DNAs and their associated diseases are reviewed in Kay et al. (1994, T.I.G. 10:253-257) and in Parker and Ponder (1996, “Gene Therapy for Blood Protein Deficiencies,” In: Gene Transfer in Cardiovascular Biology: Experimental Approaches and Therapeutic Implications, Keith and March, eds.). Where a vector includes coding sequences in addition to those encoding selectable marker genes, such additional coding sequences may be operably linked to a separate promoter/regulatory sequence. Many promoter/regulatory sequences useful for driving constitutive expression of a gene are available in the art and include, but are not limited to, for example, the cytomegalovirus immediate early promoter enhancer sequence, the SV40 early promoter, the Rous sarcoma virus promoter, and the like. Inducible and tissue specific expression of the nucleic acid operably linked thereto may be accomplished by placing the nucleic acid under the control of an inducible or tissue specific promoter/regulatory sequence. Examples of tissue specific or inducible promoter/regulatory sequences which are useful for this purpose include, but are not limited to the MMTV long terminal repeat (LTR) inducible promoter, and the SV40 late enhancer/promoter. In addition, promoters which are well known in the art which are induced in response to inducing agents such as metals, glucocorticoids, and the like, are also contemplated in the invention. Thus, it will be appreciated that the invention should be construed to include the use of any promoter/regulator sequence which is either know or is heretofore unknown, which is capable of driving expression of the nucleic acid operably linked thereto. One skilled in the art will appreciate, based upon the disclosure provided herein, that stem cells of the invention are useful for cell therapy. That is, such a stem cell would, when introduced into an animal, express the nucleic acid thereby providing a method of producing a protein (or disrupting expression of an undesired protein through the use of an interfering RNA), thus correcting a genetic defect in a cell, encode a protein which is not otherwise present in sufficient and/or functional quantity such that it corrects a genetic defect in the cell, and/or encodes a protein which is useful as a therapeutic in the treatment or prevention of a particular disease condition or disorder or symptoms associated therewith. Thus, stem cells of the invention are useful therapeutics allowing the expression of an isolated nucleic acid present in such cell. Stem cells of the invention can be genetically modified to express one or more RNA interference (RNAi) molecules when administered to a patient (e.g., a human). RNAi is a mechanism that inhibits gene expression by causing the degradation of specific RNA molecules or hindering the transcription of specific genes. Key to the mechanism of RNAi are small interfering RNA strands (siRNA), which have complementary nucleotide sequences to a targeted messenger RNA (mRNA) molecule. siRNAs are short, single-stranded nucleic acid molecule capable of inhibiting or down-regulating gene expression in a sequence-specific manner; see, for example, Zamore et al., Cell 101:25 33 (2000); Bass, Nature 411:428-429 (2001); Elbashir et al., Nature 411:494-498 (2001); and Kreutzer et al., International PCT Publication No. WO 00/44895; Zernicka-Goetz et al., International PCT Publication No. WO 01/36646; Fire, International PCT Publication No. WO 99/32619; Plaetinck et al., International PCT Publication No. WO 00/01846; Mello and Fire, International PCT Publication No. WO 01/29058; Deschamps-Depaillette, International PCT Publication No. WO 99/07409; and Li et al., International PCT Publication No. WO 00/44914. Methods of preparing a siRNA molecule for use in gene silencing are described in U.S. Pat. No. 7,078,196, which is hereby incorporated by reference. The application of RNAi technology (e.g., an siRNA molecule) in the present invention can occur in several ways, each resulting in functional silencing of a gene product in a stem cell population. The functional silencing of one or more endogenous stem cell gene products may increase the longevity the stem cell in vivo (e.g., by silencing one or more pro-apoptotic gene products), or increase the expression of a therapeutic polypeptide (e.g., an antibody, cytokine, or hormone). Functional gene silencing by an RNAi agent (e.g., an siRNA molecule) does not necessarily include complete inhibition of the targeted gene product. In some cases, marginal decreases in gene product expression caused by an RNAi agent can translate to significant functional or phenotypic changes in the host cell, tissue, organ, or animal. Therefore, gene silencing is understood to be a functional equivalent and the degree of gene product degradation to achieve silencing may differ between gene targets or host cell type. Gene silencing may decrease gene product expression by 1%, 2%, 3%, 4%, 5%, 6%, 7%, 8%, 9%, or 10%. Preferentially, gene product expression is decreased by 10%, 20%, 30%, 40%, 50%, 60%, 70%, 80%, 90%, or 100% (i.e., complete inhibition). Recombinant expression of non-endogenous polypeptides or oligonucleotides in stem cells of the invention can be accomplished by using any standard gene transfer technique, examples of which are discussed below. In some embodiments, viral transduction can be used to genetically modify a stem cell of the invention. Many viruses bind and infect mammalian cells and introduce their genetic material into the host cell as part of their replication cycle. Some types of viruses (e.g., retroviruses) integrate their viral genomes into the host's genome. This incorporates the genes of that virus among the genes of the host cell for the life span of that cell. In viruses modified for gene transfer, a donor gene (e.g., a humanized monoclonal antibody) is inserted into the viral genome. Additional modifications are made to the virus to improve infectivity or tropism (e.g., pseudotyping), reduce or eliminate replicative competency, and reduce immunogencity. The newly-introduced mammalian gene will be expressed in the infected host cell or organism and, if replacing a defective host gene, can ameliorate conditions or diseases caused by the defective gene. Adenoviruses and retroviruses (including lentiviruses) are particularly attractive modalities for gene therapy applications, as discussed below, due to the ability to genetically-modify and exploit the life cycle of these viruses. In some embodiments, an adenoviral vector is used. Recombinant adenoviral vectors offer several significant advantages for the expression of polypeptides (e.g., an antibodies, cytokines, or clotting factors) or oligonucleotides (e.g., an siRNA) in stem cells of the invention. The viruses can be prepared at extremely high titer, infect non-replicating cells, and confer high-efficiency and high-level transduction of target cells in vivo after directed injection or perfusion. Furthermore, as adenoviruses do not integrate their DNA into the host genome, there is a reduced risk of inducing spontaneous proliferative disorders. In animal models, adenoviral gene transfer has generally been found to mediate high-level expression for approximately one week. The duration of transgene expression may be prolonged, and ectopic expression reduced, by using tissue-specific promoters. Other improvements in the molecular engineering of the adenoviral vector itself have produced more sustained transgene expression and less inflammation. This is seen with so-called “second generation” vectors harboring specific mutations in additional early adenoviral genes and “gutless” vectors in which virtually all the viral genes are deleted utilizing a cre-lox strategy (Engelhardt et al., Proc. Natl. Acad. Sci. USA 91:6196-6200 (1994) and Kochanek et al., Proc. Natl. Acad. Sci. USA 93:5731-5736 (1996)). In addition, recombinant adeno-associated viruses (rAAV), derived from non-pathogenic parvoviruses, can be used to express a polypeptide or oligonucleotide, as these vectors evoke almost no cellular immune response, and produce transgene expression lasting months in most systems. Incorporation of a tissue-specific promoter may also be beneficial. Other viral vectors useful for the delivery of polypeptides or oligonucleotides into a subject or cells are retroviruses, including lentiviruses. As opposed to adenoviruses, the genetic material in retroviruses is RNA, while the genetic material of their hosts is in the form of DNA. When a retrovirus infects a host cell, it introduces its RNA together with enzymes into the cell. This RNA molecule is used to produce a double-stranded DNA copy (provirus) by reverse transcription. Following transport into the cell nucleus, the proviral DNA is integrated in a host chromosome, permanently altering the genome of the infected cell and any progeny cells that may arise. Retroviruses include lentiviruses, a family of viruses including human immunodeficiency virus (HIV) that includes several accessory proteins to facilitate viral infection and proviral integration. One problem with using retroviruses for gene therapy is that the integrase enzyme can insert the genetic material of the virus in an arbitrary position in the host genome, risking gene disruption (e.g., insertional mutagenesis). If the gene happens to be one regulating cell division, uncontrolled cell division (e.g., cancer) can occur. To address this problem, inclusion of zinc finger nucleases or certain sequences, such as the beta-globin locus control region, are used to direct the site of integration to specific chromosomal sites. Current, “third-generation” lentiviral vectors feature total replication incompetence, broad tropism, and increased gene transfer capacity for mammalian cells (see Mangeat et al., Human Gene Therapy 16:913-920 (2005) and Wiznerowicz et al., Trends Biotechnol. 23:42-7 (2005)). Lentiviruses pseudotyped with, e.g., vesicular stomatitis virus glycoprotein (VSV-G) or feline endogenous virus RD114 envelope glycoprotein can be used to transduce stem cells of the invention. (see, e.g., Zhang et al., J. Virol. 78:1219-1229 (2004)). U.S. Pat. Nos. 5,919,458, 5,994,136, and 7,198,950, hereby incorporated by reference, describe the production and use of lentiviruses to genetically modify target cells. Besides adenoviral and retroviral vectors, other viral vectors and techniques are known in the art that can be used to transfer a DNA vector (e.g., a plasmid) encoding a desired polypeptide or oligonucleotide into a subject or cells. These include, e.g., those described by Wattanapitayakul and Bauer (Biomed. Pharmacother 54:487-504 (2000), and citations therein. Other transfections approaches, including naked DNA or oligonucleotides (e.g., DNA vectors such as plasmids) encoding polypeptides (e.g., an antibody, cytokine, or hormone) or RNA interference molecule (e.g., an siRNA or shRNA), can be used to genetically modify stem cells of the invention. Improved transfection efficiency of nake DNA can be achieved using electroporation or a “gene gun,” which shoots DNA-coated gold particles into the cell using high pressure gas. To improve the delivery of a DNA vector (e.g., a plasmid) into a stem cell of the invention, the DNA can be protected from damage and its entry into the cell facilitated, for example, by using lipoplexes and polyplexes. Plasmid DNA can be covered with lipids in an organized structure like a micelle or a liposome. When the organized structure is complexed with DNA it is called a lipoplex. There are three types of lipids, anionic (negatively-charged), neutral, or cationic (positively-charged). Lipoplexes that utilize cationic lipids have proven utility for gene transfer. Cationic lipids, due to their positive charge, naturally complex with the negatively charged DNA. Also as a result of their charge, they interact with the cell membrane. Endocytosis of the lipoplex then occurs, and the DNA is released into the cytoplasm. The cationic lipids also protect against degradation of the DNA by the cell. Complexes of polymers with DNA are called polyplexes. Most polyplexes consist of cationic polymers and their production is regulated by ionic interactions. One large difference between the methods of action of polyplexes and lipoplexes is that polyplexes cannot release their DNA load into the cytoplasm, so to this end, co-transfection with endosome-lytic agents (to lyse the endosome that is made during endocytosis) such as inactivated adenovirus must occur. However, this is not always the case; polymers such as polyethylenimine have their own method of endosome disruption as does chitosan and trimethylchitosan. Hybrid methods have been developed that combine two or more techniques described above. Virosomes, for example, combine liposomes with an inactivated virus. This approach has been shown to result in more efficient gene transfer in respiratory epithelial cells than either viral or liposomal methods alone. Other methods involve mixing other viral vectors with cationic lipids or hybridising viruses. Each of these methods can be used to facilitate transfer of a DNA vector (e.g., a plasmid) into a stem cell of the invention. Dendrimers, a highly branched macromolecule with a spherical shape, may be also be used to genetically modify stem cells of the invention. The surface of the dendrimer particle may be functionalized to alter its properties. In particular, it is possible to construct a cationic dendrimer (i.e., one with a positive surface charge). When in the presence of genetic material such as a DNA plasmid, charge complimentarity leads to a temporary association of the nucleic acid with the cationic dendrimer. On reaching its destination, the dendrimer-nucleic acid complex can be taken into a stem cell of the invention by endocytosis. Toxicology Screening Stem cells of the invention may also be used in toxicity screening. For example, assays can be used to test the potential toxicity of compounds on stem cells of the invention or the differentiated progeny thereof. In one example, where the stem cells of the invention are differentiated into the hematopoietic lineage, hematopoietic stem cells and progenitor assays can be used as to investigate growth and differentiation of cells in response to positive and negative regulators of hematopoiesis. These assays provide the opportunity to assess the potential toxicity of compounds on specific hematopoietic (e.g. myeloid, erythroid) cell populations. U.S. Pat. No. 7,166,277, incorporated by reference in its entirety herein, describes a method of generating neural cells for the purposes of drug screening of putative therapeutic agents targeted at the nervous system. Such screening methods can be applied to stem cells of the invention which have been differentiated into neuronal cell types. Other approaches include, prior to applying the drug, transforming the cells with a promoter activated by metabolic or toxicologic challenge operably linked to a reporter gene. Exemplary promoters include those which respond to apoptosis, respond to DNA damage, respond to hyperplasia, respond to oxidative stress, are upregulated in liver toxicity, are responsive to receptors that act in the nucleus, upregulate hepatocyte enzymes for drug metabolism, are from genes which are deficient in particular disease conditions, and genes which regulate synthesis, release, metabolism, or reuptake of neurotransmitters. See, for example, the methods and exemplary promoters in U.S. Patent Application Publication No. 2006/0292695. In preferred embodiments, for example, stem cell progeny of a selected cell type can be cultured in vitro can be used for the screening of potential therapeutic compositions. These compositions can be applied to cells in culture at varying dosages, and the response of the cells monitored for various time periods. Physical characteristics of the cells can be analyzed, for example, by observing cell growth with microscopy. The induction of expression of new or increased levels of proteins such as enzymes, receptors and other cell surface molecules, or other markers of significance (e.g., neurotransmitters, amino acids, neuropeptides and biogenic amines) can be analyzed with any technique known in the art which can identify the alteration of the level of such molecules. These techniques include immunohistochemistry using antibodies against such molecules, or biochemical analysis. Such biochemical analysis includes protein assays, enzymatic assays, receptor binding assays, enzyme-linked immunosorbant assays (ELISA), electrophoretic analysis, analysis with high performance liquid chromatography (HPLC), Western blots, and radioimmune assays (RIA). Nucleic acid analysis such as Northern blots can be used to examine the levels of mRNA coding for these molecules, or for enzymes which synthesize these molecules. Preservation Once isolated and/or purified, it may be desirable to preserve the stem cells of the invention. Cell can be preserved by freezing in the presence of a cryoprotectant, i.e., an agent that reduces or prevents damage to cells upon freezing. Cryoprotectants include sugars (e.g., glucose, trehalose), glycols such as glycerol (e.g., 5-20% v/v in culture media), ethylene glycol, and propylene glycol, dextran, and dimethyl sulfoxide (DMSO) (e.g., 5-15% in culture media). Appropriate freezing conditions (e.g., 1-3° C. per minute) and storage conditions (e.g., between −140 and −180° C. or at −196° C. such as in liquid nitrogen) can be determined by one of skill in the art. Other preservation methods are described in U.S. Pat. Nos. 5,656,498, 5,004,681, 5,192,553, 5,955,257, and 6,461,645. Methods for banking stem cells are described, for example, in U.S. Patent Application Publication No. 2003/0215942. The following examples are intended to illustrate, rather than limit, the invention. Example 1 Purifying and Enriching Stem Cells from Synovial Fluid In a first step, freshly isolated synovial fluid was obtained from an osteoarthritic (OA) patient. Synovial fluid mononuclear cells were thus derived from joint aspirates. Joint aspirates can be obtained by standard methods well known to those of skill in the art. Harvesting SF Stem Cells (Heterogenous Population). Synovial fluid (SF) from OA patients was harvested, diluted in serum-free medium (AIM-V, GIBCO) or MCDB, MEM, IMDM, RPMI media, and spun at 200 g for 15 minutes at room temperature (RT). The pelleted population was then resuspended in AIM-V up to the original SF volume. The mononuclear cell number from SF ranged between 500,000 to 5 million heterologous mononuclear cells. Harvesting SF Stem Cells (Homogenous Population) The pelleted population was then resuspended in AIM-V, serum free medium developed for the ex vivo expansion of human lymphocytes, up to the original SF volume, counted, washed, and layered over a discontinuous density gradient (ROSETTE SEP DM-M, Stem Cell Technologies). The Rosette discontinuous density gradient does not allow granulocytes to pellet with smaller cells, for example, cells smaller than about 6 micrometers (μm) in diameter. In this regard, the gradient is different from, for example, a FICOLL gradient. Next, the cells were spun for 500 g (2500 RPM) for 30 minutes at room temperature. This characteristic allows only two populations of cells, RBC and stem cells, to pellet, which is useful when enriching for stem cells from bone marrow aspirate. The DM-M separates SF mononuclear cells into a buffy layer, which is found at the AIM-V and ficoll interface, and a pelleted layer which is found at the bottom of the conical portion of the tube. Immunomagnetic Bead Enrichment Stem cells of the invention do not express major histocompatibility antigen class I (MHC I) or erythroblast specific glycophorin-A (Gly-A). Therefore, the separated cells were subjected to negative selection using anti-class I, CD66b, and anti-Gly-A antibodies. This negative selection step depletes the population of class I, CD66b, and glycophorin A cells, and recovers the remaining populations, which are from about 5% to 30% of the Oct-4 protein expressing cells, and from about 1-10% marrow, blood, and tissue mononuclear cells. Cells were resuspended in blocking buffer and incubated with anti-MHC class I, anti-CD66b, and anti-glycophorin b, immunomagnetic beads for 30 minutes at 4° C. Following incubation, samples were washed and resuspended in medium at a 105-106 cells per ml and passed through a magnetic field to remove cells bound to immunomagnetic beads. Example 2 Characterization and Expansion of Enriched Stem Cells Both populations of separated cells (i.e., from the buffy layer or the pellet) were incubated with anti-MHC class I, anti-CD66b, and anti-glycophorin b, immunomagnetic beads as described above. Samples were first assessed for the expression of MHC class I, MHC class II, CD44, CD45, CD13, CD34, CD49c, CD66b, CD73, CD105 and CD90 cell surface markers and then permeabilized to determine the presence of Oct-4, Nanog, Sox-2, Rex-1, GDF-3, and Stella intracellularly. FIGS. 1a-1e are dot plots of the enriched cells, sorted into 3 groups (e.g., Group-A, -B, and -C) and analyzed for Oct-4, Rex-1, Runx2, Sox-9, Nanog, Class I, CD44, and CD45 expression. Six to thirty percent of total mononuclear population, i.e., groups A and B, expressed Oct-4, Nanog, Sox-9, and Rex-1 while group C expressed the aforementioned transcription factors at high levels, with the exception of Oct-4. The majority of the cells were negative for the above cell surface and intracellular markers, as shown in FIGS. 1a-1e. Evaluation of the mononuclear cell fraction by PCR revealed Nanog, Oct-4, Rex-1, and Sox-2 gene expression (FIG. 2). The molecular weight of the SF transcripts were similar in size to the transcripts expressed by the Ntera-2 embryonic carcinoma cell line. Accordingly, the SF stem cells express embryonic stem cell genes. Example 3 Propagation of Synovial Fluid Stem Cells Heterogenous or homogenous populations of SF stem cells not incubated with immunomagnetic beads were plated onto culture dishes coated with about 7-10 ng/ml serum fibronectin or other appropriate matrix coating. Cells were maintained in Dulbecco Minimal Essential Medium (DMEM) or 40-60% (e.g., 60%) Low Glucose DMEM and 40-60% (e.g., 40%) MCDB-201 medium supplemented with 1-50 ng/ml (e.g., about 5-15 ng/ml or 10 ng/ml) platelet-derived growth factor-BB (PDGF-BB), 1-50 ng/ml (e.g., about 5-15 ng/ml or 10 ng/ml) epidermal growth factor (EGF), 1-50 ng/ml (e.g., about 5-15 ng/ml or 10 ng/ml) insulin-like growth factor (IGF), or 100-10,000 IU (e.g., about 1,000) LIF, with 10−11 to 10−8 M (e.g., 0.01 nM) dexamethasone or other appropriate steroid(s), 2-10 μg/ml (e.g., 4.7 ng/ml) linoleic acid, and 0.05-0.15 μm (e.g., 0.1 μm) ascorbic acid. The culture medium may further include 10-50 ng/ml (e.g., 10 ng/ml) insulin, 0-10 ng/ml (e.g., 5.5 ng/ml) transferrin, and 2-10 ng/ml (e.g., 5 ng/ml) selenium. The cells can either be maintained without serum, in the presence of 1-2% fetal calf serum, or, preferably in 1-2% human AB serum or autologous serum. After 3 days, small colonies of adherent cells developed, and by days six and nine, the cells became semi-confluent (FIG. 3a). Freshly isolated SF stem cells were pulsed with CFSE and the percentage of negative cells was assessed after 6 days. FIG. 3b demonstrates the proliferation capacity of SF stem cells. Example 4 Formation of Embryoid Bodies Stem cells of the invention can form embryoid bodies in culture using standard protocols. In one example, EndoCult® Liquid Medium is added to a fibronectin-coated plate (Becton-Dickenson (BD) Biosciences Discovery BD Catalog No. 354402). 5×106 cells are plated per well in the 6-well fibronectin-coated plate and incubated for two days at 37° C., 5% CO2 with >95% humidity. After two days, numerous cell populations including mature endothelial cells and some monocytes adhere to the bottom of the well. The non-adherent cells will contain the CFU-Hill colony-forming cells, which are then harvested and further cultured for an additional 3 days to allow formation of CFU-Hill colonies. The non-adherent cells are collected by pipetting the medium in each well up and down vigorously 3-4 times to remove any non-adherent cells transiently attached to the adherent population. The non-adherent cells from each well are transferred into individual 5 ml tubes (BD Catalog No. 352058). The volume from each well is measured, e.g., using a 2 ml pipette. Nucleated cells are counted using 3% acetic acid with Methylene Blue (StemCell Technologies, Inc., Catalog No. 07060) using a hemacytometer. Approximately 3.0-3.5×106 cells are expected from one well of a 6-well plate. From each well, 1×106 cells/well are added to a 24-well fibronectin-coated plate (BD Catalog No. 354411). Fresh EndoCult® Liquid Medium is added to a final volume of 1.0 ml per well. The cells are then incubated at 37° C., 5% CO2 with >95% humidity for three days. Colonies of cells can then be observed. Example 5 Differentiation Stem cells of the invention were further characterized to assess their differentiation potential. As an example, after separation from synovial fluid as described in Example 1, the pelleted mononuclear population of stem cells was cultured in 24-well plates at 105 cell per well. After 6-9 days in standard culture medium, lineage-specific differentiation agents were added to culture. The medium was changed every 3-4 days and after 14 or 21 days, cultures were evaluated. The committed or differentiated cells of the invention may be used in the transplantation methods described above. Stem cells can also be differentiated using RNAi based methods. In one example, trophectoderm production is achieved by transfection of stem cells with OCT-4- or Nanog-targeted RNAi compounds, which reduces the levels of OCT-4 or Nanog transcripts and proteins. Reduction in OCT-4 expression correlated with induction of trophectoderm genes Cdx2, Hand1, and PL-1, with formation of cells with trophoblast giant cell phenotype after 6 days. Reduction in Nanog expression can correlate with induction of extraembryonic endoderm genes GATA4, GATA6, and laminin B1, with subsequent generation of groups of cells with parietal endoderm phenotype. Appropriate RNAi constructs for differentiation into other tissue types can be determined by one of skill in the art. Differentiation may be carried out by any means known in the art. Exemplary differentiation procedures are described below. Osteoblast Differentiation FIG. 4 (left panel) shows an example of osteoblast differentiation. Here, stem cells of the invention were plated into 24-well plates at 105 cells per cm2 in Cambrex MSC medium for 1 week. On the following day, the medium was replaced with fresh α-MEM containing 10% heat-inactivated FBS, 1% nonessential amino acids, 1% penicillin and streptomycin, 10 mM α-glycerophosphate, and 50 μM ascorbic acid 2-phosphate, with medium changes every 3-4 days. Differentiated stem cells were assayed for alkaline phophatase activity and mineral deposition by histochemical staining with the Sigma Kit 85 and Alizarin red methods, respectively, at day 14 (Pittenger et al. (1999) Science; 284:143-147). Osteoblasts can also be differentiated as follows. Medium from the cell monolayer is pipetted and discarded. The monolayer is washed with DPBS (Thermo Scientific HyClone ESQualified DPBS, Catalog No. SH30850.03) by adding 10 ml/75 cm2 to the flask, being careful not to disturb the monolayer. The flask is rocked back and forth. The DPBS is then removed from the monolayer and discarded. Trypsin (Thermo Scientific HyClone Trypsin, Catalog No. SH30042.01) was added at 3-5 mL/75 cm2 flask and rocked to cover the monolayer with the trypsin solution. Cells are incubated at 37° C. until the cells begin to detach (approximately 5 minutes, but not more than 15 minutes). Complete Mesenchymal Stem Cell Expansion Medium 90% Thermo Scientific AdvanceSTEM™ Mesenchymal Stem Cell Basal Medium, Catalog No. SH30879.02, and 10% Thermo Scientific AdvanceSTEM™ Stem Cell Growth Supplement, Catalog No. SH30878.01) is added in equal amounts to trypsin, and the cells are pipetted up and down to form a single cell suspension. The trypsin is removed by centrifuging the cells at approximately 200 g for 10 minutes at room temperature and removing the supernatant. The cell pellet is re-suspended in prewarmed complete Mesenchymal Stem Cell Expansion Medium at approximately 5 ml/pellet for a 75 cm2 flask. A small cell sample is removed and counted with a hemacytometer or cell counter. The cells are then plated on a fresh tissue culture dish at 80-90% confluency using complete Mesenchymal Stem Cell Expansion Medium. The cells are allowed to attach for at least 24 hours or until normal morphology is observed. Once the cells have attached and this level of confluency is reached, the medium is removed, the cells are rinsed with two rinses of DPBS, and an appropriate amount of complete Osteogenic Differentiation Medium (90% Thermo Scientific AdvanceSTEM Osteogenic Differentiation Medium, Catalog No. SH30881.02, and 10% Thermo Scientific AdvanceSTEM Stem Cell Growth Supplement, Catalog No. SH30878.02) is added. For a 60 mm dish, about 7 ml is sufficient. The cells are then incubated at 37° C., 5% CO2, with humidity. The medium is replaced every 3 days and osteogenesis typically takes approximately 21-28 days. Formation of osteoblasts and mineralized matrix can be detected by staining protocols known in the art. In yet another protocol, stem cells are plated at 3,000 cells/cm2 and cultured in the expansion media described above overnight. The following day, the medium is replaced with fresh α-MEM, 10% pooled human serum (PHS), 1% non-essential amino acids, 1% Pen-Strep, 10 mM β-glycerophosphate, and 50 μM ascorbic acid 2-phosphate, with media being changed every 3-4 days until osteoblasts form. Exemplary methods for forming bone are also described in U.S. Pat. No. 6,863,900, which describes enhancing bone repair by transplantation of mesenchymal stem cells. To further enhance bone formation it may be desirable to inhibit osteoclastogenesis, i.e., cells which decrease bone mass. Such methods are described in U.S. Pat. No. 6,239,157. Stem cells of the invention may also be used to augment bone formation by administration in conjunction with a resorbable polymer, e.g., as described in U.S. Pat. No. 6,541,024. Adipocyte Differentiation FIG. 4 (middle panel) shows an example of adipocyte differentiation. Here, adipocyte differentiation was induced using a commercially available adipocyte differentiation kit (Cambrex, East Rutherford, N.J.) according to the manufacturer's recommendations. Differentiated cells were evaluated by oil red O stain. SF stems cell were suspended in Mesenchymal Stem Cell Expansion Medium at a density of 100,000 cells per well in a 24-well culture dish with 1 ml volume per well and incubated overnight at 37° C. in a 5% CO2 humidified incubator. When the cells were 100% confluent, medium was removed from each well and replaced with 0.5-1 ml Adipogenesis Induction Medium (DMEM ˜90%, heat inactivated fetal bovine serum 10%, 1 μM dexamethasone, 0.5 mM IBMX, 10 μg/ml insulin, 100 μM indomethacin, 1× penicillin and streptomycin). The Adipogenesis Induction Medium was replaced every 2-3 days for 21 days. Lipid droplets were detected by microscopic examination as early as 5 days into the differentiation period. After 21 days of differentiation, adipocytes were fixed and the lipid droplets stained with Oil Red O Solution. In another example, adipocyte differentiation may be achieved as follows. Adipocytes can also be generated using the Thermo Scientific HyClone AdvanceSTEM™ Adipogenic Differentiation Kit. In this procedure, spent media from cultured cells is pipetted from the cell monolayer and discarded. The cell monolayer is then washed with Dulbecco's Phosphate Buffered-Saline (Thermo Scientific HyClone ESQualified DPBS Catalog No. SH30850.03) by adding 10 ml/75 cm2 to the flask, being careful not to disturb the monolayer. The flask is rocked back and forth, and then the DPBS is removed from the monolayer and discarded. Trypsin (e.g., Thermo Scientific HyClone Trypsin (Catalog No. SH30042.01)) is added at 3-5 ml/75 cm2 flask. The flask is rocked to ensure that the entire monolayer is covered with the trypsin solution, and incubated at 37° C. until the cells begin to detach (about 5 minutes), but no more than 15 minutes. Care should be taken that the cells are not forced to detach prematurely, as this may result in clumping. Next, complete Mesenchymal Stem Cell Expansion Medium (90% Thermo Scientific AdvanceSTEM™ Mesenchymal Stem Cell Basal Medium (Catalog No. SH30879.02) and 10% Thermo Scientific AdvanceSTEM™ Stem Cell Growth Supplement (Catalog No. SH30878.01)) are added in equal amounts to the trypsin solution and the solution is pipetted up and down until the cells are dispersed into a single cell suspension. Next, the trypsin is removed by centrifuging the cells at approximately 200 g for 10 minutes at room temperature, and the supernatant is removed. The cell pellet is then re-suspended in prewarmed complete Mesenchymal Stem Cell Expansion Medium at approximately 5 ml/pellet for a 75 cm2 flask. A small volume sample is then removed for counting with a hemacytometer or cell counter. The cells are then plated on a fresh tissue culture dish at 80-90% confluency using complete Mesenchymal Stem Cell Expansion Medium. The cells are allowed to attach for a minimum of 24 hours, or until normal morphology is observed. Once the cells have attached and this level of confluency is reached, the Mesenchymal Stem Cell Expansion Medium is removed, the cells are rinsed with two rinses of DPBS, and Adipogenic Differentiation Medium is added (90% Thermo Scientific AdvanceSTEM™ Adipogenic Differentiation Medium (Catalog No. SH30886.02) and 10% Thermo Scientific AdvanceSTEM™ Growth Supplement (Catalog No. SH30878.02)). The amount of medium will vary depending on the size of the culture dish being used; for a 60 mm dish, about 7 ml is sufficient. The cells are then incubated 37 C, 5% CO2, with humidity. Every 3 days the media is removed and replaced with fresh complete Adipogenic Differentiation Medium. Adipogenesis can then observed as formation of lipid droplets, generally within 7 days, peaking at 3-4 weeks. Other commercially available adipocyte kits include Chemicon SCR020. In another embodiment, adipogenic differentiation is achieved by seeding cells at 104 cells per cm2. First, at confluence, cells are put in D10 medium and supplemented with 1 μM dexamethasone, 0.2 mM indomethacin, 10 μg/ml insulin, and 0.5 mM 3-isobutyl-1-methyl-xanthine (all from Sigma-Aldrich). Medium is replaced every 3-4 days for 21 days. Cells are washed three times with PBS, fixed in 10% formalin for 1-2 hours, and stained for 15 minutes with fresh oil red O solution (Sigma-Aldrich) to detect adipocyte formation. Adipocytes can also be differentiated on a solid support, as described in U.S. Pat. No. 6,709,864. Neuroectoderm Differentiation FIG. 4 (right panel) shows one example of ectodermal differentiation. Stem cells were plated in a FN-coated (10 ng/ml) 24-well plate at 3,000 or 105 overnight in basal stem cell medium or expansion medium. The following day, 100 ng/ml bFGF, 10 ng/ml Noggin, 20 μM retinoic acid and cultures continued for 28 days. After 14 days, 10 ng/ml BDNF and GDNF were also added. Every 7 days, half of the medium was replaced until day 28. Neural differentiation can be evaluated via Q-RT-PCR for early neural transcription factors, Islet-1 transcription factor, orthodenticle homolog 2 (Otx-2), and paired box gene 6 (Pax-6), as well as neural cell adhesion molecule and the more mature neuronal marker MAP2, NF200, tau, and myelin basic protein (MBP). Cultures can be further analyzed via immunofluorescence for NF200, MAP2, and GFAP. Neural differentiation can also be achieved as follows. Spent medium from cell monolayer is discarded, and the cells are washed with DPBS (Thermo Scientific HyClone ESQualified DPBS, Catalog No. CSH30850.03) by adding 10 ml/75 cm2 to the flask, being careful not to disturb the monolayer. The flask is then rocked back and forth. Next, the DPBS is removed from the monolayer and discarded. Trysin (Thermo Scientific HyClone Trypsin, Catalog No. SH30042.01) is added at 3-5 ml/75 cm2 to the flask which is rocked to ensure that the entire monolayer is covered with the trypsin solution. The flask is incubated at 37° C. until the cells begin to detach (approximately 5, but less than 15, minutes). Complete Thermo Scientific HyClone AdvanceSTEM™ Mesenchymal Stem Cell Expansion Media (90% Thermo Scientific AdvanceSTEM™ Stem Cell Basal Medium (Catalog No. SH30879.02) and 10% Thermo Scientific AdvanceSTEM™ Stem Cell Growth Supplement (Catalog No. SH30878.01)) is added in equal amounts to trypsin. The cells are then pipetted up and down to form a single cell suspension. The trypsin is removed by centrifuge cells at approximately 200 g for 10 minutes at room temperature and aseptically removing the supernatant. The cells are resuspended in prewarmed complete Thermo Scientific HyClone AdvanceSTEM Neural Differentiation Media (90% Thermo Scientific AdvanceSTEM Neural Differentiation Medium, Catalog No. SH30893.02 and 10% Thermo Scientific 50 ml AdvanceSTEM Stem Cell Growth Supplement, Catalog No. SH30878.02) at approximately 5 ml/pellet for a 75 cm2 flask. A small sample is removed for counting with a hemacytometer or cell counter. On a fresh tissue culture dish, cells are plated at 30% confluency (approximately 2500 cells/cm2) using complete Mesenchymal Stem Cell Expansion Media. The cells are allow to attach (e.g., for 24 hours or until normal morphology is seen). Once the cells have attached and this level of confluency is reached, the Mesenchymal Stem Cell Expansion Media is removed. The cells are rinsed with DPBS, and complete Neural Differentiation Media is added. For a 60 mm dish, for example, about 7 ml is sufficient. The cells are then incubated at 37° C., 5% CO2, with humidity. Neural differentiation can be observed as formation of neuron-like cells, typically within 24 hours and peaking at 72 hours. To maintain cells in a differentiated state, the media is replaced every 48 hours. Differentiation into neurons, astrocytes, and oligodendrocytes can also be achieved as follows. Poly-L-Ornithine coated glass coverslips are placed into individual wells of a 24-well culture dish (e.g., Corning Catalog No. 3526) containing 1 ml/well of “Complete” NeuroCult® NS-A Differentiation Medium (Human) (StemCell Technologies. If using BioCoat 8-well Culture Slides (pre-coated with Poly-D-Lysine/Laminin, StemCell Technologies Catalog No. 35-4688, or Poly-D-Lysine Catalog No. 35-4631), add 0.75 ml/well of “Complete” NeuroCult® NS-A Differentiation Medium (Human). Proliferating stem cells are then exchanged in to in “Complete” NeuroCult® NS-A Differentiation Medium (Human) using a 10 ml disposable plastic pipette and centrifuge, and repeat to remove the expansion media. The cells are counted using hemacytometer and standard protocols. The cells are then resuspended in an appropriate volume of “Complete” NeuroCult® NS-A Differentiation Medium (Human) to yield a plating cell density of 0.8-1×105 cells/cm2 in 0.75 ml medium on a coated coverslip in a 24-well dish (e.g., 0.9-1.13×105 cells) or in a BioCoat 8-well Culture Slide (e.g., 0.56-0.7×105 cells).The cells are incubated in a 5% CO2 incubator at 37° C. After 5-10 days, the cultures are observed with an inverted light microscope to determine if cells have differentiated (attached) and are viable (phase contrast bright). Plates can be checked daily to determine if the medium needs to be changed during the differentiation procedure. If the medium becomes acidic (turns yellow), a half medium change is performed. Differentiation can be assessed using standard methods. Chondroblast Differentiation Chondroblast differentiation can be conducted according to methods known in the art. Such cells may be useful for repair of articular cartilage (e.g., due to injury), in prostheses or in joint (e.g., knee reconstruction), or for cosmetic purposes. Stem cells of the invention (105 cells per cm2) can be cultured in 1 ml of basal medium (the expansion medium described herein above without serum, EGF, or PDGF) with 10 ng/ml TGF-β1 and 100 ng/ml BMP-4 in the tip of a 15-ml conical tube and briefly spun to allow aggregation of the cells in micromass suspension culture. After 9 days, cultures can be evaluated by quantitative reverse-transcription-polymerase chain reaction (Q-RT-PCR) for collagen type II and aggrecan transcripts and stained with Alcian Blue to demonstrate cartilage matrix production. Chondroblast differentiation can also be conducted as follows. To induce chondrogenic differentiation, spent medium is pipetted from the cell monolayer and discarded. The monolayer is washed with DPBS (Thermo Scientific HyClone ESQualified DPBS (Catalog No. SH30850.03) by adding 10 ml/75 cm2 to the flask, being careful not to disturb the monolayer. The flask is rocked back and forth. The DPBS is removed and discarded from the monolayer. Trypsin (Thermo Scientific HyClone Trypsin (Catalog No. SH30042.01) is added at 3-5 mL/75 cm2 flask and rocked to ensure coverage of the entire monolayer. The cells are incubated at 37° C. until they begin to detach (5 minutes, but less than 15 minutes). The trypsin is then removed by adding an equal volume of complete Chondrogenic Differentiation medium (90% Thermo Scientific AdvanceSTEM Chondrogenic Differentiation Medium (Catalog No. SH30889.02) and 10% Thermo Scientific AdvanceSTEM Stem Cell Growth Supplement (Catalog No. SH30878.01)), spinning the cells for 10 minutes at 200 g in a swing bucket centrifuge. and gently aspirating the supernatant. Next 4 ml of fresh complete Chondrogenic Differentiation medium is added to the tube without disturbing the pellet. The cap is then loosely fitted on top of the conical tube to allow gas exchange. The tube is then incubated at 37° C., 5% CO2, with humidity. The media is replaced every 3 days without disturbing the pellet. Chrondrogenesis generally requires 28 days, which can be visualized, for example, by staining and microscopy. Other methods for differentiation of chondrocytes are described in U.S. Pat. No. 5,908,784. Here, chondrocytes are differentiated culture by culture in a cell pellet, optionally with a corticosteroid such as dexamethasone. Other methods include the use of TGF-β or BMPs such as BMP-2, BMP-12 and BMP-13, with or without ascorbate for chondrocyte differentiation, as described in U.S. Pat. No. 5,919,702. Any of these cultures may be performed in three-dimensional culture, as known in the art. Myocardiocyte Differentiation: Myocardiocyte differentiation is accomplished by adding basic fibroblast growth factor to the standard serum-free culture media without growth factors. Confluent stem cells are exposed to 5-azacytidine and to retinoic acid and cultured in stem cell expansion medium afterwards. Alternatively, stem cells are cultured with either of these inducers alone or a combination and then cultured in serum-free medium with FGF-2 or BMP-4. Cultures are assessed for expression of any of Gata4, Gata6, cardiac troponin-T, cardiac troponin-1, ANP, Myf6 transcription factor, desmin, myogenin, and skeletal actin. Endothelial Cell Differentiation Endothelial cell differentiation can be conducted according to methods known in the art. Stem cells of the invention can be plated at 0.5-1.0 105 cells/cm2 in basal medium (described above) with 100 ng/ml of VEGF-165 for 14 days. During the differentiation course, medium can be changed every 3-4 days. Differentiation cultures can be evaluated by Q-RT-PCR for VWF, CD31/Pecam, fms-like tyrosine kinase-1 (Flt-1), fetal liver kinase-1 (Flk-1), VE-cadherin, tyrosine kinase with Ig, and EGF homology domains 1 (Tie-1) and tyrosine kinase endothelial (Tek), every 3 days until day 10. Differentiated endothelial cells are stained for CD31, VWF, VE-cadherin, and VCAM-1 and evaluated for their ability to form tubes on ECMatrix and uptake acetylated low density lipoprotein (a-LDL). Tube formation can be induced by plating the differentiated endothelial cells according to the ECM625 angiogenesis assay (Chemicon) per the manufacturer's recommendations, and a-LDL uptake was performed by using Dil-Ac-LDL staining kit (Biomedical Technologies, Stoughton, Mass.) per the manufacturer's recommendations. Briefly, differentiated stem cells can be incubated with endothelium differentiation medium containing 10 μg/ml Dil-Ac-LDL for 4 hours at 37° C. and rinsed twice by Dil-Ac-LDL free endothelium medium. LDL uptake was visualized via fluorescence microscopy. Hepatocyte Differentiation Hepatocyte differentiation can be conducted according to methods known in the art. Hepatocyte differentiation will be achieved by plating 0.5-1.0 105 cells/cm2 of stem cells on 2% Matrigel-coated (BD354234; BD Biosciences, San Diego) plastic chamber slides in basal medium (described above) with 100 ng/ml FGF-4 and HGF for 15 days. During the differentiation course, medium can be changed every 3 days as needed. Differentiation cultures can be evaluated by Q-RT-PCR for HNF-3, HNF-1, CK18 and CK19 albumin, and CYB2B6 every 3 days until day 12. Differentiated cells can be evaluated by immunofluorescence microscopy for albumin, CK18, and HNF-1 protein expression. To assess the function of hepatocyte-like cells, karyotyping, telomere length, and telomerase activity measurements can be performed. Karyotyping can be conducted by plating enriched cells at 500 cells per cm2 48 hours prior to harvesting, followed by 10 μl/ml colcemid incubation for 2-3 hours. After collection with 0.25% Trypsin-EDTA cells can be lysed with a hypotonic solution and fixation in alcohol. Metaphases can be analyzed after Giemsa staining. For the telomerase assay, equal numbers of enriched cells can be lysed in 1× 3-[(3-cholamidopropyl) dimethylammonio]-1-propanesulfonic acid (CHAPS) buffer for 10 minutes on ice. Debris can then be pelleted at 13,000 g for 10 minutes. Protein can be quantified by the method of Bradford. One to two μg of protein can be used in the telomere repeat amplification protocol (TRAP). The TRAP protocol, which uses an enzyme-linked immunosorbent assay (ELISA)-based detection system to determine telomerase activity, can be done according to the manufacturer's instructions (Chemicon). Positive activity is defined as OD 450-690 reading >0.2 of test samples after subtracting heat-inactivated controls. Smooth Muscle Cell Differentiation Smooth muscle cell differentiation can be conducted according to methods known in the art. For example, stem cells of the invention can be plated into 24-well plates at 3000 or 105 cells/cm2 in basal medium (described above) supplemented with 10 ng/ml PDGF and 5 ng/ml TGF-β1. During the differentiation course, medium can be changed every 3-4 days as needed. Smooth muscle cell (SMC) differentiation can be evaluated by RT-PCR for calponin, SM actin, smoothelin, gata-6, and myocardin and immunofluorescence (IF) staining for calponin, SM actin, sm22, and caldesmon. Skeletal Muscle Cell Differentiation Stem cells of the invention can also be differentiated into skeletal muscle tissue. In one example, 5-Azacytidine can be used to differentiate stem cells of the invention into muscle cells. Stem cells can be plated in a variety of densities of 1-4×104 cells per cm2 on glass or TPX slides coated with fibronectin, Matrigel, gelatin, or collagen (Stem Cell Technologies). The cells can then be exposed to concentrations of 5-azacytidine (e.g., 1-24 μM) for 6-48 hours duration in either 2% human serum, FBS, or serum-free medium (defined as DMEM with 2 mM L-glutamine, 50 U/ml penicillin, 50 μg/ml streptomycin supplemented with 10 ng/ml platelet-derived growth factor-BB, and epidermal growth factor (Sigma-Aldrich) and ITS-plus (Fisher Scientific International). In some experiments, cells received a further 24-hour exposure to 5-azacytidine 3 days later. Following 5-azacytidine exposure, cells were maintained in serum-free medium for up to 21 days. To augment differentiation after a few days, human serum with dexamethasone and hydrocortisone, myoblast-Conditioned medium, or Galectin-1 may be added. Myogenic differentiation can be observed by morphological criteria and immunostaining for desmin and sarcomeric myosin. Myogenic conversion can be assessed by counting the number of cells positive for desmin and MF20. Pax7, MyoD, and Myogenin expression can be similarly assessed using immunocytochemical staining. Pancreatic Islet-Like Differentiation Stem cell of the invention are plated onto gelatinized dishes in the presence of LIF, in expansion medium or other appropriate maintenance medium (e.g., DMEM containing 15% FBS, 1 mM sodium pyruvate, 100 U/ml penicillin, 100 μg/ml streptomycin, 2 mM glutamine, 0.1 mM Non-essential amino acids (StemCell Technologies, Catalog No. 07100), 10 ng/ml LIF, 100 μm MTG). The cells are allowed to grow for two days. Next, Differentiation Medium (15% Fetal Bovine Serum 0.1 mM MEM Non-Essential Amino Acids (StemCell Technologies, Catalog No. 07600) 2 mM L-Glutamine, and 1 mM MTG in High Glucose DMEM) is added low adherent dishes (e.g., Ultra-Low Adherent dishes, StemCell Technologies). The stem cells are trysinized, and resuspended in Differentiation Medium, and plated onto the low adherent plates. On the second day, the medium is exchanged for fresh Differentiation Medium. The culture continues for 4 days. Next, nestin positive cells are enriched. The cells are transferred to a 14 ml polystyrene tube, and allowed to settle (3-5 min). The media is removed, and replaced with ES-Cult Basal Medium-A (StemCell Technologies Catalog No. 07151) supplemented with ITS. The cells are then plated, and cultured for six days, changing media every two days. The medium is then removed, the cells are washed with PBS. Cells are then trypsinized, and the medium is replaced with Pancreatic Proliferation Medium (1× N2 Supplement-A (Catalog No. 07152), 1× B27 Supplements 50× (Catalog No. 07153), 25 ng/ml recombinant human FGF-b (Catalog No. 02634), and ES-Cult™ Basal Medium-A (Catalog No. 05801) to final volume of 100 ml). The cells are counted and seeded at 5×105 cells/ml media in a 24 well dish. Media is changed every 2 days for 6 days total. On the sixth day, the medium is replaced with Pancreatic Differentiation Medium (1× N2 Supplement-A, 1× B27 Supplements, 10 mM nicotinamide (Catalog No. 07154), ES-Cult™ Basal Medium-A to final volume of 100 ml). After six days, the insulin production can be detected (e.g., by ELISA). Other methods for pancreatic cell differentiation can be found in U.S. Pat. No. 6,022,743. Bone and Bone Cell Production Stem cells of the invention may also be cultured under conditions which result in production of bone or bone cells, and related compositions. Such cells and compositions may be useful, for example, in treating bone diseases such as osteoporosis or to treat injuries to bone. Bone Marrow Production Stem cells of the invention may also be used to produce bone marrow or to enhance bone marrow engraftment. Exemplary procedures are described in U.S. Pat. Nos. 5,733,542 and 5,806,529. Hematopoietic Stem Cell Production Stem cells of the invention may also be cultured under conditions that form hematopoietic stem cells. Exemplary methods for doing so are described in U.S. Patent Application Publication No. 2003/0153082. Briefly, cell can be cultured in the presence of hematogenic cytokines such as stem cell factor (SCF), interleukin 3 (IL-3), interleukin 6 (IL-6), granulocyte-colony-stimulating factor (G-CSF)—either alone, or in combination with bone morphogenic proteins such as BMP-2, BMP-4, or BMP-7. Typically, at least two, three, or more than three such factors are combined to create a differentiation cocktail. In one example, embryoid bodies are cultured for 10 days, and then plated in an environment containing 100-300 ng/ml of both SCF and Flt-3L, 10-50 ng/ml of IL-3, IL-6, and G-CSF, 100 ng/ml SHH, and 5-100 ng/ml BMP-4—all in a medium containing 20% fetal calf serum or in serum-free medium containing albumin, transferring and insulin. After 8 to 15 days, hematopoietic cells can be evaluated for CD45+ and CD34+ expression. In another example, the cytokines and BMP-4 can be added to the culture the next day after embryoid body formation, which can further enhance the proportion of CD45+ cells after 15 to 22 days. The presence of BMP-4 can allow the user to obtain populations in which 4, 10, or more secondary CFUs form from each primary CFU, which indicate the presence of self-renewing hematopoietic progenitors. Dendritic Cells Stem cells of the invention may also be cultured under conditions which form dendritic cells. Such cells may be useful in vaccinations against cancer by genetically altering the cells to express a cancer antigen such as telomerase reverse transcriptase (TERT). The vaccine may then be administered to a subject having a cancer or at increased risk of developing such a cancer. Exemplary differentiation procedures are described in U.S. Patent Application Publication 2006/0063255. Thus, differentiation can be initiated in a non-specific manner by forming embryoid bodies or culturing with one or more non-specific differentiation factors. Embryoid bodies (EBs) can be made in suspension culture. Undifferentiated stem cells can be harvested by brief collagenase digestion, dissociated into clusters or strips of cells, and passaged to non-adherent cell culture plates. The aggregates can be fed every few days, and then harvested after a suitable period, typically 4-8 days. Specific recipes for making EB cells from stem cells of are found in U.S. Pat. No. 6,602,711, WO 01/51616, and U.S. Patent Application Publication Nos. 2003/0175954 and 2003/0153082. Alternatively, fairly uniform populations of more mature cells can be generated on a solid substrate; see, e.g., U.S. Patent Application Publication Nos. 2002/019046. In one example, the cells can be first differentiated into an intermediate cell (either as an isolated cell type or in situ) that has features of multipotent hematopoietic precursor cells (e.g., CD34+CD45+CD38− and the ability to form colonies in a classic CFU assay). This can be accomplished by culturing with hematopoietic factors such as interleukin 3 (IL-3), BMP-4, optionally in combination with factors such SCF, Flt-3L, G-CSF, other bone morphogenic factors, or monocyte conditioned medium. The medium used can be any compatible medium (e.g., X-VIVO™ 15 expansion medium (Biowhittaker/Cambrex), and Aim V (Invitrogen/Gibco)). See also WO 98/30679 and U.S. Pat. No. 5,405,772. In addition or as a substitute for some of these factors, hematopoietic differentiation can be promoted by co-culturing with a stromal cell lineage (e.g., mouse lines OP9 or Ac-6, commercially available human mesenchymal stem cells, or the hES derived mesenchymal cell line HEF1 (U.S. Pat. No. 6,642,048)), or by culturing medium preconditioned in stromal cells culture. The hematopoietic intermediate can be further differentiated into antigen presenting cells or dendritic cells that may have one or more of the following features in any combination: CD40+, CD80+, CD83+, CD86+, Class II MHC+, highly Class I MHC+, CD14−, CCR5+, and CCR7+. This can be accomplished by culturing with factors such as GM-CSF, IL-4, or IL-13, a pro-inflammatory cytokine such as TNFα or IL-6, and interferon gamma (IFNγ). Another approach directs stem cells towards the phagocytic or dendritic cell subset early on. Intermediate cells may already bear hallmarks of monocytes ontologically related to dendritic cells or phagocytic antigen presenting cells, and may have markers such as cell surface F4/80 and Dec205, or secreted IL-12. They need not have the capability of making other types of hematopoietic cells. They are made by using IL-3 and/or stromal cell conditioned medium as before, but the GM-CSF is present in the culture concurrently. Maturation of the phagocytic or dendritic cell precursor is achieved in a subsequent step: potentially withdrawing the IL-3, but maintaining the GM-CSF, and adding IL-4 (or IL-13) and a pro-inflammatory cytokine. Other factors that may be use include IL-1β, IFNγ, prostaglandins (e.g., PGE2), and transforming growth factor beta (TGFβ); along with TNFα and/or IL-6. A more mature population of dendritic cells can emerge. In either the above methods, it may be beneficial to mature the cells further by culturing with a ligand or antibody that is a CD40 agonist (U.S. Pat. Nos. 6,171,795 and 6,284,742), or a ligand for a Toll-like receptor (such as LPS, a TLR4 ligand; poly I:C, a synthetic analog of double stranded RNA, which is a ligand for TLR3; Loxoribine, which a ligand for TLR7; or CpG oligonucleotides, synthetic oligonucleotides that contain unmethylated CpG dinucleotides in motif contexts, which are ligands for TLR9), either as a separate step (shown by the open arrows), or concurrently with other maturation factors (e.g., TNFα and/or IL-6). In some embodiments, the cells are divided into two populations: one of which is used to form mature dendritic cells that are immunostimulatory, and the other of which is used to form toleragenic dendritic cells. The toleragenic cells may be relatively immature cells that are CD80−, CD86−, and/or ICAM-1−. They may also be adapted to enhance their toleragenic properties (e.g., transfected to express Fas ligand, or inactivated by irradiation or treatment with mitomycin c). Functional studies described below can be carried out to characterize the committed progeny. Albumin Secretion Human albumin concentrations can be determined using an ELISA. Concentrations of albumin can be determined by generating standard curves from known concentrations of human albumin. Peroxidase-conjugated and affinity-purified anti-human albumin and reference human albumin can be obtained from Brigham and Women's Hospital Laboratory. To verify specificity of results, conditioned medium from endothelial differentiations and unconditioned hepatocyte differentiation medium can be used. Urea Secretion Urea secretion can be assessed by colorimetric assay (DIUR-500 BioAssay Systems) per the manufacturer's instructions. Conditioned medium from endothelial differentiations and unconditioned hepatocyte differentiation medium can be used as negative controls. Periodic Acid-Schiff Staining Slides can be oxidized for 5 minutes in 1% periodic acid-Schiff (PAS) (Sigma-Aldrich) and rinsed several times with double-distilled H2O (ddH2O). Samples can be incubated with Schiff's reagent for 15 minutes, rinsed several times with ddH2O, immediately counterstained with hematoxylin for 1 minute, and washed several times with ddH2O. The observations made in this example demonstrate that the adult synovial fluid contains a sub-population of stem cells and that with the appropriate stimuli, these cells can function as mesodermal, ectodermal, or endodermal cell types. Example 4 Isolation of Proliferative Stem Cells with a Lenti-Oct-4 GFP Vector FACs analysis of the SF stem cells, performed according to the methods described in Example 2, reveals varying levels of intracellular Oct-4 protein expression (FIG. 6). An additional enrichment scheme involves the use of a vector to isolate a proliferative stem cell of the invention. The vector comprises a stem cell-specific promoter coupled to a heterologous nucleic acid sequence encoding at least one selectable marker gene, which enables isolation of the desired stem cell. After separation from synovial fluid as described in Example 1, the pelleted mononuclear population of stem cells were resuspended to 105 per ml and placed in 6-well tissue culture plastic. Lenti-Oct-4-GFP was added to the suspension and cultured for three days (FIG. 7a), four days (FIG. 7b), and nine days (FIG. 7c). The GFP-expressing cells were subsequently sorted into individual wells by flow cytometry. FIG. 6 shows a slide dot plot of the Oct-4 intracellular stain of the pelleted population of stem cells. 30% of the freshly isolated synovial fluid stem cells are Oct-4+ but in most samples, Oct-4 is expressed in 5%-6% of the stem cells. Vector Design FIGS. 8a-8c show a vector map of an exemplary lentiviral vector for use in the invention. The lentiviral vector shown in panel a is used for the stem cell specific expression of H2B-EGFP in stem cells. The lentiviral vector in panel b is used for the stem cell specific expression of GFP-ZEOCIN in stem cells. In certain embodiments of the invention, the vector may be used for the stem-cell specific expression of a master regulator gene, for example as shown in FIG. 6c, where the lentiviral vector is constructed for the stem-cell specific expression of IRES EGFP in stem cells. In other embodiments of the invention, co-transducible viral vectors are desirable for the tetracycline-inducible and stem/lineage progenitor cell-specific expression of a master regulator gene, for example CDX4 and/or one of the HOX genes, and IRES EGFP in stem cells. FIGS. 9a and 9b show a cotransducible lentiviral vector that is suitable for use according to this embodiment. Transduction and Selection FIGS. 10a and 10b show schematics of lentiviral constructs containing a stem cell-specific promoter, for example Oct-4, Nanog, HTert, Rex, that is capable of driving the expression of a marker such as H2B-EGFP or GFP in stem cells. Following transduction with the lentivirus, the cells are left in culture for 24-72 hours. At this time, selection is carried out. A number of methods are useful for selection, dependent upon the construction of the vector. For instance, FACS sorting can be used to sort EGFP+ cells. Alternatively, blasticidin or Zeocin selection can be used when appropriate. Accordingly, following selection those transduced cells expressing H2B-EGFP will be sorted and selected. FIG. 11a shows the same experimental procedure, using a lentiviral vector that expresses a master regulator gene, for example CDX4 or a HOX gene. FIG. 11b shows cotransduction of a lentiviral vector that uses a stem cell promoter driving the expression of a tetracycline (TA)-IRES-EGFP together with a lentiviral vector containing tetracycline (tetO) linked to CMV promoter (CMVmin) and a master gene. The experiments can also be applied in vivo. FIG. 12a shows the generation of humanized rTtA transgenic mice for the in vivo expansion of repopulating human cell lineage-specific progenitor/stem cells. Transgenic mice comprising rTtA that is knocked in downstream of a cell lineage promoter, for example Vav promoter, for expression in mouse stem cells. These mice are crossed with transgenic mice comprising tetracycline responsive promoter driving the expression of diphtheria toxin, for example tetO-CMVmin-DTA. This cross produces a transgenic mouse for tetracycline ablation of mouse cell-specific lineages. Addition of doxycycline allows for selection of tetracycline-resistant cells. FIG. 12b shows the generation of humanized rTtA transgenic mice for the in vivo expansion of repopulating human cell lineage-specific progenitor/stem cells (e.g. human CD34+ repopulating hematopoietic stem cells). Lentiviral transduction can be carried out using the VIRAPOWER T-REX Lentiviral Expression System, a product of Invitrogen (full product information available on the world wide web at invitrogen.com/content/sfs/manuals/virapower_trex_lenti_man.pdf). The VIRAPOWER T-REX Lentiviral Expression System is a Gateway-adapted, lentiviral destination vector for high-level, regulated expression in dividing and non-dividing mammalian cells. The VIRAPOWER Lentiviral Technology facilitates highly efficient, in vitro or in vivo delivery of a target gene or RNA to dividing and non-dividing mammalian cells using a replication-incompetent lentivirus. The TREX Technology facilitates tetracycline-regulated expression of a gene of interest in mammalian cells through the use of regulatory elements from the E. coli Tn 10-encoded tetracycline (Tet) resistance operon (Hillen and Berens, Annu. Rev. Microbiol. 48, 345-369, 1994; Hillen et al., J. Mol. Biol. 169, 707-721, 1983). Tetracycline regulation in the T-REX System is based on the binding of tetracycline to the Tet repressor and derepression of the promoter controlling expression of the gene of interest (Yao et al., Hum. Gene Ther. 9, 1939-1950, 1998). When the inducible expression construct and the regulatory expression construct are present in the same mammalian cell, expression of the gene of interest is repressed in the absence of tetracycline and induced in its presence (Yao et al., as above). GATEWAY Technology is a universal cloning method that takes advantage of the site-specific recombination properties of bacteriophage lambda (Landy, 1989) to provide a rapid and highly efficient way to move the DNA sequence of interest into multiple vector systems. The expression system contains the gene of interest under the control of a tetracycline-regulatable, hybrid CMV/TO promoter. This expression plasmid contains elements that allow packaging of the construct into virions and the ZEOCIN resistance marker for selection of stably transduced cell lines. The system includes an expression plasmid that constitutively expresses high levels of the tetracycline (Tet) repressor under the control of a CMV promoter. This expression plasmid also contains elements that allow packaging of the construct into virions and the Blasticidin resistance marker for selection of stably transduced VIRAPOWER T-REX cell lines. Those skilled in the art will recognize, or be able to determine using no more than routine experimentation, variations on the foregoing examples that will permit them to identify many other stem cells than the ones described herein. Other Embodiments All patents, patent applications, and publications mentioned in this specification including U.S. Provisional Application No. 60/927,596, filed May 3, 2007 are herein incorporated by reference to the same extent as if each independent patent, patent application, or publication was specifically and individually indicated to be incorporated by reference.\",\n",
              "  'TECHNICAL FIELD The present invention relates to a xanthine oxidase inhibitor and a uric acid-producing inhibitor. BACKGROUND ART Uric acid is a metabolic product originating from nucleic acids as a carrier of genetic information or ATP as a carrier of energy, and it is secreted as a final degradation product of purine compounds in mammals, etc. Regarding the mechanism of this metabolism, hypoxanthine is converted into xanthine, and then xanthine is converted into uric acid. This reaction is catalyzed by a xanthine oxidase. When an abnormality in the metabolism of purine compounds by xanthine oxidase occurs, various disorders are caused. As an example, hyperuricemia can be mentioned (Non-Patent Literature 1). In general, saturation solubility of sodium urate in blood serum is believed to be 7 mg/dL at 37° C. Thus, when the blood uric acid concentration is more than 7 mg/dL, there is a possibility that crystals of uric acid are precipitated in a human body. Accordingly, a symptom in which the blood uric acid concentration is more than 7 mg/dL is called “hyperuricemia.” In addition, the abnormality in the metabolism of purine compounds may also cause gout. When the blood uric acid concentration stays continuously high, crystals of uric acid salt accumulate within or around a joint. Due to such phenomenon, a symptom like occurrence of acute arthritis, gouty node, joint dysfunction and joint deformation, etc. is caused. Such symptom is called “gout,” which is a disorder capable of causing various complications like renal dysfunction and vascular dysfunction, etc. In addition, it is known that uric acid is a risk factor for cardiovascular diseases (Non-Patent Literatures 2 to 7) and a cardiovascular disease such as hypertension is caused by the increase in value of uric acid in blood (Non-Patent Literatures 8 to 11). Conventionally, the number of patients suffering from gout and hyperuricemia is not so high in Japan. As such, not so much attention has been paid to prevention of gout and hyperuricemia. However, in recent years, a rapid change occurs in lifestyle and the number of people who eat high calorie, high protein and high fat foods is on the rise. Furthermore, an increasing number of onset of gout is reported according to increased stress, etc. Thus, greater attention is now being paid to the prevention and amelioration of gout or hyperuricemia, which is a risk factor thereof. Until now, in order to improve or prevent hyperuricemia, gout, or a cardiovascular disease that is caused by high content value of uric acid in blood, “Probenecid (trade name)” as a uricosuric drug or “Allopurinol (trade name)” as a uric acid-producing inhibitor has been provided. However, those are problematic in that they are transient, and side effects like gastric dysfunction, rash, decrease in white blood cells, decrease in platelets, hepatic dysfunction and renal dysfunction, etc. are accompanied therewith. As such, in order to prevent or improve the disorders described above, there is a need to control or reduce the value of uric acid in blood to an appropriate level by inhibiting the production of uric acid in a living body. PRIOR ART LITERATURE Non-Patent Literatures Non-Patent Literature 1: Ogasawara Masashi et al., “Purine and Pyrimidine Metabolism”, 1994, Vol. 18, No. 1, p. 1-10 Non-Patent Literature 2: Franse L. V. et al., “J Hypertens”, 2000, Vol. 18, p. 1149-1154 Non-Patent Literature 3: Fang J. et al., “JAMA”, 2000, Vol. 283, No. 18, p. 2404-2410 Non-Patent Literature 4: Tomita Masako, et al., “Purine and Pyrimidine Metabolism”, 1998, Vol. 22, No. 1, p. 133-139 Non-Patent Literature 5: Hakoda M. et al., “J Rheumatol”, 2005, Vol. 32, p. 906-912 Non-Patent Literature 6: Alderman M. H. et al., “Hypertention”, 1999, Vol. 34, p. 144-150 Non-Patent Literature 7: Verdecchia P. et al., “Hypertention”, 2000, Vol. 36, p. 1072-1078 Non-Patent Literature 8: Johonson R. J. et al., “Hypertention”, 2005, Vol. 45, p. 18-20 Non-Patent Literature 9: Feig D. I. et al., “Kidney Int”, 2004, Vol. 66, p. 281-287 Non-Patent Literature 10: Mahomed F. A., “Lancet”, 1879, Vol. 1, p. 399-401 Non-Patent Literature 11: Haig A. et al., “British Medical Journal”, 1889, Vol. 1, p. 288-291 SUMMARY OF INVENTION An object of the present invention is to provide a xanthine oxidase inhibitor having an excellent inhibitory effect on xanthine oxidase. Another object of the present invention is to provide a uric acid-producing inhibitor having an excellent inhibitory effect on uric acid production. Further object of the present invention is to provide an agent for improving or preventing gout, hyperuricemia or a cardiovascular disease which is effective, highly safe and free of any side effect even when it is continuously used, and has an effect of improving or preventing gout, hyperuricemia or a cardiovascular disease. Yet further object of the present invention is to provide a food product or a beverage which has an inhibitory effect on xanthine oxidase, an inhibitory effect on production of uric acid and/or an effect of improving or preventing gout, hyperuricemia or a cardiovascular disease. In view of the problems described above, inventors of the present invention found that an extract from specific plant species inhibits production of uric acid which is catalyzed by xanthine oxidase and has an inhibitory effect on xanthine oxidase. The present invention was completed based on this finding. The present invention resides in a xanthine oxidase inhibitor, comprising an extract from at least one member selected from the group consisting of Zanthoxylum bungeanum, Sorghum nervosum, Cuminum cyminum, Rosa centifolia, Pimenta officinalis, Origanum majorana, Psidium guajava, Pimpinella anisum, Olea europaea, Illicium verum, Canavalia gladiata, Hyssopus officinalis, Ribes nigrum, Vaccinium myrtillus, Artemisia princeps and Haematoxylon campechianum L. Further, the present invention resides in a uric acid-producing inhibitor, comprising an extract from at least one member selected from the group consisting of Zanthoxylum bungeanum, Sorghum nervosum, Cuminum cyminum, Rosa centifolia, Pimenta officinalis, Origanum majorana, Psidium guajava, Pimpinella anisum, Olea europaea, Illicium verum, Canavalia gladiata, Hyssopus officinalis, Ribes nigrum, Vaccinium myrtillus, Artemisia princeps and Haematoxylon campechianum L. Furthermore, the present invention resides in an agent for improving or preventing gout or hyperuricemia, comprising an extract from at least one member selected from the group consisting of Zanthoxylum bungeanum, Sorghum nervosum, Cuminum cyminum, Rosa centifolia, Pimenta officinalis, Origanum majorana, Psidium guajava, Pimpinella anisum, Olea europaea, Illicium verum, Canavalia gladiata, Hyssopus officinalis, Ribes nigrum, Vaccinium myrtillus, Artemisia princeps and Haematoxylon campechianum L. Furthermore, the present invention resides in an agent for improving or preventing a cardiovascular disease, comprising an extract from at least one member selected from the group consisting of Zanthoxylum bungeanum, Sorghum nervosum, Cuminum cyminum and Rosa centifolia. Furthermore, the present invention resides in a food product or a beverage, comprising, as an effective component, an extract from at least one member selected from the group consisting of Zanthoxylum bungeanum, Sorghum nervosum, Cuminum cyminum, Rosa centifolia, Pimenta officinalis, Origanum majorana, Psidium guajava, Pimpinella anisum, Olea europaea, Illicium verum, Canavalia gladiata, Hyssopus officinalis, Ribes nigrum, Vaccinium myrtillus, Artemisia princeps and Haematoxylon campechianum L. Furthermore, the present invention resides in use of an extract from at least one member selected from the group consisting of Zanthoxylum bungeanum, Sorghum nervosum, Cuminum cyminum, Rosa centifolia, Pimenta officinalis, Origanum majorana, Psidium guajava, Pimpinella anisum, Olea europaea, verum, Canavalia gladiata, Hyssopus officinalis, Ribes nigrum, Vaccinium myrtillus, Artemisia princeps and Haematoxylon campechianum L. as a xanthine oxidase inhibitor, a uric acid-producing inhibitor, an inhibitor against increase in value of blood uric acid or a preventing agent against onset possibility of gout or hyperuricemia. Furthermore, the present invention resides in use of an extract from at least one member selected from the group consisting of Zanthoxylum bungeanum, Sorghum nervosum, Cuminum cyminum and Rosa centifolia as a preventing agent against onset possibility of a cardiovascular disease. Furthermore, the present invention resides in an extract from at least one member selected from the group consisting of Zanthoxylum bungeanum, Sorghum nervosum, Cuminum cyminum, Rosa centifolia, Pimenta officinalis, Origanum majorana, Psidium guajava, Pimpinella anisum, Olea europaea, Illicium verum, Canavalia gladiata, Hyssopus officinalis, Ribes nigrum, Vaccinium myrtillus, Artemisia princeps and Haematoxylon campechianum L. for use in the improvement or prevention of gout or hyperuricemia. Furthermore, the present invention resides in an extract from at least one member selected from the group consisting of Zanthoxylum bungeanum, Sorghum nervosum, Cuminum cyminum and Rosa centifolia for use in the improvement or prevention of a cardiovascular disease. Furthermore, the present invention resides in a method of inhibiting a xanthine oxidase, inhibiting production of uric acid, inhibiting an increase in a value of blood uric acid, or improving or reducing onset probability of gout or hyperuricemia, which comprises administering an extract from at least one member selected from the group consisting of Zanthoxylum bungeanum, Sorghum nervosum, Cuminum cyminum, Rosa centifolia, Pimenta officinalis, Origanum majorana, Psidium guajava, Pimpinella anisum, Olea europaea, Illicium verum, Canavalia gladiata, Hyssopus officinalis, Ribes nigrum, Vaccinium myrtillus, Artemisia princeps and Haematoxylon campechianum L. Still furthermore, the present invention resides in a method of improving a cardiovascular disease or reducing onset possibility of the disease, which comprises administering an extract from at least one member selected from the group consisting of Zanthoxylum bungeanum, Sorghum nervosum, Cuminum cyminum and Rosa centifolia. The xanthine oxidase inhibitor of the present invention has an excellent inhibitory effect on an activity of xanthine oxidase. Furthermore, the uric acid-producing inhibitor of the present invention has an excellent inhibitory effect on uric acid production. Furthermore, the agent for improving or preventing gout, hyperuricemia or a cardiovascular disease of the present invention is effective, highly safe and free of any side effect even when it is continuously used, and therefore has an effect of improving or preventing gout, hyperuricemia or a cardiovascular disease. Still furthermore, the food product and the beverage of the present invention have an inhibitory effect on xanthine oxidase, an inhibitory effect on production of uric acid, and/or an effect of improving or preventing gout, hyperuricemia or a cardiovascular disease. Other and further features and advantages of the invention will appear more fully from the following description, appropriately referring to the accompanying drawings. BRIEF DESCRIPTION OF DRAWINGS FIG. 1 is a diagram which illustrates xanthine oxidase inhibition rates when an extract of Rosa centifolia, Cuminum cyminum, Zanthoxylum bungeanum or Sorghum nervosum is added. FIG. 2 is a diagram which illustrates xanthine oxidase inhibition rates when an extract of Pimenta officinalis, Psidium guajava or Origanum majorana is added. FIG. 3 is a diagram which illustrates xanthine oxidase inhibition rates when an extract of Illicium verum, Hyssopus officinalis, Pimpinella anisum, Vaccinium myrtillus, Artemisia princeps, Canavalia gladiata, Ribes nigrum, Haematoxylon campechianum L. or Olea europaea is added. FIG. 4 is diagram which illustrates values of uric acid in blood serum when an extract of Cuminum cyminum, Zanthoxylum bungeanum or Sorghum nervosum was orally administered to induced hyperuricemic model rats. FIG. 5 is diagram which illustrates values of uric acid in blood serum when an extract of Pimenta officinalis was orally administered to induced hyperuricemic model rats. MODE FOR CARRYING OUT THE INVENTION A xanthine oxidase inhibitor and a uric acid-producing inhibitor according to the present invention comprises an extract from at least one member selected from the group consisting of Zanthoxylum bungeanum, Sorghum nervosum, Cuminum cyminum, Rosa centifolia, Pimenta officinalis, Origanum majorana, Psidium guajava, Pimpinella anisum, Olea europaea, Illicium verum, Canavalia gladiata, Hyssopus officinalis, Ribes nigrum, Vaccinium myrtillus, Artemisia princeps and Haematoxylon campechianum L. These extracts are originated from natural products. In addition, they are the extracts of those which have been conventionally ingested as herb medicine and a spice, etc. Thus, the xanthine oxidase inhibitor and uric acid-producing inhibitor of the present invention have no side effects even when they are continuously used, and they are useful as a highly safe pharmaceutical agent, a food product or a beverage which has an effect of improving or preventing gout, hyperuricemia or a cardiovascular disease. In the present invention, Zanthoxylum bungeanum is a deciduous shrub belonging to genus Zanthoxylum in the Rutaceae family, native to China. Conventionally, a herb medicine containing seeds of Zanthoxylum bungeanum as a raw material has been mainly used as a common drug for stomachache or diarrhea. In the present invention, Sorghum nervosum is an annual plant belonging to genus Sorghum in the Poaceae family, native to tropical Africa. Conventionally, Sorghum nervosum has been mainly used as grains, raw materials for producing alcohol, and coloring materials. In the present invention, Cuminum cyminum is an annual plant belonging to genus Cuminum in the Apiaceae family, native to Egypt, etc. Conventionally, Cuminum cyminum has been mainly used as a spice. In the present invention, Rosa centifolia is a plant belonging to genus Rosa in the Rosaceae family, native to France, etc. Conventionally, Rosa centifolia has been mainly used as an ornamental plant or a raw material for preparing perfume. Specifically, petals of pink rose or the like are used as an example of the Rosa centifolia. In the present invention, Pimenta officinalis indicates fruits or leaves of an evergreen high tree belonging to genus Pimenta in the Myrtaceae family, which is called “allspice” and native to Jamaica. Conventionally, it has been mainly used as a spice. In the present invention, Origanum majorana is a perennial plant belonging to genus Origanum in the Lamiaceae family, native to Egypt. Conventionally, Origanum majorana has been mainly used as a spice. In the present invention, Psidium guajava is a tropical evergreen shrub belonging to genus Psidium in the Myrtaceae family native to Mexico and the tropical United States. In the present invention, Pimpinella anisum is an annual plant belonging to genus Pimpinella in the Apiaceae family, native to eastern mediterranean region including Greece and Egypt, etc. The Pimpinella anisum seed (also known as “aniseed”), which is the fruit of the plant, is mainly used as a spice and perfume. In the present invention, Olea europaea is an evergreen high tree belonging to genus Olea in the Oleaceae family, native to mediterranean coast region. Fruits of the plant (i.e., sarcocarp and seeds) are used as a raw material for olive oil. In the present invention, Illicium verum is an evergreen high tree belonging to genus Illicium in the Illiciaceae family, native to China. Dried fruits of the plant are mainly used as a spice which is called “star anise.” In the present invention, Canavalia gladiata is an annual plant belonging to genus Canavalia in the Fabaceae family, which is also known “sword bean” and cultivated in tropical Asia region, etc. The Canavalia gladiata is used as an oriental medicine, a health food product and a health tea. In the present invention, Hyssopus officinalis is a semi-evergreen shrub belonging to genus Hyssopus in the Lamiaceae family, native to Europe and Southeastern Asia. Hyssopus officinalis is mainly used as aroma oil. In the present invention, Ribes nigrum is a deciduous shrub belonging to genus Ribes in the Grossulariaceae family, which is native to Europe and Central Asia and also referred to as cassis. Fruits of the plant are mainly used as food. In the present invention, Vaccinium myrtillus is a deciduous shrub belonging to genus Vaccinium in the Ericaceae family, which is native to North America and also referred to as Bilberry. Vaccinium myrtillus is mainly consumed as a raw food or used for producing a processed food product, etc. In the present invention, Artemisia princeps is a perennial plant belonging to genus Artemisia in the Asteraceae family, which is native to Japan and Korean Peninsula and also referred to mugwort. Conventionally, Artemisia princeps has been mainly used as a food material. In the present invention, Haematoxylon campechianum L. is an evergreen medium-height tree belonging to genus Haematoxylon in the Caesalpiniaceae family, native to Mexico, and it is also called “logwood.” Haematoxylon campechianum L. is mainly used as a source for obtaining honey, a dye, a pigment and an ink, etc. According to the present invention, any part of the plants described above can be used. For example, one or a plurality of any parts like the whole tree, whole plant, roots, tubers, trunks, branches, stems, leaves, tree barks, tree sap, tree lipids, flowers, petals, flower buds, fruits, pericarps, husks, seeds, shells, sprouts, flower spikes and core materials and a combination thereof can be used. In the present invention, it is preferable that seeds of Zanthoxylum bungeanum be used to obtain the extract of Zanthoxylum bungeanum. In the present invention, it is preferable that fruits or husks of Sorghum nervosum be used to obtain the extract of Sorghum nervosum. It may be possible to use commercially available Sorghum nervosum pigment (for example, the Sorghum nervosum pigment manufactured by OCI Corporation) as the extract of Sorghum nervosum. In the present invention, it is preferable that seeds of Cuminum cyminum be used to obtain the extract of Cuminum cyminum. In the present invention, it is preferable that petals or flower buds of Rosa centifolia be used to obtain the extract of Rosa centifolia. In the present invention, it is preferable that fruits and/or leaves of Pimenta officinalis be used to obtain the extract of Pimenta officinalis. In the present invention, it is preferable that leaves and/or above-ground parts of Origanum majorana be used to obtain the extract of Origanum majorana. In the present invention, it is preferable that leaves, fruits and/or pericarps of Psidium guajava be used to obtain the extract of Psidium guajava. In the present invention, it is preferable that fruits and/or seeds of Pimpinella anisum be used to obtain the extract of Pimpinella anisum. In the present invention, it is preferable that fruits, seeds and/or leaves of Olea europaea be used to obtain the extract of Olea europaea. It is particularly preferable that the leaves be used for extraction. In the present invention, it is preferable that pericarps, fruits and/or seeds of Illicium verum be used to obtain the extract of Illicium verum. In the present invention, it is preferable that above-ground parts of a Canavalia gladiata be used to obtain the extract of Canavalia gladiata. It is particularly preferable that the shells and/or seeds be used for extraction. In the present invention, it is preferable that above-ground parts like leaves, stems, sprouts, flowers and the like of Hyssopus officinalis be used to obtain the extract of Hyssopus officinalis. It is particularly preferable that the leaves of Hyssopus officinalis be used for extraction. In the present invention, it is preferable that leaves, fruits and/or seeds of Ribes nigrum be used to obtain the extract of Ribes nigrum. It is particularly preferable that the fruits of Ribes nigrum be used. In the present invention, it is preferable that above-ground parts of Vaccinium myrtillus be used to obtain the extract of Vaccinium myrtillus. It is particularly preferable that the leaves, fruits, pericarps and/or seeds of Vaccinium myrtillus be used for extraction. In the present invention, it is preferable that above-ground parts including whole plant like leaves, stems, sprouts and flower spikes, etc. of Artemisia princeps be used to obtain the extract of Artemisia princeps. It is particularly preferable that the leaves of Artemisia princeps be used for extraction. In the present invention, it is preferable that above-ground parts of Haematoxylon campechianum L. be used to obtain the extract of Haematoxylon campechianum L. A method of producing an extract of Zanthoxylum bungeanum, Sorghum nervosum, Cuminum cyminum, Rosa centifolia, Pimenta officinalis, Origanum majorana, Psidium guajava, Pimpinella anisum, Olea europaea, Illicium verum, Canavalia gladiata, Hyssopus officinalis, Ribes nigrum, Vaccinium myrtillus, Artemisia princeps or Haematoxylon campechianum L. for use in the present invention is not specifically limited. By performing extraction with the plant based on an ordinary method in the art, the extract can be obtained. Specifically, juice obtained by subjecting dried products of the plants, smashed products thereof or the plants themselves to pressure-extraction, a crude extract obtained by using water or an organic solvent such as alcohol, ether and acetone, and an extraction fraction that is obtained by purifying the crude extract by distribution or various chromatographies like column chromatography, etc. may be used as the extract in the present invention. These can be used singly or in combination of two or more. In the present invention, it is preferable to use an extract which is obtained from a dried product obtained by drying the plant or smashed product thereof by using water, alcohol or their mixture. The extraction time and extraction temperature required for obtaining the extract for use in the present invention are not specifically limited. With respect to the extraction time, it is preferably 30 minutes to 20 days, and more preferably 1 day to 10 days. With respect to the extraction temperature, it is preferably 0 to 100° C. and more preferably 10 to 70° C. The extract obtained from the plant may be used as it is as a xanthine oxidase inhibitor or a uric acid-producing inhibitor. Alternatively, it may be used as a xanthine oxidase inhibitor or a uric acid-producing inhibitor after it is added with an appropriate liquid or solid vehicle or an extender like titanium oxide, calcium carbonate, distilled water, lactose and starch. In addition, the extract may be used as an agent for inhibiting an increase in a value of blood uric acid, or a preventing agent against onset possibility of gout or hyperuricemia. In such case, the amount of the extract of Zanthoxylum bungeanum, Sorghum nervosum, Cuminum cyminum, Rosa centifolia, Pimenta officinalis, Origanum majorana, Psidium guajava, Pimpinella anisum, Olea europaea, Illicium verum, Canavalia gladiata, Hyssopus officinalis, Ribes nigrum, Vaccinium myrtillus, Artemisia princeps or Haematoxylon campechianum L. in the xanthine oxidase inhibitor, the uric acid-producing inhibitor, the agent for inhibiting an increase in value of blood uric acid or the preventing agent against onset possibility of gout or hyperuricemia is not specifically limited. However, in terms of solid content concentration, the extract is preferably contained in an amount of 0.001 to 100% by mass, more preferably 0.01 to 80% by mass, and still more preferably 0.1 to 80% by mass. The extract of each of Zanthoxylum bungeanum, Sorghum nervosum, Cuminum cyminum, Rosa centifolia, Pimenta officinalis, Origanum majorana, Psidium guajava, Pimpinella anisum, Olea europaea, Illicium verum, Canavalia gladiata, Hyssopus officinalis, Ribes nigrum, Vaccinium myrtillus, Artemisia princeps and Haematoxylon campechianum L. has an activity of inhibiting a xanthine oxidase and an activity of inhibiting uric acid production. As such, the extract from at least one member selected from the group consisting of Zanthoxylum bungeanum, Sorghum nervosum, Cuminum cyminum, Rosa centifolia, Pimenta officinalis, Origanum majorana, Psidium guajava, Pimpinella anisum, Olea europaea, Illicium verum, Canavalia gladiata, Hyssopus officinalis, Ribes nigrum, Vaccinium myrtillus, Artemisia princeps and Haematoxylon campechianum L. can be used as a pharmaceutical agent for the prevention of gout, hyperuricemia or a cardiovascular disease like hypertension, and the like, and reduction or improvement of their onset possibility. Furthermore, a food product and a beverage containing the extract from at least one member selected from the group consisting of Zanthoxylum bungeanum, Sorghum nervosum, Cuminum cyminum, Rosa centifolia, Pimenta officinalis, Origanum majorana, Psidium guajava, Pimpinella anisum, Olea europaea, Illicium verum, Canavalia gladiata, Hyssopus officinalis, Ribes nigrum, Vaccinium myrtillus, Artemisia princeps and Haematoxylon campechianum L. have an effect of inhibiting a xanthine oxidase, an effect of inhibiting uric acid production, an effect of inhibiting an increase in value of blood uric acid, and an effect of improving or preventing gout, hyperuricemia and a cardiovascular disease or reducing their onset possibility. It has never been known before that the extract of each of Zanthoxylum bungeanum, Sorghum nervosum, Cuminum cyminum, Rosa centifolia, Pimenta officinalis, Origanum majorana, Psidium guajava, Pimpinella anisum, Olea europaea, Illicium verum, Canavalia gladiata, Hyssopus officinalis, Ribes nigrum, Vaccinium myrtillus, Artemisia princeps and Haematoxylon campechianum L. has an activity of inhibiting xanthine oxidase and an activity of inhibiting uric acid production, and it is first discovered by the inventors of the present invention. The xanthine oxidase inhibitor and uric acid-producing inhibitor which contains, as an effective component, the extract from at least one member selected from the group consisting of Zanthoxylum bungeanum, Sorghum nervosum, Cuminum cyminum, Rosa centifolia, Pimenta officinalis, Origanum majorana, Psidium guajava, Pimpinella anisum, Olea europaea, Illicium verum, Canavalia gladiata, Hyssopus officinalis, Ribes nigrum, Vaccinium myrtillus, Artemisia princeps and Haematoxylon campechianum L. can be used as it is as the beverage or the food product of the present invention. Alternatively, they can be used as an additive or a blend preparation for a beverage or a food product. In the present invention, the additive or the blend preparation for a beverage or a food product indicates an additive or a blend preparation generally used for a beverage of a food product like a perfume, a pigment and an anti-oxidizing agent, that is mixed with the xanthine oxidase inhibitor or the uric acid-producing inhibitor which contains, as an effective component, the extract from at least one member selected from the group consisting of Zanthoxylum bungeanum, Sorghum nervosum, Cuminum cyminum, Rosa centifolia, Pimenta officinalis, Origanum majorana, Psidium guajava, Pimpinella anisum, Olea europaea, Illicium verum, Canavalia gladiata, Hyssopus officinalis, Ribes nigrum, Vaccinium myrtillus, Artemisia princeps and Haematoxylon campechianum L. The xanthine oxidase inhibitor or the uric acid-producing inhibitor of the present invention may be used as it is as an agent for improving or preventing gout, hyperuricemia or a cardiovascular disease. Alternatively, by incorporating the xanthine oxidase inhibitor or the uric acid-producing inhibitor of the present invention as an effective component and mixing with other components, it may be used as an agent for improving or preventing gout, hyperuricemia or a cardiovascular disease. By mixing the agent for improving or preventing gout, hyperuricemia or a cardiovascular disease of the present invention with an appropriate amount of the extract of Zanthoxylum bungeanum, Sorghum nervosum, Cuminum cyminum, Rosa centifolia, Pimenta officinalis, Origanum majorana, Psidium guajava, Pimpinella anisum, Olea europaea, Illicium verum, Canavalia gladiata, Hyssopus officinalis, Ribes nigrum, Vaccinium myrtillus, Artemisia princeps and/or Haematoxylon campechianum L., and if necessary, with various additives, pharmaceutical agents of various formulations can be prepared. For example, it may be prepared as an orally administered drug like a tablet, a capsule, a granule, a powder, a syrup and an extract, or a parenterally administered drug like an ointment, an eye ointment, a lotion, a cream, a patch, a suppository, an eye drop, a nose drop and an injection solution. These pharmaceutical agents can be produced by using various additives according to an ordinary method. The additives used are not specifically limited and those that are commonly used may be used. Examples thereof include a solid carrier such as starch, lactose, white sugar, mannitol, carboxymethylcellulose, corn starch and inorganic salt; a liquid carrier such as distilled water, physiological saline, aqueous glucose solution, alcohol like ethanol, propylene glycol and polyethylene glycol; an oil carrier such as various animal or vegetable oils, white vaseline, paraffin and waxes; a stabilizing agent, a humidifying agent, an emulsifying agent, a binding agent, and an isotonic agent. With respect to the agent for improving or preventing gout, hyperuricemia or a cardiovascular disease of the present invention, the mixing ratio of the extract is not particularly limited. In terms of solid content concentration, the extract is admixed in an amount of preferably 0.001 to 100% by mass, more preferably 0.01 to 80% by mass, and still more preferably 0.1 to 80% by mass. The effective dosage of the agent for improving or preventing gout, hyperuricemia or a cardiovascular disease of the present invention is appropriately selected and determined based on age, body weight, symptom and condition of a patient, an administration route, an administration schedule, a preparation type, and strength of the inhibitory activity of a material, and the like. For oral administration, for example, it is preferably 0.001 to 10 g/kg of body weight per day in general. It can be also administered in several divided doses per day. The xanthine oxidase inhibitor or uric acid-producing inhibitor which contains, as an effective component, the extract from at least one member selected from the group consisting of Zanthoxylum bungeanum, Sorghum nervosum, Cuminum cyminum, Rosa centifolia, Pimenta officinalis, Origanum majorana, Psidium guajava, Pimpinella anisum, Olea europaea, Illicium verum, Canavalia gladiata, Hyssopus officinalis, Ribes nigrum, Vaccinium myrtillus, Artemisia princeps and Haematoxylon campechianum L. can be used as it is as the beverage or the food product of the present invention. Furthermore, a food product or a beverage which contains, as an effective component, the xanthine oxidase inhibitor or uric acid-producing inhibitor which contains, as an effective component, the extract from at least one member selected from the group consisting of Zanthoxylum bungeanum, Sorghum nervosum, Cuminum cyminum, Rosa centifolia, Pimenta officinalis, Origanum majorana, Psidium guajava, Pimpinella anisum, Olea europaea, Illicium verum, Canavalia gladiata, Hyssopus officinalis, Ribes nigrum, Vaccinium myrtillus, Artemisia princeps and Haematoxylon campechianum L. can provided. The food product or beverage of the present invention which contains the extract described above has an effect of inhibiting a xanthine oxidase, an effect of inhibiting uric acid production and an effect of inhibiting an increase in value of blood uric acid, as well as an effect of improving or preventing gout, hyperuricemia and a cardiovascular disease, and reducing their onset possibility. Thus, based on the idea of having an effect of inhibiting a xanthine oxidase, an effect of inhibiting uric acid production, an effect of inhibiting an increase in value of blood uric acid, an effect of improving or preventing gout, hyperuricemia or a cardiovascular disease, or reducing their onset possibility, the food product or beverage of the present invention containing the extract described above may be applied to a functional food and beverage product, a food and beverage product for a patient, and a special health food and beverage product in which the point of use is indicated, if necessary. Furthermore, the xanthine oxidase inhibitor and the uric acid-producing inhibitor of the present invention may be used for production of the functional food and beverage product, the food and beverage product for a patient, and the special health food and beverage product that are described above. The food product containing the xanthine oxidase inhibitor or uric acid-producing inhibitor of the present invention as an effective component may be provided by adding an appropriate aiding agent to the xanthine oxidase inhibitor or uric acid-producing inhibitor containing, as an effective component, the extract of Zanthoxylum bungeanum, Sorghum nervosum, Cuminum cyminum, Rosa centifolia, Pimenta officinalis, Origanum majorana, Psidium guajava, Pimpinella anisum, Olea europaea, Illicium verum, Canavalia gladiata, Hyssopus officinalis, Ribes nigrum, Vaccinium myrtillus, Artemisia princeps and/or Haematoxylon campechianum L., and by molding them using an ordinary means to a form suitable for eating, for example, a granule, a particle, a tablet, a capsule and a paste. Furthermore, the food product of the present invention can be provided as a candy, a troche, a gum, a yogurt, an ice cream, a pudding, a jelly, a sweet jelly of red beans and the like in which an appropriate amount of the xanthine oxidase inhibitor or uric acid-producing inhibitor of the present invention containing, as an effective component, the extract of Zanthoxylum bungeanum, Sorghum nervosum, Cuminum cyminum, Rosa centifolia, Pimenta officinalis, Origanum majorana, Psidium guajava, Pimpinella anisum, Olea europaea, Illicium verum, Canavalia gladiata, Hyssopus officinalis, Ribes nigrum, Vaccinium myrtillus, Artemisia princeps and/or Haematoxylon campechianum L. is contained. These food products may be provided by an ordinary method with addition of various additives, if necessary. The beverage of the present invention can be provided as an alcoholic drink, a coffee drink, a juice, a fruit juice drink, a soda drink, a cooling and refreshing drink, a milk, a whey beverage, a yogurt drink and the like in which an appropriate amount of the xanthine oxidase inhibitor or uric acid-producing inhibitor of the present invention containing, as an effective component, the extract of Zanthoxylum bungeanum, Sorghum nervosum, Cuminum cyminum, Rosa centifolia, Pimenta officinalis, Origanum majorana, Psidium guajava, Pimpinella anisum, Olea europaea, Illicium verum, Canavalia gladiata, Hyssopus officinalis, Ribes nigrum, Vaccinium myrtillus, Artemisia princeps and/or Haematoxylon campechianum L. is contained. These beverages may be prepared by an ordinary method with addition of various additives, if necessary. These food products or beverages which contain as an effective component the xanthine oxidase inhibitor or uric acid-producing inhibitor of the present invention may be produced according to an ordinary method by appropriately mixing additives generally used for a food product or a beverage like glucose, fructose, sucrose, maltose, sorbitol, stevioside, rubusoside, corn syrup, lactose, citric acid, tartaric acid, malic acid, succinic acid, lactic acid, L-ascorbic acid, dl-α-tocopheol, sodium erythorbate, glycerin, propylene glycol, glycerin fatty acid ester, polyglycerin fatty acid ester, sucrose fatty acid ester, sorbitan fatty acid ester, propylene glycol fatty acid ester, gum Arabic, carrageenan, casein, gelatin, pectin, agar, vitamin B groups, nicotinic acid amide, calcium pantothenate, amino acids, calcium salts, pigments, perfumes and preservatives. With respect to the food product or beverage containing, as an effective component, the xanthine oxidase inhibitor or uric acid-producing inhibitor of the present invention, the mixing ratio of the extract of Zanthoxylum bungeanum, Sorghum nervosum, Cuminum cyminum, Rosa centifolia, Pimenta officinalis, Origanum majorana, Psidium guajava, Pimpinella anisum, Olea europaea, Illicium verum, Canavalia gladiata, Hyssopus officinalis, Ribes nigrum, Vaccinium myrtillus, Artemisia princeps or Haematoxylon campechianum L. is not particularly limited. In terms of solid content concentration, the extract is admixed in an amount of preferably 0.001 to 100% by mass, more preferably 0.01 to 80% by mass, and still more preferably 0.1 to 80% by mass. When a food product, a beverage or a pharmaceutical agent which contains, as an effective component, the xanthine oxidase inhibitor or uric acid-producing inhibitor of the present invention is to be prepared, other extracts which also exhibit an activity of inhibiting a xanthine oxidase or an activity of inhibiting uric acid production may be used together (for example, an extract of rosemary, peppermint or the like (see, JP-A-2003-252776)). In such case, the mixing ratio between the extract for use in the present invention and other extract is not specifically limited. However, in terms of the solid content of an extract (i.e., an extract component), it is generally from about 1:9 to 9:1 in mass ratio. EXAMPLES Hereinafter, the present invention will be described more in detail with reference to Examples, but it should be understood that the technological scope of the present invention is not particularly limited by the following Examples. 1. Preparation of Various Extracts (1) Preparation of Cuminum cyminum Extract To 40 g of Cuminum cyminum seeds (obtained from SHINWA BUSSAN CO., LTD.), 400 mL of aqueous ethanol solution (50% by volume) was added, and then extraction was carried out for 14 days at room temperature under a stable condition. After that, the extract was obtained by performing filtration. The solid content concentration of the extract was 1.64% (w/v). (2) Preparation of Rosa centifolia Extract To 10 g of petals of pink rose (obtained from TOCHIMOTO TENKAIDO CO., LTD.), 100 mL of aqueous ethanol solution (50% by volume) was added, and then extraction was carried out for 7 days at room temperature under a stable condition. After that, the Rosa centifolia extract was obtained by performing filtration. The solid content concentration of the extract was 4.52% (w/v). (3) Preparation of Zanthoxylum bungeanum Extract To 10 g of seeds of Zanthoxylum bungeanum (obtained from TOCHIMOTO TENKAIDO CO., LTD.), 100 mL of aqueous ethanol solution (50% by volume) was added, and then extraction was carried out for 7 days at room temperature under a stable condition. After that, the Zanthoxylum bungeanum extract was obtained by performing filtration. The solid content concentration of the Zanthoxylum bungeanum extract was 2.24% (w/v). (4) Preparation of Sorghum nervosum Extract Sorghum nervosum pigment (obtained from OCI Corporation) was dissolved in an aqueous ethanol solution (50% by volume) to have 1% (w/v) concentration, and as a result, the Sorghum nervosum extract was prepared. (5) Preparation of Pimenta officinalis Extract To 10 g of fruit part of Pimenta officinalis (obtained from TOCHIMOTO TENKAIDO CO., LTD.), 100 mL of aqueous ethanol solution (50% by volume) was added, and then extraction was carried out for 7 days at room temperature under a stable condition. After that, the extract was obtained by performing filtration. The solid content concentration of the extract was 1.33% (w/v). (6) Preparation of Psidium guajava Extract The extract powder of Psidium guajava leaves (obtained from MATSUURA YAKUGYOU Co., Ltd.) was dissolved in an aqueous ethanol solution (20% by volume) to have the concentration of 1% (w/v), and as a result, the extract was obtained. (7) Preparation of Origanum majorana Extract To 10 g of above-ground parts of Origanum majorana (including leaves) (obtained from TOCHIMOTO TENKAIDO CO., LTD.), 100 mL of aqueous ethanol solution (50% by volume) was added, and then extraction was carried out for 7 days at room temperature under a stable condition. After that, the extract was obtained by performing filtration. The solid content concentration of the extract was 2.22% (w/v). (8) Preparation of Pimpinella anisum Extract To 10 g of seeds of Pimpinella anisum (obtained from TOCHIMOTO TENKAIDO CO., LTD.), 100 mL of aqueous ethanol solution (50% by volume) was added, and then extraction was carried out for 7 days at room temperature under a stable condition. After that, the extract was obtained by performing filtration. The solid content concentration of the extract was 1.12% (w/v). The extract was diluted with aqueous ethanol solution (50% by volume), to be 1.00% (w/v) of the solid content concentration. (9) Preparation of Olea europaea Extract The Olea europaea extract powder (obtained from NIPPON Funmatsu Yakuhin Co., Ltd.), which has been prepared by extraction from Olea europaea leaves with ethanol, was dissolved in an aqueous ethanol solution (40% by volume) to obtain the Olea europaea extract with a solid content concentration of 1.00% (w/v). (10) Preparation of Illicium verum Extract To 10 g of fruits of Illicium verum (star anise) (obtained from TOCHIMOTO TENKAIDO CO., LTD.), 100 mL of aqueous ethanol solution (50% by volume) was added, and then extraction was carried out for 7 days at room temperature under a stable condition. After that, the extract was obtained by performing filtration. The solid content concentration of the extract was 2.51% (w/v). The extract was diluted with aqueous ethanol solution (50% by volume), to be 1.00% (w/v) of the solid content concentration. (11) Preparation of Canavalia gladiata Extract To 10 g of Canavalia gladiata (obtained from SHINWA BUSSAN CO., LTD.), 100 mL of hot water was added, and then extraction was carried out for 7 hours at 70° C. After that, the liquid extract was obtained by performing filtration. The liquid extract was added with ethanol (99.5% by volume) to give an aqueous ethanol solution (10% by volume). The solid content concentration of this liquid extract was 0.76% (w/v). (12) Preparation of Hyssopus officinalis Extract To 10 g of above-ground parts of Hyssopus officinalis (obtained from TOCHIMOTO TENKAIDO CO., LTD.), 100 mL of aqueous ethanol solution (50% by volume) was added, and then extraction was carried out for 7 days at room temperature under a stable condition. After that, the extract was obtained by performing filtration. The solid content concentration of the extract was 1.76% (w/v). The extract was diluted with aqueous ethanol solution (50% by volume), to be 1.00% (w/v) of the solid content concentration. (13) Preparation of Ribes nigrum Extract The Ribes nigrum extract powder (obtained from Kenko Corporation) which has been prepared from fruits of Ribes nigrum from Northern Europe was dissolved in an aqueous ethanol solution (50% by volume) to obtain the Ribes nigrum extract with solid content concentration of 1.00% (w/v). (14) Preparation of Vaccinium myrtillus Extract The Vaccinium myrtillus extract powder (obtained from Kenko Corporation) was dissolved in an aqueous ethanol solution (50% by volume) to obtain the Vaccinium myrtillus extract with solid content concentration of 1.00% (w/v). (15) Preparation of Artemisia princeps Extract The dried Artemisia princeps extract F (obtained from Maruzen Pharmaceuticals Co., Ltd.) which has been prepared by extraction from dried Artemisia princeps leaves with hot water was dissolved in an aqueous ethanol solution (20% by volume) to obtain the Artemisia princeps extract with solid content concentration of 1.00% (w/v). (16) Preparation of Haematoxylon campechianum L. Extract The logwood extract (trade name: HEMATEIN, obtained from ICHIMARU PHARCOS), which is an extract of Haematoxylon campechianum L., was dissolved in an aqueous ethanol solution (20% by volume) to obtain the Haematoxylon campechianum L. extract with solid content concentration of 1.00% (w/v). 2. Evaluation of Effect of Inhibiting Xanthine Oxidase and Effect of Inhibiting Uric Acid Production Hypoxanthine (manufactured by Wako Pure Chemical Industries, Ltd.; concentration: 100 μM/L) and a xanthine oxidase (originating from buttermilk; manufactured by Wako Pure Chemical Industries, Ltd.; concentration: 0.01 unit/mL) were dissolved in a sodium phosphate buffer solution (pH: 7.6; concentration in the reaction solution: 25 mM/L) to prepare a sample solution. To this sample solution, various extracts which had been prepared in the above preparative examples were added to have a concentration of 1% by volume, 0.1% by volume or 0.01% by volume, and then the components reacted with each other. After reaction of the reaction solution for 30 minutes at room temperature, 0.3 mol/L of perchloric acid was added in the amount that was the half of the amount of the reaction solution to terminate the reaction. Upon the completion of the reaction, 0.2 mol/L of sodium dihydrogen phosphate was added in the amount that was the half of the amount of the reaction solution to give a sample for HPLC. The amount of the uric acid contained in the sample for HPLC was measured using the HPLC system (manufactured by SHIMADZU CORPORATION). Summary of the HPLC system is described below. (Summary of HPLC System) System controller: SCL-10A (trade name, manufactured by SHIMADZU CORPORATION) Column oven: CTO-10A (trade name, manufactured by SHIMADZU CORPORATION) Pump: LC-10AD (trade name, manufactured by SHIMADZU CORPORATION) Auto-sampler: SIL-10A (trade name, manufactured by SHIMADZU CORPORATION) Detector: SPD-10A (trade name, manufactured by SHIMADZU CORPORATION) The above sample for HPLC in an amount of 50 μL was injected to a column (trade name: INERTSIL ODS-3 (particle diameter of 5 μm, inner diameter of 4.6 mm, and length of 250 mm, manufactured by GL Sciences Inc.)), and then eluted at a column temperature of 40° C. using an elution solution (5% methanol, 60 mM phosphoric acid, 14 mM disodium hydrogen phosphate (pH 2.2)) with a flow rate of 1.0 mL/min. By measuring the absorbance at 265 nm, the measurement of the uric acid amount produced was carried out. As a control test, the production amount of uric acid was also measured by HPLC for the reaction solution not containing any of the above extracts. The activity of inhibiting a xanthine oxidase (activity of inhibiting uric acid production) upon the addition of various extracts was calculated according to the following equation. Activity of inhibiting a xanthine oxidase(xanthine oxidase inhibition rate)(%)={(B−A)/B}×100 Herein, A indicates the production amount of uric acid when the above extract was added, and B indicates the production amount of uric acid when none of the above extracts was added. Results are shown in Table 1 and FIGS. 1 to 3. TABLE 1 (Average ± Standard Deviation (n = 3)) Xanthine oxidase inhibition rate (%) 1% by 0.1% by 0.01% by Kind of extract volume volume volume Cuminum cyminum 74.0 ± 4.2 26.3 ± 10.1 1.7 ± 15.1 Rosa centifolia 94.0 ± 0.8 42.8 ± 1.2 14.1 ± 16.6 Zanthoxylum 61.1 ± 2.7 — — bungeanum Sorghum nervosum 56.3 ± 0.5 — — Pimenta officinalis 86.8 ± 1.8 31.9 ± 1.8 8.2 ± 11.4 Psidium guajava 66.7 ± 6.4 — — Origanum majorana 93.9 ± 1.5 — — Pimpinella anisum 68.8 ± 0.3 10.7 ± 0.9 7.5 ± 6.2 Olea europaea 59.2 ± 0.8 21.4 ± 0.3 1.3 ± 7.0 Illicium verum 43.6 ± 4.4 20.0 ± 2.8 10.9 ± 4.0 Canavalia gladiata 72.6 ± 4.2 16.1 ± 1.8 11.3 ± 2.4 Hyssopus officinalis 48.1 ± 2.4 9.3 ± 3.0 12.0 ± 1.9 Ribes nigrum 76.8 ± 0.7 27.9 ± 1.3 8.5 ± 2.6 Vaccinium myrtillus 69.0 ± 0.7 16.2 ± 0.9 4.4 ± 1.9 Artemisia princeps 40.5 ± 2.1 3.0 ± 2.5 3.3 ± 2.2 Haematoxylon 76.8 ± 0.7 31.7 ± 6.2 7.1 ± 4.1 campechianum L. As clearly shown in Table 1 and FIGS. 1 to 3, it was found that each of the extracts of Zanthoxylum bungeanum, Sorghum nervosum, Cuminum cyminum, Rosa centifolia, Pimenta officinalis, Origanum majorana, Psidium guajava, Pimpinella anisum, Olea europaea, Illicium verum, Canavalia gladiata, Hyssopus officinalis, Ribes nigrum, Vaccinium myrtillus, Artemisia princeps and Haematoxylon campechianum L. has an activity of inhibiting a xanthine oxidase and an activity of inhibiting uric acid production. In addition, it was also confirmed that no uric acid was produced in the reaction solution which did not contain the extract and the enzyme (i.e., xanthine oxidase). Therefore, the xanthine oxidase inhibitor and the uric acid-producing inhibitor of the present invention were found to have an excellent effect of inhibiting an activity of a xanthine oxidase and an excellent effect of inhibiting production of uric acid, respectively. 3. Evaluation of an Effect of Preventing Hyperuricemia SD male rats (6 week old; provided by Charles River Laboratories Japan Inc.) were bred in a stainless bracket breeding cage under the temperature of 23±2° C., humidity of 55±10%, and 12-hour light/dark cycle (light period: from 7:00 AM to 7:00 PM). During the breeding, the rats were fed with solid feeds for test animals (CE-2 solid feed, manufactured by CLEA Japan, Inc.) and tap water using an automatic water feeding machine with free access. Onset of hyperuricemia in the rat was caused by slight modification of the method using oxonic acid, i.e., a hyperuricemia-inducing agent, as described in “Eur J Pharmacol,” 1993, Vol. 241, No. 3, pp. 183-188 by Komoriya K. et al. Specifically, the rats were divided into five groups, each group having 5 animals with similar average body weight, yielding no oxonic acid administration group-1, oxonic acid administration control group-1, oxonic acid-Cuminum cyminum extract administration group, oxonic acid-Zanthoxylum bungeanum extract administration group, and oxonic acid-Sorghum nervosum extract administration group. Meanwhile, other rats different from the above were divided into three groups, each group having 5 animals with similar average body weight, yielding no oxonic acid administration group-2, oxonic acid administration control group-2 and oxonic acid-Pimenta officinalis extract administration group. Animals of no oxonic acid administration group-1, oxonic acid administration control group-1, oxonic acid-Cuminum cyminum extract administration group, oxonic acid-Zanthoxylum bungeanum extract administration group and oxonic acid-Sorghum nervosum extract administration group were forced to fast for 12 hours. After that, the animals of the no oxonic acid administration group-1 were orally administered with 0.5 w/v % methylcellulose solution (400 cP, sterilized, manufactured by Wako Pure Chemical Industries, Ltd.) in a dosage of 5 mL/kg of body weight. To the groups other than the no oxonic acid administration group-1, potassium oxonate (manufactured by Sigma Aldrich Chemie Gmbh) dissolved in 0.5 w/v % methylcellulose solution to have the concentration of 500 mg/5 mL was orally administered in a dosage of 5 mL/kg of body weight. One hour after the administration of oxonic acid, to the groups of oxonic acid-Cuminum cyminum extract administration group, oxonic acid-Zanthoxylum bungeanum extract administration group and oxonic acid-Sorghum nervosum extract administration group, a freeze-dry product of Cuminum cyminum extract, a freeze-dry product of Zanthoxylum bungeanum extract or a freeze-dry product of Sorghum nervosum extract, which was dissolved in 0.5 w/v % methylcellulose solution to have the concentration of 4 g/20 mL, was orally administered in a dosage of 20 mL/kg of body weight, while other groups received oral administration of 0.5 w/v % methylcellulose solution in a dosage of 20 mL/kg of body weight. Three hours after the administration, 200 μL of blood was drawn from jugular vein while the animal was being anesthetized. Thus-obtained blood was transferred to a CapiJet Capillary Blood Collection Tube (trade name, purchased from TERUMO Corporation) and centrifuged at 3500×g for 5 minutes to separate blood serum. As a result, a sample for measuring the amount of uric acid in blood serum was obtained. To 20 μL of this sample for measuring the amount of uric acid in blood serum, 200 μL of 0.3 mol/L perchloric acid was added. The resultant was allowed to stand on ice for 30 minutes and centrifuged at 20000×g for 20 minutes to obtain the supernatant. To 100 μL of the supernatant, 100 μL of 0.2 mol/L sodium dihydrogen phosphate was added to give a sample for HPLC. The amount of the uric acid contained in the sample for HPLC was measured using the HPLC system (manufactured by SHIMADZU Corporation). Summary of the HPLC system is described below. (Summary of HPLC System) System controller: SCL-10A (trade name, manufactured by SHIMADZU CORPORATION) Column oven: CTO-10A (trade name, manufactured by SHIMADZU CORPORATION) Pump: LC-10AD (trade name, manufactured by SHIMADZU CORPORATION) Auto-sampler: SIL-10A (trade name, manufactured by SHIMADZU CORPORATION) Detector: SPD-10A (trade name, manufactured by SHIMADZU CORPORATION) The above sample for HPLC in an amount of 50 μL was injected to a column (trade name: INERTSIL ODS-3 (particle diameter of 5 μm, inner diameter of 4.6 mm and length of 250 mm, manufactured by GL Sciences Inc.)), and then eluted at a column temperature of 40° C. using an elution solution (5% methanol, 60 mM phosphoric acid, 14 mM disodium hydrogen phosphate (pH 2.2)) with a flow rate of 0.5 mL/min. By measuring the absorbance at 284 nm, the measurement of the uric acid contained in blood serum was carried out. The result is shown in FIG. 4. As it is clearly shown in FIG. 4, it was found that the value of uric acid in blood serum increases by administration of potassium oxonate, i.e., a hyperuricemia-inducing agent. However, it was also found that, by administering the extract of Zanthoxylum bungeanum, Sorghum nervosum or Cuminum cyminum, the increase in the value of uric acid in blood serum resulting from the induced hyperuricemia is inhibited. Furthermore, after forcing the fasting of the animals of the no oxonic acid administration group-2, the oxonic acid administration control group-2 and oxonic acid-allspice extract administration group for 12 hours, 200 μL of blood was drawn from jugular vein while the animal was being anesthetized. On hour after the drawing blood, the animals of the no oxonic acid administration group-2 were orally administered with 0.5 w/v % methylcellulose solution (400 cP, sterilized, manufactured by Wako Pure Chemical Industries, Ltd.) in a dosage of 5 mL/kg of body weight. To the groups other than the no oxonic acid administration group-2, potassium oxonate (manufactured by Sigma Aldrich Chemie Gmbh) dissolved in 0.5 w/v % methylcellulose solution to have the concentration of 500 mg/5 mL was orally administered in a dosage of 5 mL/kg of body weight. One hour after the administration of oxonic acid, to the group of oxonic acid-Pimenta officinalis extract administration group, a freeze-dry product of Pimenta officinalis extract, which was dissolved in 0.5 w/v % methylcellulose solution to have the concentration of 4 g/20 mL, was orally administered in a dosage of 20 mL/kg of body weight, while other groups received oral administration of 0.5 w/v % methylcellulose solution in a dosage of 20 mL/kg of body weight. One, two, three and six hours after the administration, 200 μL of blood was drawn from jugular vein while the animal was being anesthetized. Thus-obtained blood was transferred to a CapiJet Capillary Blood Collection Tube (trade name, purchased from TERUMO Corporation) and centrifuged at 3500×g for 5 minutes to separate blood serum. As a result, a sample for measuring the amount of uric acid in blood serum was obtained. By using these samples for measuring the amount of uric acid in blood serum, the amount of uric acid in blood serum was measured in the same manner as the above. The result is shown in FIG. 5. As it is clearly shown in FIG. 5, it was found that the value of uric acid in blood serum increases by administration of potassium oxonate, i.e., a hyperuricemia-inducing agent. However, it was also found that, by administering the extract of Pimenta officinalis, the increase in the value of uric acid in blood serum resulting from the induced hyperuricemia is inhibited. From the results shown above, it was found that the extract of each of Zanthoxylum bungeanum, Sorghum nervosum, Cuminum cyminum, Rosa centifolia, Pimenta officinalis, Origanum majorana, Psidium guajava, Pimpinella anisum, Olea europaea, Illicium verum, Canavalia gladiata, Hyssopus officinalis, Ribes nigrum, Vaccinium myrtillus, Artemisia princeps and Haematoxylon campechianum L. has an effect of inhibiting a xanthine oxidase, an effect of inhibiting uric acid production, and an effect of inhibiting an increase in a value of blood uric acid, as well as an effect of improving or preventing gout, hyperuricemia or a cardiovascular disease, or reducing their onset possibility. Therefore, the xanthine oxidase inhibitor, the uric acid-producing inhibitor and the agent for improving or preventing gout, hyperuricemia or a cardiovascular disease of the present invention are suitable for improvement or prevention of gout, hyperuricemia or a cardiovascular disease that is caused by abnormality in the metabolism of purine compounds by xanthine oxidase. 4. Production of the Agent for Improving or Preventing Gout, Hyperuricemia or a Cardiovascular Disease of the Present Invention Regarding the agent for improving or preventing gout, hyperuricemia or a cardiovascular disease of the present invention, a shell for a soft capsule preparation having the following composition was filled with 400 mg of soy bean oil and 100 mg of the ethanol extract of Sorghum nervosum or Pimenta officinalis according to a standard method to produce a soft capsule preparation. (Component) (Content: mass %) Gelatin 70.0 Glycerin 22.9 Methyl paraoxybenzoic acid 0.15 Propyl paraoxybenzoic acid 0.51 Water 6.44 5. Production of the Beverage of the Present Invention Regarding the beverage of the present invention, a beverage having the following composition was produced according to a standard method by using the ethanol extract of Sorghum nervosum or Pimenta officinalis. (Component) (Content: mass %) Powdered skim milk 3.5 Enzyme hydrolysate of milk casein 3.5 Fructose 9.0 Ethanol extract of Sorghum nervosum or 0.5 Pimenta officinalis Citric acid 0.1 Ascorbic acid 0.1 Perfume 0.1 Water 83.2 INDUSTRIAL APPLICABILITY The xanthine oxidase inhibitor of the present invention has an excellent effect of inhibiting a xanthine oxidase. Furthermore, the uric acid-producing inhibitor of the present invention has an excellent effect of inhibiting production of uric acid. Therefore, the xanthine oxidase inhibitor and the uric acid-producing inhibitor of the present invention can be used as an agent for improving or preventing gout, hyperuricemia or a cardiovascular disease or preventing their onset possibility, and also under the idea of having an effect of improving or preventing gout, hyperuricemia or a cardiovascular disease or preventing their onset possibility, they can be appropriately used for a functional food and beverage product, a food and beverage product for a patient, and a special health food and beverage product in which the point of use is indicated, if necessary. Having described our invention as related to the present embodiments, it is our intention that the invention not be limited by any of the details of the description, unless otherwise specified, but rather be construed broadly within its spirit and scope as set out in the accompanying claims. This non-provisional application claims priority under 35 U.S.C. §119 (a) on Patent Application No. 2008-177016 filed in Japan on Jul. 7, 2008, and Patent Application No. 2008-177017 filed in Japan on Jul. 7, 2008, each of which is entirely herein incorporated by reference.',\n",
              "  \"CROSS REFERENCE TO RELATED APPLICATION This application claims priority benefit of U.S. Application No. 61/146,960 filed Jan. 23, 2009 and U.S. Application No. 61/225,041 filed Jul. 13, 2009, the entire disclosures of which are incorporated herein by this reference. TECHNICAL FIELD The present disclosure relates to compositions and methods for the treatment of rosacea. BACKGROUND Rosacea is a chronic inflammatory disease that occurs primarily in fair skinned people. By some recent estimates rosacea afflicts 13 million Americans. It usually first appears as subtle reddening on the face. Over time this may develop into inflammation, be accompanied by skin eruptions, and in the appearance of red lines which result from swollen or damaged veins and capillary blood vessels immediately under the surface of the skin. There is no single test to determine whether someone has rosacea. The diagnosis is usually made based on a visual examination and from identifying a number of symptoms, such as: flushing or blushing that occurs easily and often and lasts longer than normal; erythema (i.e., rashes and redness on part or all of the face); burning or stinging sensations; papules, or pustules; rhinophyma; and/or telangiectasis caused as a result of capillary blood vessels in the face becoming enlarged or damaged. Symptoms are often aggravated by sun exposure, changes or extremes in temperature, wind, and consumption of certain foods (including spicy foods, caffeine & alcohol). Rosacea is generally categorized into four stages. Stage one is characterized by flushing or redness (known as erythema) that lasts for hours or days. Red lines (a condition known as telangiectases) may appear. Stages two and three, Papulopustular and Phymatous, are characterized by skin eruptions (nodules, papules pustules). Symptoms may spread from the face to other parts of the body such as the scalp, neck, and chest. Stage four, Ocular, is characterized by large nodules appearing, severe inflammation, facial pain, swelling, and burning. Rhinophyma the bulbous enlargement of the nose may also be present with some subjects. The exact cause of rosecea is still largely unknown, however the symptoms are reasonably well understood as are a variety of lifestyle factors (such as particular foods and activities) that are known to trigger outbreaks in people that have the disease. Although there is not yet a cure for rosacea, a combination of treatment of the symptoms and lifestyle changes to avoid these triggers can greatly reduce the negative impacts of rosacea. In general, the treatment is aimed at the control of redness, inflammation, and skin eruptions. Treatment is necessary to prevent permanent damage and progression of the symptoms. In more severe cases, once a diagnosis of rosacea has been made a dermatologist will prescribed a combination of oral antibiotics and the use of antibiotic gel as initial treatment. The oral antibiotics (e.g., minocycline or erythromycin) will bring the condition under control (reducing redness and the formation of papules and pustules), then the topical treatments will be used to keep the symptoms under control. Since rosacea cannot be cured it is often necessary to continue topical treatment (and modification of lifestyle factors) even after symptoms have been reduced or disappeared. In addition, laser treatments may be employed to seal the broken vessels and prevent blood flow to the surface off the skin. Alternatively, mixed intense pulse light (IPL) may be employed to treat Rosacea symptoms. Light pulse therapy works by sending light energy through the outer skin, concentrating on the dermal layer just below and attacks the problem from the inside, stimulating growth of collagen. One commercially available treatment for rosacea is Metrogel, from Galderma Laboratories, Fort Worth, Tex. USA. This product is indicated for the topical treatment of inflammatory lesions associated with rosacea and is not clinically approved for reducing redness. There is thus a continuing need for improved and effectual treatments for rosacea, especially the rapid and effective reduction in redness of the skin associated with rosacea. SUMMARY The present disclosure provides a treatment regimen including cleansing at least a portion of an area of skin afflicted with rosacea with a cleanser; applying a composition containing metronidazole to at least a portion of the afflicted area; and applying an anti-redness composition to at least a portion of the cleansed and metronidazole-treated area. The present disclosure also includes a treatment regimen including cleansing at least a portion of an area of skin afflicted with rosacea with a cleanser; applying a composition containing metronidazole to at least a portion of the afflicted area; applying an anti-redness composition to at least a portion of the afflicted area; and applying a protective composition to at least a portion of the afflicted area. In another embodiment, the present disclosure provides a kit including an antimicrobial cleanser; a composition containing metronidazole; and an anti-redness composition. Additionally disclosed is a treatment regimen including cleansing at least a portion of an area of skin afflicted with rosacea with an antimicrobial or cleanser; applying a composition containing a polymetal complex to at least a portion of the cleansed area; and applying a protective composition to at least a portion of the cleansed, and polymetal complex-treated area. The present disclosure further includes a treatment regimen including cleansing at least a portion of an area of skin afflicted with rosacea with an antimicrobial or cleanser; applying a composition containing a polymetal complex to at least a portion of the cleansed area; and applying a protective composition to at least a portion of the cleansed, and polymetal complex-treated area. A kit is disclosed in the present disclosure. The kit includes a cleanser; a composition containing a polymetal complex; and a protective composition. DETAILED DESCRIPTION OF PREFERRED EMBODIMENTS The present disclosure describes methods for treating skin afflicted with rosacea which include the sequential application of certain products. In embodiments, the disclosure includes sequential application of: a) a cleanser; b) a composition containing metronidazole; c) an anti-redness composition; and, optionally d) a protective composition. In embodiments, the disclosure includes application of a redness-reducing amount of a polymetal complex to at least a portion of the afflicted skin. The polymetal complex may be applied alone, following cleansing and/or in a regimen that also involves the application of a metronidazole-containing composition. The specific sequence of products applied in accordance with this disclosure will depend on the severity of the rosacea. The present regimens provide better results than any of the individual products used in the regimen and also provide a result that exceeds the sum of the individual results provided by the individual products. The Cleanser The cleanser can be any non-soap cleanser that will remove dirt and oil from the skin. Suitable cleansers are commercially available and typically include a combination of anionic, cationic, amphoteric and/or non-ionic surfactants in an aqueous vehicle. The cleanser advantageously can include a combination of compounds to compensate for the well known fact that cleansing agents, by their very nature, are not always well tolerated by the skin. The oil-removal feature of a cleanser can result in drying of the skin, and even skin irritation. By incorporating various protective agents in the cleanser process the preferred cleanser overcomes shortcomings found in many alternative products. Thus, in one particularly useful embodiment the cleanser is a foaming gel cleanser that contains water, sodium lauroyl oat amino acids, cocamidopropyl betaine, sodium laureth sulfate, aloe barbadensis leaf juice, medicago sative (alfalfa) extract, borago officinalis extract, chamomilla recutita (matricaria) extract, sodium chloride, xanthan gum, saponins, phenoxyethanol, methylparaben, propylparaben, ethylparaben, butylparaben, fragrance, and color. In embodiments, the cleanser frees the skin of pollutants without damaging the skin's own natural moisture content. It also leaves all skin types clean and extremely soft to the touch. In embodiments, in addition to removing dirt and oil from the skin, the cleanser also reduces the skin bacterial count. Such antimicrobial or antibiotic cleanser may include an antimicrobial or antibiotic compound. The antimicrobial or antibiotic compounds employed in the cleanser are not particularly limited. Examples of such antimicrobial or antibiotic compounds include, but are not limited to: chlorohexidine gluconate, quatemary ammonia type compounds, alcohol based cleansers (ethanol, isopropyl alcohol, etc.), triclosan, zinc pyrithione, sodium sulphacetamide, clindamycin phosphate, and the like. It is envisioned that one or more antimicrobial agents may be used. In embodiments, one suitable foaming gel cleanser contains a combination of water, cocamidopropyl betaine, sodium lauroyl oat amino acids, sodium laureth sulfate, glycerin, aloe barbadensis gel, glycerth-7, apricot triethanolamine, sage extract, borage extract, phenoxythanol, methylparaben, propylparaben, ethylparaben, butylparaben, saponins, fragrance, and colorant. The Composition Containing Metronidazole In embodiments, a composition containing metronidazole is applied to the cleansed skin of the person afflicted with rosacea. Metronidazole is a nitroimidazole used in the treatment of infections caused by susceptible organisms, particularly anaerobic bacteria and protozoa. Metronidazole is a prodrug. It is converted in anaerobic organisms by the redox enzyme pyruvate-ferredoxin oxidoreductase. The nitro group of metronidazole is chemically reduced by ferredoxin (or a ferredoxin-linked metabolic process) and the products are responsible for disrupting the DNA helical structure, thus inhibiting nucleic acid synthesis. Metronidazole is selectively taken up by anaerobic bacteria and sensitive protozoal organisms because of the ability of these organisms to reduce metronidazole to its active form intracellularly. The composition containing metronidazole can be formulated in any manner to provide delivery of the active to the skin of a patient afflicted with rosacea. In embodiments, the composition containing metronidazole contains from about 0.001 to about 5 percent metronidazole by weight of the composition, in embodiments from about 0.1 to about 3 percent metronidazole by weight of the composition, in other embodiments from about 0.5 to about 1.5 percent metronidazole by weight of the composition. Metronidazole is commercially available as a gel preparation for the treatment of dermatological conditions such as rosacea. Illustrative commercially available compositions containing metronidazole are available under the tradename METROGEL® from Galderma Laboratories, Fort Worth, Tex. USA. In fact, METROGEL is available from Galderma Laboratories in a kit with a gentle skin cleanser commercially available under the tradename CETAPHIL®. Anti-Redness Composition Optionally, an anti-redness composition may be applied. The anti-redness composition is a composition containing one or more ingredients that result in redness reduction of the skin, either via a clinical and/or visual manner. The anti-redness composition may include botanicals, calming agents, anti-microbial agents, anti-inflammatory compounds, anti-oxidants, antiseptics, conditioning agents, light refracting materials and the like. Non-limiting examples of such ingredients include Aloe Barbadensis Leaf juice, Hydrolyzed Oat Protein, Bisabolol, Allantoin, Avena Sativa (Oat) Beta Glucan, Avena Sativa (Oat), Kernel Extract, Glycyrrhiza Glabra root extract, Sea Whip Extract, Mica, Titanium Dioxide, Iron Oxides, Bacopa Monniera Extract, Arnica Montana (Flower) Extract, Cupressus Sempervirens (Seed) Extract, Polygontum Multiflorum Extract, Sodium Cocoyl Amino Acid, Sarcosine, Potassium Aspartate, Magnesium Aspartate, Lavandula Angustifolia (Lavender) Flower/leaf Stem Extract, and Malonic Acid. The Protective Composition Suitable protective compositions include any composition capable of reducing skin damage, darkening, or dryness. In embodiments, protective compositions include sun block or sunscreen to filter out ultraviolet light rays. A wide variety of sunscreen actives are useful herein. The exact amount and type of sunscreen that is used depends on the level of photoprotection that is desired. Generally any agent offering protection against ultraviolet radiation by absorbing, scattering or reflecting the ultraviolet radiation may be used herein. The sunscreen agents used herein may offer protection against one or more of the following forms of solar radiation: UVA; UVB; UVC; visible light; and infrared radiation. Generally the sunprotection factor (SPF) of the final formulation varies between 2 and 30, although products with SPFs up to 100 may be formulated. The sunscreen used herein may offer chemical or physical photoprotection. Sunscreens which may be used in accordance with the present invention include those selected from the group comprising amino benzoic acid and derivatives, such as para-amino benzoic acid (PABA), glyceryl-PABA (Lisadimate), Padimate O, Roxadimate; anthrinalates, including methylanthrynilate; benzophenones, including dioxybenzone, oxybenzone and sulisobenzone, 3-benzophenone (Uvinul M40) 4-N,N-dimethylaminobenzoic acid ester with 2,4-dihydroxybenzophenone; camphor derivatives including 3-(4-methylbenzylidene) camphor, 3-benzylidene camphor; cinnamates including DEA-p-methoxycinnamate, ethyl-hexyl p-methoxy cinnamate, octocrylene, octyl methoxy cinnamate (Parasol MCX); dibenzoyl methanes including butylmethoxydibenzoylmethane (Parsol 1789), salicylates including, homomenthyl salicylate, octyl salicylate, trolamine methyl salicylate; metal oxides including titanium dioxide, zinc oxide and iron oxide; 2-phenylbenzimidazole-5-sulfonic acid; 4,4-methoxy-t-butyldibenzoylmethane; and mixtures thereof. In embodiments, suitable protective compositions include creams, such as moisturizers formulated to help control dryness. In embodiments, the protective composition includes at least one of the following compounds: ZnO; Vitamin A; Vitamin D; and combinations thereof. Optionally, an anti-parasitic product may also be applied for more severe cases, for example, for the control of Dermodex mites. In embodiments, the anti-parasitic product includes an anti-parasitic compound (such as, for example, pediculicidal or miticidal compounds) that eradicate organisms (such as, for example, ectoparasites, e.g., demodex follicular mites, or endoparasites) that inhabit hair follicles and/or the pores of the skin. Any conventional anti-parasitic compound may be employed. Non-limiting examples of suitable pediculicidal agents include natural or other pyrethrins, pyrethroids, permethrin, lindane, malathion, carbaryl, ivermectin and combinations thereof. Suitable miticides are represented by propynyl sulfites, triazapentadienes, chlorinated aromatics and dinitrophenols. In embodiments, the anti-parasitic product may include a combination of benzyl benzoate, and salicylic acid, a combination effective in eradicating skin parasites. Products including anti-parasitic compounds may be particularly useful in regimens for patients having stage two, stage three, and stage four rosacea. Additional Components Depending upon the severity of the rosacea, it may be desirable to apply an anti-acne medication to the afflicted skin following the application of the previous compositions. Some examples of useful anti-acne medications include, but are not meant to be limited to, benzoyl peroxide, antibiotics, retinoids, and combinations thereof. In embodiments, compositions containing benzoyl peroxide may be applied to the afflicted area prior to application of the protective compound. This may further reduce the popular and pustular lesions. Suitable benzoyl peroxide compositions may contain, for example, from about one percent to about ten percent by weight benzoyl peroxide. In other embodiments it may be desirable to apply a composition containing a retinoid to the afflicted area after application of the protective compound. The term retinoid is intended to embrace any compound that binds to or otherwise interacts with a retinoid receptor. Suitable retinoids include retinol, retinoic acid, retinyl palmitate, retinyl propionate, retinyl acetate, tretinoin, isotretinoin, motretinide, adapalene, tazarotene, azelaic acid, as well as synthetic retinoid mimetics. Although not wishing to be bound by this disclosure, it is believed that tretinoin passes through the skin cell membranes to the nucleus wherein it binds to nuclear receptors and regulates transcription of genes that mediate the rate of cell division and turnover, cell differentiation, formulation of new healthy collagen, and the repair of elastin. As a result, skin can be made firmer by the collagen formation as well as more flexible from the repair of elastin. Tretinoin also increases the formation of normal keratinocytes (cells making up about 90% of the epidermis) and fibroblasts (connective tissue cells which secrete an extracellular matrix rich in collagen and other macromolecules), decreases melanocyte activity (which offers better resistance to external injury and inflammation) and is found to improve angiogenesis (the formation of new blood vessels that increase skin circulation). In still other embodiments, it also may be desirable to apply a composition containing an antibiotic to the afflicted area after application of the protective compound. Any antibiotic known to have a beneficial effect upon the skin may be employed. In embodiments, the antibiotic used is clindamycin, tetracycline, erythromycin or combinations thereof. The antibiotic may be applied topically to the afflicted skin or administered in another manner, such as orally to the subject suffering from rosacea. The various products applied in a regimen in accordance with the present disclosure can be in the form of solutions, emulsions (including microemulsions), suspensions, creams, lotions, gels, powders, or other typical solid or liquid compositions used for treatment of age related skin conditions. Such compositions may contain, in addition to the specific active(s) identified herein for each product, other ingredients typically used in such products, such as antimicrobials, moisturizers and hydration agents, penetration agents, preservatives, emulsifiers, natural or synthetic oils, solvents, surfactants, detergents, gelling agents, emollients, antioxidants, fragrances, fillers, thickeners, waxes, odor absorbers, dyestuffs, coloring agents, powders, viscosity-controlling agents and water, and optionally including anesthetics, anti-itch actives, botanical extracts, conditioning agents, darkening or lightening agents, glitter, humectants, mica, minerals, polyphenols, silicones or derivatives thereof, sunblocks, vitamins, and phytomedicinals. Polymetal Complex The present disclosure also describes methods for treating skin afflicted with rosacea which include the step of applying a redness-reducing amount of a polymetal complex to at least a portion of the afflicted skin. In embodiments, the polymetal complex, e.g., Cu/Zn malonate is combined with a moisturizer and applied to the afflicted skin. The polymetal complex may be applied alone, following cleansing, or as a moisturizer. When used in the present regimens as a moisturizer, the polymetal complex improves capillary elasticity. The polymetal complex can be the reaction product of a polyfunctional compound with two or more coordination elements. The preparation of reaction products of polyfunctional compounds with two or more coordination elements and compositions containing such reaction products are described. In embodiments, the resulting polymetal complex includes a first metal ion, a second metal ion that is different from the first metal ion and a central bridging unit linking the first and second metal ions, the central bridging unit being derived from a polyfunctional compound of the type described herein. The polyfunctional compound can be any compound that contains at least two functional groups that may complex with metal cations in solution. Among the functional groups that may be present include carboxylic acid groups and amino groups. Suitable polyfunctional compounds include, but are not limited to polyfunctional acids, polyfunctional amines and amino acids. Other suitable polyfunctional compounds will be readily envisioned by those skilled in the art reading the present disclosure. It should of course be understood that mixtures of polyfunctional compounds may be used. Polyfunctional acids are primarily monomeric compositions having two or more carboxylic acid groups. Non-limiting examples of polyfunctional acids include maleic acid, fumaric acid, citraconic acid, itaconic acid, glutaconic acid, phthalic acid, isophthalic acid, terephthalic acid, cyclohexane dicarboxylic acid, citric acid, succinic acid, adipic acid, sebacic acid, azealic acid, malonic acid, dodecanedioic acid, 1,18-octadecanedioic acid, dimer acids (prepared from a mono-, di- or triunsaturated fatty acid, acid wax, acid anhydride grafted wax, or other suitable polycarboxylic acid reacting compound), alkenyl succinic acids (such as n-dodecenylsuccinic acid, docecylcucinic acid and octadecenylsuccinic acid). Polysaccharides having two or more carboxylic groups can be used as the polyfunctional acid compound. Thus, for example, hyaluronic acid may be used as the polyfunctional compound. The polyfunctional acid can be present in acidic form, anhydride form, salt form, or mixtures thereof. Any derivative of any polyfunctional acid can be used provided the derivative still contains two carboxylic acid groups. In embodiments, the polyfunctional acid chosen as the polyfunctional compound contains exactly two carboxylic acid groups. Amino acids may also be used as the polyfunctional compound. Amino acids are known to those skilled in the art and include at least a carboxylic acid functionality and an amino functionality. In embodiments, the amino acid chosen as the polyfunctional compound contains two carboxylic acid groups. Suitable amino acids include naturally occurring amino acids and synthetic amino acids. Non-limiting examples of amino acids include, but are not limited to: aminopolycarboxylic acids (e.g., aspartic acid, β-hydroxyaspartic acid, glutamic acid, β-hydroxyglutamic acid, β-methylaspartic acid, β-methylglutamic acid, β,β-dimethylaspartic acid, γ-hydroxyglutamic acid, β,γ-dihydroxyglutamic acid, β-phenylglutamic acid, γ-methyleneglutamic acid, 3-aminoadipic acid, 2-aminopimelic acid, 2-aminosuberic acid and 2-aminosebacic acid); amino acid amides such as glutamine and asparagine; polyamino- or polybasic-monocarboxylic acids such as arginine, lysine, β-aminoalanine, γ-aminobutyrine, ornithine, citruline, homoarginine, homocitrulline, hydroxylysine, allohydroxylsine and diaminobutyric acid; other basic amino acid residues such as histidine; diaminodicarboxylic acids such as α,α′-diaminosuccinic acid, α,α′-diaminoglutaric acid, α,α′-diaminoadipic acid, α,α′-diaminopimelic acid, α,α′-diamino-β-hydroxypimelic acid, α,α′-diaminosuberic acid, α,α′-diaminoazelaic acid, and α,α′-diaminosebacic acid; imino acids such as proline, hydroxyproline, allohydroxyproline, γ-methylproline, pipecolic acid, 5-hydroxypipecolic acid, and azetidine-2-carboxylic acid; mono- or di-alkyl (typically C1-C8 branched or normal) amino acids such as alanine, valine, leucine, allylglycine, butyrine, norvaline, norleucine, heptyline, α-methylserine, α-amino-α-methyl-γ-hydroxyvaleric acid, α-amino-α-methyl-δ-hydroxyvaleric acid, α-amino-α-methyl-ε-hydroxycaproic acid, isovaline, α-methylglutamic acid, α-aminoisobutyric acid, α-aminodiethylacetic acid, α-aminodiisopropylacetic acid, α-aminodi-n-propylacetic acid, α-aminodiisobutylacetic acid, α-aminodi-n-butylacetic acid, α-aminoethylisopropylacetic acid, α-amino-n-propylacetic acid, aaminodiisoamyacetic acid, α-methylaspartic acid, α-methylglutamic acid, 1-aminocyclopropane-1-carboxylic acid, isoleucine, alloisoleucine, tert-leucine, β-methyltryptophan and α-amino-β-ethyl-β-phenylpropionic acid; β-phenylserinyl; aliphatic α-amino-β-hydroxy acids such as serine, β-hydroxyleucine, β-hydroxynorleucine, β-hydroxynorvaline, and α-amino-β-hydroxystearic acid; α-Amino, α-, γ-, δ- or ε-hydroxy acids such as homoserine, γ-hydroxynorvaline, δ-hydroxynorvaline and epsilon-hydroxynorleucine residues; canavine and canaline; γ-hydroxyornithine; 2.hexosaminic acids such as D-glucosaminic acid or D-galactosaminic acid; α-Amino-β-thiols such as penicillamine, β-thiolnorvaline or β-thiolbutyrine; other sulfur containing amino acid residues including cysteine; homocystine, β-phenylmethionine, methionine, S-allyl-L-cysteine sulfoxide, 2-thiolhistidine, cystathionine, and thiol ethers of cysteine or homocysteine; phenylalanine, tryptophan and ring-substituted α amino acids such as the phenyl- or cyclohexylamino acids α-aminophenylacetic acid, aaminocyclohexylacetic acid and α-amino-β-cyclohexylpropionic acid; phenylalanine analogues and derivatives comprising aryl, lower alkyl, hydroxy, guanidino, oxyalkylether, nitro, sulfur or halo-substituted phenyl (e.g., tyrosine, methyltyrosine and o-chloro-, p-chloro-, 3,4-dicloro, o-, m- or p-methyl-, 2,4,6-trimethyl-, 2-ethoxy-5-nitro-, 2-hydroxy-5-nitro- and p-nitrophenylalanine); furyl-, thienyl-, pyridyl-, pyrimidinyl-, purinyl- or naphthylalanines; and tryptophan analogues and derivatives including kynurenine, 3-hydroxykynurenine, 2-hydroxytryptophan and 4-carboxytryptophan; α-Amino substituted amino acids including sarcosine (N-methylglycine), N-benzylglycine, N-methylalanine, N-benzylalanine, N-methylphenylalanine, N-benzylphenylalanine, N-methylvaline and N-benzylvaline; and α-Hydroxy and substituted α-hydroxy amino acids including serine, threonine, allothreonine, phosphoserine and phosphothreonine. glycine, alanine, valine, leucine, isoleucine, serine, threonine, cysteine, methionine, glutamic acid, aspartic acid, lysine, hydroxylysine, arginine, histidine, phenylalanine, tyrosine, tryptophan, proline, asparagine, glutamine and hydroxyproline. Aminopolycarboxylic acids, e.g., aspartic acid, β-hydroxyaspartic acid, glutamic acid, β-hydroxyglutamic acid, β-methylaspartic acid, β-methylglutamic acid, β,β-dimethylaspartic acid, γ-hydroxyglutamic acid, β,γ-dihydroxyglutamic acid, β-phenylglutamic acid, γ-methyleneglutamic acid, 3-aminoadipic acid, 2-aminopimelic acid, 2-aminosuberic acid and 2-aminosebacic acid. Polyaminoacids may also be used provided they form complexes with the coordination elements employed. The polyfunctional compound is reacted with two or more coordination elements. The coordination elements can be chosen from the elements listed in Groups IIIA to VIIIA, Groups IB to IIIB, of periods 4 and 5 and aluminum in Group IIIB, period 3 of The Periodic Table of the Elements. Suitable non-limiting examples of elements listed in group IB of The Periodic Table of Elements include copper, silver, and gold. Suitable non-limiting examples of coordination elements include aluminum, scandium, titanium, vanadium, chromium, manganese, iron, cobalt, nickel, copper, zinc, gallium, yttrium, zirconium, niobium, molybdenum, technetium, ruthenium, rhodium, palladium, silver, cadmium, and indium. Tin may also be used. Those skilled in the art will readily envision suitable compounds for providing the coordination elements in solution. In embodiments, the coordination element is provided for the reaction as a basic salt that can participate in an acid-base reaction with a polyfunctional compound containing two carboxylic acid groups. In embodiments, the polymetal complex is a copper-zinc malonate. Copper-zinc malonates may be one or more ionic compounds formed by joining one or more independent copper molecules or ions and one or more independent zinc molecules or ions to a central unit by ionic bonds. For example, the copper-zinc malonate may be in the form of a trinuclear cation, where structurally independent copper and zinc hydrates are bridged by a central unit such as an octahedral diaquadimalonatocopper (II) unit. However, various coordination modes are possible depending on the source of the copper and zinc and synthesis conditions. In embodiments, the central unit malonate ion may be a multi-membered ring such as eight-membered ring, six-membered ring, and four-membered metalocycle for bridging or chelating functions between the copper and zinc constituents. Accordingly, the crystal structures of copper-zinc malonates can be very diverse, from ionic to three-dimensional polymers. In embodiments, the copper-zinc malonates can be found in several hydrate, and polymorphic forms. Suitable copper-zinc malonate forms in accordance with the present disclosure include any salt formed from the neutralization of malonic acid by one or more copper containing molecules and one or more zinc containing molecules. In embodiments, copper and zinc are provided for the reaction as basic salts that can participate in an acid-base reaction with the two carboxylic acid groups present in malonic acid. Illustrative examples include salt formed by the neutralization of malonic acid by cupric carbonate (CuCO3·Cu(OH)2), and zinc carbonate (3Zn(OH)2·2ZnCO3) in an aqueous solution. It has been discovered that the compositions which contain the polymetal complex are useful in causing varying levels of vasoconstriction. Such an effect may be useful in treating rosacea. Moreover, the vasoconstrictive effect of the present compositions decrease the rate at which the body is able to clear the composition by local blood supply, thereby allowing the composition to remain at the site of application longer which increases the rate and depth of tissue penetration of the composition. In embodiments, the compositions of the present application may be combined with other vasoconstrictive agents to further enhance the effect of the polymetal complex. In still other embodiments, the compositions of the present application may be combined with vasodilating agents thereby decreasing the effect of the polymetal complex. In embodiments, the polymetal complex may be combined with numerous ingredients to form products that can be applied to the skin of a person afflicted with rosacea. Such products may include a dermatologically or pharmaceutically acceptable carrier, vehicle or medium, for example, a carrier, vehicle or medium that is compatible with the tissues to which they will be applied. The term “dermatologically or pharmaceutically acceptable,” as used herein, means that the compositions or components thereof so described are suitable for use in contact with these tissues or for use in patients in general without undue toxicity, incompatibility, instability, allergic response, and the like. In embodiments, compositions in accordance with the present disclosure can contain any ingredient conventionally used in cosmetics and/or dermatology. In embodiments, active ingredients may be formulated to provide crystals in solution, as well as solid forms. Methods of making the polymetal complex and formulating topical compositions containing them are described, for example, in published patent applications US-2007-0191620-A1, US-2007-0203354-A1, US-2007-0184017-A1, US-2007-0190190-A1, US-2008-0081077-A1, the entire contents of which are all incorporated herein by this reference. In embodiments, products containing a polymetal complex in accordance with the present disclosure as an active ingredient can be in the form of solutions, emulsions (including microemulsions), suspensions, creams, lotions, gels, powders, or other typical solid or liquid compositions used for treatment of age related skin conditions. Such compositions may contain, in addition to the reaction product in accordance with this disclosure, other ingredients typically used in such products, such as antimicrobials, moisturizers and hydration agents, penetration agents, preservatives, emulsifiers, natural or synthetic oils, solvents, surfactants, detergents, gelling agents, emollients, antioxidants, fragrances, fillers, thickeners, waxes, odor absorbers, dyestuffs, coloring agents, powders, viscosity-controlling agents and water, and optionally including anesthetics, anti-itch actives, botanical extracts, conditioning agents, darkening or lightening agents, glitter, humectants, mica, minerals, polyphenols, silicones or derivatives thereof, sunblocks, vitamins, and phytomedicinals. As an illustrative example, products can be formulated to contain copper-zinc malonate in amounts from about 0.001 to about 5% by weight of the total composition. In embodiments, products can be formulated to contain copper-zinc malonate in an amount from about 0.05 to about 1.0% by weight of the total composition. In other embodiments, the amount of copper-zinc malonate is from about 0.1 to about 0.5% by weight of the total composition. Here, the copper-zinc malonate present may be in a pharmaceutically acceptable salt form. Other active ingredients may be provided in the formulations at the same concentrations. Table A below provides an illustrative embodiment of a suitable composition containing a polymetal complex in accordance with the present disclosure. TABLE A Ingredient Description (function) Amount Water Phase Distilled Water (solvent, humectant) 69.4940 PHENONIP Phenoxyethanol, Methylparaben, Ethylparaben, 0.8000 Butylparaben, Propylparaben, Isobutylparaben (preservative) Propylene Glycol (humectant) 1.5000 Glycerin (humectant) 2.5000 Veegum Granules Magnesium Aluminum Silicate 0.4000 (suspending agent) Keltrol CG Xanthan Gum 0.6000 (viscosity building agent) Oil Phase Finsolv TPP C12-15 Alkyl Benzoate; Dipropylene Glycol 4.5000 Dibenzoate, PPG - 15 Stearyl Ether Benzoate, 50%/35%/15%; 2.25%/1.575%/0.75% (emollient) GE Silicone SF 1214 Cyclopentasiloxane, Dimethicone, 3.0000 80/20; 2.4%/0.6% (emollient) Gemseal 25 C13-15 Alkane 3.0000 (emollient) Pelemol OP Ethylhexyl Palmitate 3.0000 (emollient) Lipomulse 165 Glyceryl Stearate, PEG - 100 Stearate 4.5000 2.475%/2.025% (emulsifier) Cetyl Alcohol (thickener) 0.5000 Stearyl Alcohol (thickener) 1.5000 GE Silicone 96-100 Dimethicone 1.0000 (emollient) Abil Wax 9801 Cetyl Dimethicone 0.1000 (emollient) Vitamin E Acetate (vitamin) 0.0500 Engelhard Flamenco Satin Mica, Titanium Dioxide, Iron Oxides 0.0100 Green P860 (pigments) Kobo BPD 500 HDI/Trimethylol Hexyllactone Crosspolymer, 0.0100 Silica Presperse - Coverleaf AR - Talc, Titanium Dioxide, Alumina, Silica 0.0010 80 (pigments) Copper-Zinc Malonate (active) 2.5000 Sepigel 305 Polyacrylamide, C13-14 Isoparaffin, Laureth - 7 1.0000 (viscosifier/suspending agent) Extract Blend Algae Extract, Glycyrrhiza Clabra Root Extract 0.0100 (antioxidants) Blueberry Fruit Extract (antioxidants) 0.025 8% NaOH Solution (pH adjusting agent) QS 10% Malonic Acid Solution QS In embodiments, regimens for treatment of rosacea involve the sequential application of a series of products to the skin of a person afflicted with rosacea. The specific sequence of products applied in accordance with this disclosure will depend on the severity of the rosacea. The regimens for treating rosacea described herein may include the application of a composition containing a polymetal complex and may further include the application of one or more of the following: an antibiotic or antimicrobial cleanser, a protective composition, an anti-parasitic product and various combinations thereof. In embodiments, the cleanser is applied to at least a portion of the afflicted skin prior to the application of the composition containing a polymetal complex. In embodiments, the protective composition is applied to at least a portion of the afflicted skin following the application of a composition containing a polymetal complex. In still other embodiments, at least three products may be used to treat the afflicted skin. The three products applied may be an antimicrobial or antibiotic cleanser, a composition containing a polymetal complex, and a protective composition. In embodiments, the composition containing a polymetal complex contains Cu/Zn malonate. As the rosacea treatment regimens described herein require the sequential application of various components, it has also been found that kits greatly facilitate the user in performing the treatment regimen consistently. With respect to the composition containing metronidazole, the composition is currently a prescription medication that can be procured in addition to the kit or as a prescription kit. However, in the future if a composition containing metronidazole becomes an over-the-counter product, inclusion in a non-prescription kit is contemplated. One suitable kit for rosacea treatment includes the following: Antimicrobial-containing cleanser Anti-Redness Composition Sunscreen with ZnO and vitamins A and D Optionally one or more of: Benzoyl Peroxide Composition Retinoid Composition Antibiotic Composition In embodiments, the kit contains: A cleanser A composition containing a polymetal complex A protective composition Sunscreen with ZnO and vitamins A and D Optionally one or more of: Benzoyl Peroxide Composition Retinoid Composition Antibiotic Composition composition containing metronidazole In other embodiments, the kit contains: A cleanser A composition containing a polymetal complex A composition containing metronidazole An anti-redness composition A protective composition In yet other embodiments, the kit contains: Antimicrobial containing cleanser Product containing anti-parasitic compounds Moisturizer with Cu/Zn malonate Sunscreen with ZnO and vitamins A and D Optionally one or more of: Benzoyl Peroxide Composition Retinoid Composition Antibiotic Composition An illustrative regimen in accordance with the present disclosure is as follows: AM PM Gentle Cleanser Gentle Cleanser Metronidazole Gel 0.75% Metronidazole Gel 0.75% Anti-Redness Composition Anti-Redness Composition (Hydrating Complexion (Hydrating Complexion Corrector) Corrector) Skin Balancing Sun Protection SPF 30 In embodiments, a regimen in accordance with the present disclosure is as follows: AM PM Gentle Cleanser Gentle Cleanser Metronidazole Gel 0.75% Metronidazole Gel 0.75% Moisturizer with Cu/Zn Moisturizer with Cu/Zn malonate malonate Anti-Redness Composition Anti-Redness Composition (Hydrating Complexion Hydrating Complexion Corrector) Corrector) Skin Balancing Sun Protection SPF 30 Typically, kits are provided with instructions for care. For example, the instructions may direct that the various compositions of the pre-procedure treatment regimen be applied as follows: Rosecea Prod- Prod- Prod- Prod- Prod- type uct 1 uct 2 uct 3 uct 4 uct 5 Type 1 cleanser Moisturizer Sunscreen (mild) with Cu/Zn based on malonate ZnO and Vitamin A&D Type 2 cleanser Moisturizer Sunscreen Anti Retinoic (moderate) with Cu/Zn based on parasitic acid malonate ZnO and product Vitamin 1% BPO A&D lotion Type 3 cleanser Moisturizer Sunscreen Anti Oral (severe) with Cu/Zn based on parasitic minocy- malonate ZnO and product cline or Vitamin 1% BPO tetracycline A&D lotion antibiotic The rosacea treatment regimen involves applying designated products in the smallest possible amount sufficient to cover at least a portion of the site afflicted with rosacea. In embodiments, the designated products may also be applied to the entire face of the patient even if only a small area of the face is afflicted with rosacea. EXAMPLES Example 1 An anti-redness composition suitable for use in the presently described regimen is prepared having the composition shown in Table B. The composition is prepared by combining the Water Phase ingredients in a reaction vessel with heating to 70 to 75° C. and stirring. The Oil Phase ingredients are combined in a separate reaction vessel with heating to 70-75° C. and stirring. The Oil Phase is then added to the Water Phase with continued stirring until a homogeneous dispersion is achieved. The Additional Ingredients are then added with stirring. TABLE B Ingredients Percent INCI Names Functionality Water Phase Distilled Water 54.08 Water Solvent, Moisturizer Phenonip 1.00 Phenoxyethanol, Methylparaben, Ethylparaben, Preservative Butylparaben, Propylparaben, Isobutylparaben Carbowax 300 2.25 PEG - 6 Humectant, solvent Glycerin 0.50 Glycerin Humectant, skin conditioner Di-Propylene Glycol 2.25 Dipropylene Glycol Humectant, solvent Keltrol CG 0.25 Xanthan Gum Suspending agent, thickener Veegum 0.15 Magnesium Aluminum Silicate Suspending agent, thickener Oil Phase Pelemol OP 2.75 Ethylhexyl Palmitate Emollient Pelemol ICB 1.50 Isocetyl Behenate Emollient Cetiol LC 2.75 Coco-Caprylate/Caprate Emollient Permethyl 101A 4.50 Isohexadecane Emollient Gemseal 25 1.00 C13-15 Alkane Emollient Lipomulse 165 2.50 Glyceryl Stearate, PEG 100 Stearate Emulsifier Cetyl Alcohol 0.50 Cetyl Alcohol Thickener, emulsion stabilizer Stearyl Alcohol 1.50 Stearyl Alcohol Thickener, emulsion stabilizer GE Slicone 96-100 1.00 Dimethicone Skin Protectant Vitamin E Acetate 0.05 Tocopheryl Acetate Anti-Oxidant Titanium Dioxide MT - 500B 5.00 Titanium Dioxide Opacyfing and covering agent Coverleaf AR 80 2.00 Talc, Titanium Dioxide, Alumina, Silica Soft focus characteristic Simulgel INS 100 2.00 Hydroxyethyl Acrylate/Sodium Acryloldimethyl Emulsifier, thickener Tauarte Copolymer, Isohexadecane, Polysorbate 60 Additional Ingredients Soft Tex Yellow Iron Oxide C337773 0.03 Iron Oxide Tinting/coloring ingredient Soft Tex Red Iron Oxide C337775 0.03 Iron Oxide Tinting/coloring ingredient Soft Tex Black Iron Oxide C337734 0.02 Iron Oxide Tinting/coloring ingredient Water 3.00 Water Solvent, moisturizer Example 2 A protective composition suitable for use in the presently described regimen is prepared having the composition shown in Table C. The composition is prepared by combining the Water Phase ingredients in a reaction vessel with heating to 70-75° C. and stirring. The oil phase ingredients are combined in a separate reaction vessel with heating to 70-75° C. and stirring. The oil phase is then added to the water phase with continued stirring until a homogenous dispersion is achieved. The additional ingredients are then added with stirring. TABLE B Ingredients Percent INCI Names Functionality Water Phase Distilled Water 54.08 Water Solvent, Moisturizer Phenonip 1.00 Phenoxyethanol, Methylparaben, Ethylparaben, Preservative Butylparaben, Propylparaben, Isobutylparaben Carbowax 300 2.25 PEG - 6 Humectant, solvent Glycerin 0.50 Glycerin Humectant, skin conditioner Di-Propylene Glycol 2.25 Dipropylene Glycol Humectant, solvent Keltrol CG 0.25 Xanthan Gum Suspending agent, thickener Veegum 0.15 Magnesium Aluminum Silicate Suspending agent thickener Oil Phase Pelemol OP 2.75 Ethylhexyl Palmitate Emollient Pelemol ICB 1.50 Isocetyl Behenate Emollient Cetiol LC 2.75 Coco-Caprylate/Caprate Emollient Permethyl 101A 4.50 Isohexadecane Emollient Gemseal 25 1.00 C13-15 Alkane Emollient Lipomulse 165 2.50 Glyceryl Stearate, PEG 100 Stearate Emulsifier Cetyl Alcohol 0.50 Cetyl Alcohol Thickener, emulsion stabilizer Stearyl Alcohol 1.50 Stearyl Alcohol Thickener, emulsion stabilizer GE Slicone 96-100 1.00 Dimethicone Skin Protectant Vitamin E Acetate 0.05 Tocopheryl Acetate Anti-Oxidant Titanium Dioxide MT - 500B 5.00 Titanium Dioxide Opacyfing and covering agent Coverleaf AR 80 2.00 Talc, Titanium Dioxide, Alumina, Silica Soft focus characteristic Simulgel INS 100 2.00 Hydroxyethyl Acrylate/Sodium Acryloldimethyl Emulsifier, thickener Tauarte Copolymer, Isohexadecane, Polysorbate 60 Additional Ingredients Soft Tex Yellow Iron Oxide C337773 0.03 Iron Oxide Tinting/coloring ingredient Soft Tex Red Iron Oxide C337775 0.03 Iron Oxide Tinting/coloring ingredient Soft Tex Black Iron Oxide C337734 0.02 Iron Oxide Tinting/coloring ingredient Water 3.00 Water Solvent, moisturizer Example 3 Another protective composition suitable for use in the presently described regimen is prepared having the composition shown in Table D. The composition is prepared by combining the Water Phase ingredients in a reaction vessel with heating to 70-75° C. and stirring. The oil phase is then added to the water phase with continued stirring until a homogeneous dispersion is achieved. TABLE D Ingredient Percent INCI Name Functionality Aqueous Phase Water 50.0550 Water Solvent, moisturizer Glycerin 0.5000 Glycerin Humecatnt, skin conditioner Dipropylene Glycol 10.0000 Dipropylene Glycol Humectant, solvent CARBOWAX 300 ® 3.0000 PEG - 6 Humectant, solvent PHENONIP ® 1.0000 Phenoxyethanol, Methylparaben, Preservative Propypylparaben, Ethylparaben, Butylparaben, Isobutylparaben Cetearyl Alcohol, Cocoa Glucoside Oil Phase MONTONOV ® 82 2.0000 PERMETHYL 101A ® 0.3000 Isohexadecane Emollient KOBO TNP50zSI 11.28% Zinc Oxide (47%) 24.0000 C12-15 Alkyl Benzoate, Zinc Oxide, Sunscreen Polyhydroxystearic Acid, Triethoxycaprylsilane Vitamin E Acetate 0.0500 Tocopheryl Acetate Anti-oxidant Z COTE ® 4.5% Zinc oxide 4.5000 Zinc Oxide Sunscreen, Skin Protectant Micro Titanium Dioxide MT 500B 1.8000 Titanium Dioxide Sunscreen Kobo TNP40VTTS 0.32% Titanium Dioxide (32%) 1.0000 C12-15 Alkyl Benzoate, Titanium Dioxide, Sunscreen Alumina, Polyhydroxystearic Acid, Isopropyl Titanium Triisostearate/ Triethoxycaprylysilane Crosspolymer Additional Ingredients Flamenco satin Green 860 M 0.2500 Mica, Titanium Dioxide, Iron Oxides Helps to diminish skin redness Soft tex Yellow Iron Oxide C337773 0.0200 Iron Oxides Tinting masstone Soft tex Red Iron Oxide C337775 0.0150 Iron Oxides Tinting masstone Soft tex Black Iron Oxide C337734 0.0100 Iron Oxides Tinting masstone Sepinov EMT 10 1.5000 Hydroxyethylacrylate/Sodium Emulsifier Acrylolyldimethyl Taurate Example 4 An additional anti-redness composition suitable for use in the presently described regimen is prepared having the composition shown in Table E. The composition is prepared by combining the Water Phase ingredients in a reaction vessel with heating to 70-75° C. and stirring. The Oil Phase is then added to the Water Phase with continued stirring until a homogeneous dispersion is achieved. The Additional Ingredients are then added with stirring. TABLE E Ingredients Percent INCI Names Functionality Water Phase Distilled Water 54.08 Water Solvent, Moisturizer Phenonip 1.00 Phenoxyethanol, Methylparaben, Ethylparaben, Preservative Butylparaben, Propylparaben, Isobutylparaben Carbowax 300 2.25 PEG - 6 Humectant, solvent Glycerin 0.50 Glycerin Humectant, skin conditioner Di-Propylene Glycol 2.25 Dipropylene Glycol Humectant, solvent Keltrol CG 0.25 Xanthan Gum Suspending agent, thickener Veegum 0.15 Magnesium Aluminum Silicate Suspending agent, thickener Oil Phase Pelemol OP 2.75 Ethylhexyl Palmitate Emollient Pelemol ICB 1.50 Isocetyl Behenate Emollient Cetiol LC 2.75 Coco-Caprylate/Caprate Emollient Permethyl 101A 4.50 Isohexadecane Emollient Gemseal 25 1.00 C13-15 Alkane Emollient Lipomulse 165 2.50 Glyceryl Stearate, PEG 100 Stearate Emulsifier Cetyl Alcohol 0.50 Cetyl Alcohol Thickener, emulsion stabilizer Stearyl Alcohol 1.50 Stearyl Alcohol Thickener, emulsion stabilizer GE Slicone 96-100 1.00 Dimethicone Skin Protectant Vitamin E Acetate 0.05 Tocopheryl Acetate Anti-Oxidant Titanium Dioxide MT - 500B 5.00 Titanium Dioxide Opacyfing and covering agent Coverleaf AR 80 2.00 Talc, Titanium Dioxide, Alumina, Silica Soft focus characteristic Simulgel INS 100 2.00 Hydroxyethyl Acrylate/Sodium Acryloldimethyl Emulsifier, thickener Tauarte Copolymer, Isohexadecane, Polysorbate 60 Additional Ingredients Soft Tex Yellow Iron Oxide C337773 0.03 Iron Oxide Tinting/coloring ingredient Soft Tex Red Iron Oxide C337775 0.03 Iron Oxide Tinting/coloring ingredient Soft Tex Black Iron Oxide C337734 0.02 Iron Oxide Tinting/coloring ingredient Water 3.00 Water Solvent, moisturizer Activera 1 - 200A 0.50 Aloe Barbadensis Leaf juice Soothing, calming agent Hydrolyzed Oat Protein 6-055 LC 0.50 Hydrolyzed Oat Protein, water, Glycerin, Soothing, conditioning agent Phenoxyethanol Anti-inflammatory, Anti-irritant, Bisabolol (lipo) 0.20 Bisabolol anti-microbial Allantoin 0.50 Allantoin Skin Protectant Oat Beta Glucan 6 - 070 L 0.25 Avena Sativa (Oat) Beta Glucan, Avena Sativa (Oat) Soothing, comditioning Kernel Extract, Phenoxyethanol, Water Anti-inflammatory, Energized immune Licorice ECO 0.10 Glycerin, wate, Glycyrrhiza Glabra root extract system, Anti-microbial, anti-oxidant. Gorgonian Extract PTG 0.10 Pentylene Glycol, Sea Whip Extract Anti-inflammatory Helps to diminish appearance Flamenco Satin Green 860M 0.25 Mica, Titanium Dioxide, Iron Oxides of red skin Bacocalmine 2.00 Bacopa Monniera Extract, Water, Anti-irritation & anti-inflammatory PEG 8, Hydroxycellulose Increases microcirculation and Phytotonine 2.00 Propylene Glycol, Arnica Montana (Flower) strengthens vein walls Extract, Cupressus Sempervirens (Seed) Extract, Polygontum Multiflorum Extract Against UV stress, mechanical Sepicalm S 2.00 Sodium Cocoyl Amino Acid, Sarcosine, aggressions, Potassium Aspartate, Magnesium Aspartate Against inflammation and soothes skin Lavender Extract H0539 1.00 Lavandula Angustifolia (Lavender) Flower/leaf Antispetic and anti-inflammatory Stem extract 5% NaOH solution Water, Sodium Hydroxide Buffering Agent 5% Malonic Acid Water, Malonic Acid Buffering Agent Example 5 A 25-day, half-face, randomized study was conducted to determine if the use of a regimen in accordance with the present disclosure decreases the red/irritated skin of Rosacea subjects when compared to untreated skin. Approximately 10 subjects participated in the study. To facilitate enrollment, the qualification visit took place no sooner than 3 days prior to the start of the study. Potential subjects presented with red/irritated skin associated with Rosacea as determined by a Board-Certified Dermatologist during the qualification visit. Subjects with a global assessment score of 4 or greater (using a 10-point scale) with an equal value on the right and left side of the face and who meet the inclusion/exclusion criteria were enrolled. Each subject was required to respond to a baseline questionnaire prior to treatment at Day 0 (baseline). Global tolerability assessments were conduct by a trained evaluator pre- and post treatment during visits Day 0-4, 11 and 18. Tolerability assessments were conducted by a Board-Certified Dermatologist pre- and post-application on Day 25 (final visit). Subjects returned to the testing facility on Days 1-4, and the same procedures were followed as for Day 0. A series of photographs were taken of the right and left side of the face using the VISIA-CR® Image System (Canfield Scientific, Fairfield, N.J.). At all visits to the testing facility, the subjects applied products under the direction and supervision of the technician. The subjects made all PM applications at home, and responded to a questionnaire after the PM application. According to a randomization scheme, subjects were assigned the test products so that odd-numbered subjects applied the test products to the right side of the face, and the left side remained untreated. Even-numbered subjects applied the test products to the left side of the face while the right side of the face remained untreated. Subjects were given daily use instructions and a daily diary to record time of usage and any other safety related comments. Subjects washed their faces only with the provided cleanser as instructed. Additionally, subjects came to the testing clinic without applying any cosmetic products to the face including moisturizers or facial powder. Ten (10) subjects were enrolled in the study based on the following criteria: Inclusion Criteria 1. Male/Female 20-68 years of age. Fitzpatrick Skin Type I-III. 2. Moderate to severe (grades 4-9 on 10-point scale) redness/irritation associated with Rosacea uniformly distributed across the right and left side of the face (between and across cheeks). Subjects with papules/pustules preferred. 3. Subjects willing and able to sign the Informed Consent Form, to follow the study directions and to remain in the test facility for approximately 60 minutes at all scheduled visits to the clinic. 4. Female subjects willing to have a urine pregnancy test if not surgically sterile or post-menopausal at least 5 years at screening (baseline) and study end or withdrawal from the study. 5. Subjects free of cuts, burns, scratches or any other condition on the face that, in the opinion of the investigator, may interfere with the proper conduct of the study. 6. Subjects willing to leave ½ side of the face untreated for the entire study. 7. Subjects willing to refrain from excessive sun exposure and refrain from using tanning booths during the entire course of the study. Exclusion Criteria 1. If female of childbearing potential: Pregnant or lactating as determined by urine pregnancy test if not surgically sterile or post-menopausal at least 5 years. 2. Allergy to benzoyl peroxide or salicylic acid. 3. Any facial skin disease, which can interfere with study results. 4. Sunburn/tan on the face. 5. Make-up on forehead/cheeks. 6. Use of the following medications within the described period (Note: topical refers to facial area): A) Medicated facial cleansers, including antibacterial soaps 1 week B) Topical AHAs and anti-acne medications (BPO, retinoids, antibiotics) 2 weeks C) Systemic antibiotics and investigational drugs 4 weeks D) Participation in a clinical study with OTC or RX drug on the face 4 weeks 7. Concurrent use of other medicated products on the face. 8. Concurrent participation in another clinical study. 9. History of cancer on the face. 10. Subjects with other abnormal clinical findings or systemic condition or uncontrolled disease, which the Investigator feels, may put the subject at undue risk or may interfere with the study results. 11. Subjects with blood disorders. 12. Subjects taking Anticoagulants. 13. Subjects taking Disulfiram The study formulations are: Gentle cleanser commercially availableform Obagi Medical Products, Long Beach Calif., USA under the tradename NU DERM® Gentle Cleanser The anti-redness composition of Example 2 The protective composition of Example 1 Metronidazole Topical Gel USP 0.75% There were a total of compositions used in the study. Each subject received a cleanser, protective composition and anti-redness treatment to be applied to the right or left side of the face according to the randomization scheme. The opposite side of the face remained untreated. Treatment was randomized between the right and left side of the face for odd and even-numbered subjects. The randomization scheme showed which treatment was assigned to each side of the face. Prior to any application at the testing facility on Day 0 (baseline), the following procedures will be followed in the AM: Baseline Photographs (VISIA CR® IMAGING SYSTEM) PHOTO #1 Baseline Subject Questionnaire Baseline Global Assessment By A Trained Evaluator Products were then applied according to the following procedure: A.M. Treatment 1. A pea-sized amount of NU DERM Gentle Cleanser is dispensed, rubbed on wet hands and applied to full face and cleansed thoroughly, and rinsed with tepid water with technician supervision. 2. Post-wash photographs (VISIA CR® Imaging System) were taken immediately following wash. 3. Two pumps (approximately 1 ml) of the anti-redness composition of Example 4 were applied to one side of the face as instructed. 4. Two pumps (approximately 1 ml) of the protective composition of Example 3 were applied to one side of the face as instructed. 5. Immediately following application of previous two products, another photo was taken. 6. After waiting 10-30 minutes to determine when erythema subsided, another photo was taken. 7. A trained evaluator made an assessment of tolerability of the treatment. P.M. Treatment at Home Prior to Bedtime 1. A pea-sized amount of NU DERM Gentle Cleanser is dispensed, rubbed on wet hands and applied to full face and cleansed thoroughly, and rinsed with tepid water. 2. 0.5 mL of Metronidazole (0.5 mL syringe delivery) was applied to one side of the face as instructed. 3. Two pumps (approximately 1 ml) of the anti-redness composition of Example 4 were applied to one side of the face as instructed. Metronidazole was supplied to the subjects in pre-filled syringes at each scheduled visit, and each syringe delivered 0.5 mL of product (Metronidazole Topical Gel). After applications, the subjects were given their assigned product with use instructions and a daily diary to record their daily usage and any safety related comments they may have. Subjects were also be given a questionnaire to be completed following their PM application just prior to bedtime. Subjects returned all completed questionnaires at the next scheduled visit. Photographs will be taken at the following time points at the Day 0 (baseline visit). Baseline (photo #1) Immediately post-wash (photo #2) Post-treatment of both product applications (photo #3) 10-30 minutes post-treatment (photo #4) Photographs were taken immediately post-wash and post-application of products at all other visits. The subjects avoided any other medicated formulations on the face (including cleansers), and used only the products supplied to them during the study. Subjects were instructed not introduce any new facial cosmetics, soaps, shampoos, creams, lotions, etc. while on this study. Subjects were permitted to use their daily cosmetics (lipstick, eye makeup, foundation) during the study. However, subjects presented themselves to the clinic with nothing applied to their face at scheduled visits. Irritation Evaluation A trained evaluator assessed (global assessment) the right and left side of the face of each subject at all visits. The Board-Certified Dermatologist conducted the global tolerability assessments pre- and post-application of the test regimen on the final day of the study. Tolerability assessments were conducted according to the scales below. Scale for Scoring Redness/Irritation 0=No irritation present 1-3=Mild irritation present 4-6=Moderate irritation present 7-9=Severe irritation present Scale for Sensory Evaluation (stinging [S]), burning [B]) (itching [I]) 0 = None - no stinging/burning 0 = No itching 1-3 = Mild - light warm, tingling 1-3 = Mild - occasional, slight sensation, not really bothersome itching 4-6 = Moderate - definite warmth, 4-6 = Moderate - constant or tingling sensation, that is somewhat intermittent itching that is bothersome somewhat bothersome 7-9 = Severe - hot tingling sensation 7-9 = Severe - bothersome itching which is disturbing normal activity which is disturbing normal activity Photographic images taken using the VISIA CR® (Canfield Scientific) will be analyzed using Image PRO® software to determine changes (if any) in the a* value (white to red). An increase in the a* value indicates an increase in erythema. All data points collected after Days 0-4, 11, 18, and 25 were compared to the baseline for each subject for differences between the time points and control. The average results for all subjects of the post-wash comparisons are presented in Table F. The data in Table F shows that at day zero, the negative 0.71 value indicates that the untreated side of face in study was redder initially than the side of the face that was not part of the study. This is simply a result of the randomness of the study. Between day 0 and day 4, the treated side of the face became the less red side as a result of the treatment. TABLE F Day a* values 1 −0.71 4 .14 11 .36 18 .25 25 .61 The summation of the difference was analyzed using the Wilcoxon Signed-Rank Test. A response was considered statistically significantly different from baseline when the p-value is <0.05. The tested regimen resulted in a marked reduction in redness. As shown in Table F, after washing, the redness of the treated side was reduced significantly compared to the control side of the face. This reduction was greater than the redness reduction expected from Metrogel alone, especially since the clinical application for Metrogel is resolution of lesions, not the reduction of redness. While several embodiments of the disclosure have been described, it is not intended that the disclosure be limited thereto, as it is intended that the disclosure be as broad in scope as the art will allow and that the specification be read likewise. Therefore, the above description should not be construed as limiting, but merely as exemplifications of embodiments.\"],\n",
              " 'cpc_label': ['', '', 'A61K3334'],\n",
              " 'ipc_label': ['A61K3512', 'A61K3645', 'A61K3334'],\n",
              " 'filing_date': ['20151026', '20150629', '20160122'],\n",
              " 'patent_issue_date': ['', '20171128', ''],\n",
              " 'date_published': ['20101118', '20110707', '20160630'],\n",
              " 'examiner_id': ['60063.0', '88237.0', '75390.0']}"
            ]
          },
          "metadata": {},
          "execution_count": 10
        }
      ]
    },
    {
      "cell_type": "code",
      "source": [
        "train_set = train_set.filter(lambda data: data[\"decision\"] <= 1)\n",
        "val_set = val_set.filter(lambda data: data[\"decision\"] <= 1)\n",
        "\n",
        "train_set = train_set.filter(lambda data: 'A61K' in data[\"ipc_label\"])\n",
        "val_set = val_set.filter(lambda data: 'A61K' in data[\"ipc_label\"])\n",
        "\n",
        "X_train = train_set['abstract']\n",
        "Y_train = train_set['decision']\n",
        "\n",
        "X_test = val_set['abstract']\n",
        "Y_test = val_set['decision']"
      ],
      "metadata": {
        "id": "kE30L8zB7nog"
      },
      "execution_count": null,
      "outputs": []
    },
    {
      "cell_type": "code",
      "source": [
        "#Look at total count of each decision in train_set['decision']\n",
        "zeros_counts = Y_train.count(0)\n",
        "ones_counts = Y_train.count(1)\n",
        "print(f'(Rejected: {zeros_counts})')\n",
        "print(f'(Accepted: {ones_counts})')"
      ],
      "metadata": {
        "id": "Tht8xdZs62rj",
        "colab": {
          "base_uri": "https://localhost:8080/"
        },
        "outputId": "ac345dec-4adc-4240-c9cd-67e6d4c6b579"
      },
      "execution_count": null,
      "outputs": [
        {
          "output_type": "stream",
          "name": "stdout",
          "text": [
            "(Rejected: 5812)\n",
            "(Accepted: 8404)\n"
          ]
        }
      ]
    },
    {
      "cell_type": "code",
      "source": [
        "lengths = []\n",
        "for abstract in X_train:\n",
        "  lengths.append(len(abstract))\n",
        "\n",
        "print(max(lengths))"
      ],
      "metadata": {
        "id": "vMHYn29pI8fB",
        "colab": {
          "base_uri": "https://localhost:8080/"
        },
        "outputId": "42d28590-d11b-4d2b-8123-6360c230d76b"
      },
      "execution_count": null,
      "outputs": [
        {
          "output_type": "stream",
          "name": "stdout",
          "text": [
            "3103\n"
          ]
        }
      ]
    },
    {
      "cell_type": "markdown",
      "source": [
        "#BERT"
      ],
      "metadata": {
        "id": "pwrsCPcjGk7X"
      }
    },
    {
      "cell_type": "code",
      "source": [
        "checkpoint = 'bert-base-cased'\n",
        "bert_tokenizer = BertTokenizer.from_pretrained(checkpoint)\n",
        "bert_model = TFBertModel.from_pretrained(checkpoint)"
      ],
      "metadata": {
        "id": "nbF3bk-a7xVj",
        "colab": {
          "base_uri": "https://localhost:8080/",
          "height": 177,
          "referenced_widgets": [
            "bf42ee71fa5d4c778a195962f29a56cf",
            "11343686af1b4b64a81dcf14c82247bd",
            "ffb7084bf8ec4c87b9a2750adfa487ea",
            "c0533bcf9a3045289df535b9ccc4f174",
            "c1160b4f2f364227aea9e0f4117e440e",
            "eaabb96b15ae4d38af9e972755f46ca3",
            "61bb4017f8b943c4af990d15c94d57a1",
            "51f17b7bab2e462ba2883a36c7c6d1e4",
            "aca7c84fb8d442fca98a2788f4dc0680",
            "4f44b32350b6444086b4ef4a00f20b19",
            "cd7ae24da4bf4524b11807dc629aa0d4",
            "f2c3c675f8ab4fabb9674392fa8cdfd9",
            "f6f5f5617a2b43c78b692664a3858f86",
            "bce73d0751d0475ca4bdb3d6e3e4645a",
            "f51ea334cdc6459eb131f2729a506bc4",
            "038db93a764a4d9d92ea5a5c37ef7042",
            "a8ff9f9174d4484483d194354155e645",
            "84be68cac88f48ad924f4c0f87ce2495",
            "1f217feb90524b9d8cb3a85bf4c60651",
            "ebcb0734e3cc455c97eaf7c68bb02a00",
            "37db3a1f18324b27975af82c641bce65",
            "d3bfed7317d2452caac22e7abc3e213f",
            "5f7a9a6b382c4feba665beb6516e5850",
            "34b1545b1533405f9b55c2a686d20546",
            "9082c0ec64a54ffda3786bd57a0c1eff",
            "590734bc0f1a426cb3a261d28c5c7e77",
            "40fa67f2145a4c14b76adf5e083efe09",
            "f22c1a4d4cb74eac9aa9208eaea14104",
            "5f9e75431d02443aa486dd262d1232ae",
            "75d20f70500b4afab57b274f736b34f7",
            "c638b6018d90418fa760ec33c5763187",
            "0c0db3c2f3884e58ae1b8f1f6886788c",
            "b31329a3becb41c582dc8ffa816647d5",
            "0567b6c762df40a9ab88392c8d545a31",
            "43b63abf21984707b3c6e348dcaf8992",
            "624d2c0e1a15420a8d5cbd58feb1aeaa",
            "8e146a78178c435b8e8c8b2e6d1a297b",
            "fd4b415af5c5468ab2b9dd1b56d3a1f8",
            "b09bc36aa87f457b9beadbf8055e157b",
            "b8ef482eb1204bd09e38be381bcd0e69",
            "a58138d4c43a451d9ec8a535aa54008f",
            "9b8a62a177ee4f82b880768b11ca84f3",
            "ba954ca492ce49a28f701eef95401d4e",
            "44a63a8e9ff945fc91720aa260bb361b",
            "f94da65585c44a129bd737f27ec30762",
            "b34009abdfe34283a06652912be1de49",
            "0f6335430b304e249417d44801b25eb8",
            "4e10271bbe7a41b7b2fb552b8a8cdfbd",
            "3a2e9abde2e148efb8bdc0062390646a",
            "f7ade329691649ae8ef3e7e3201f1da4",
            "a5290b27ac154a85b480c1c8270a7ec2",
            "74272f29fbcf46e58b405d026f6c68b7",
            "efb9d81a6f474411948c5b3fcfa84661",
            "32ea7173cdec447fa9e2b484066739ae",
            "e04608a4372b43d69d3843573973bc0d"
          ]
        },
        "outputId": "54ca1de0-bd12-4016-b3bf-cb6ef155510c"
      },
      "execution_count": null,
      "outputs": [
        {
          "output_type": "display_data",
          "data": {
            "text/plain": [
              "tokenizer_config.json:   0%|          | 0.00/29.0 [00:00<?, ?B/s]"
            ],
            "application/vnd.jupyter.widget-view+json": {
              "version_major": 2,
              "version_minor": 0,
              "model_id": "bf42ee71fa5d4c778a195962f29a56cf"
            }
          },
          "metadata": {}
        },
        {
          "output_type": "display_data",
          "data": {
            "text/plain": [
              "vocab.txt:   0%|          | 0.00/213k [00:00<?, ?B/s]"
            ],
            "application/vnd.jupyter.widget-view+json": {
              "version_major": 2,
              "version_minor": 0,
              "model_id": "f2c3c675f8ab4fabb9674392fa8cdfd9"
            }
          },
          "metadata": {}
        },
        {
          "output_type": "display_data",
          "data": {
            "text/plain": [
              "tokenizer.json:   0%|          | 0.00/436k [00:00<?, ?B/s]"
            ],
            "application/vnd.jupyter.widget-view+json": {
              "version_major": 2,
              "version_minor": 0,
              "model_id": "5f7a9a6b382c4feba665beb6516e5850"
            }
          },
          "metadata": {}
        },
        {
          "output_type": "display_data",
          "data": {
            "text/plain": [
              "config.json:   0%|          | 0.00/570 [00:00<?, ?B/s]"
            ],
            "application/vnd.jupyter.widget-view+json": {
              "version_major": 2,
              "version_minor": 0,
              "model_id": "0567b6c762df40a9ab88392c8d545a31"
            }
          },
          "metadata": {}
        },
        {
          "output_type": "display_data",
          "data": {
            "text/plain": [
              "model.safetensors:   0%|          | 0.00/436M [00:00<?, ?B/s]"
            ],
            "application/vnd.jupyter.widget-view+json": {
              "version_major": 2,
              "version_minor": 0,
              "model_id": "f94da65585c44a129bd737f27ec30762"
            }
          },
          "metadata": {}
        }
      ]
    },
    {
      "cell_type": "code",
      "source": [
        "# BERT Tokenization of training and test data\n",
        "\n",
        "# num_train_examples = 7000      # set number of train examples - 1500 for realtime demo\n",
        "# num_test_examples = 5000        # set number of test examples - 500 for realtime demo\n",
        "\n",
        "MAX_SEQUENCE_LENGTH = 512                # set max_length of the input sequence\n",
        "\n",
        "x_train = bert_tokenizer(X_train,\n",
        "              max_length=MAX_SEQUENCE_LENGTH,\n",
        "              truncation=True,\n",
        "              padding='max_length',\n",
        "              return_tensors='tf')\n",
        "\n",
        "x_test = bert_tokenizer(X_test,\n",
        "              max_length=MAX_SEQUENCE_LENGTH,\n",
        "              truncation=True,\n",
        "              padding='max_length',\n",
        "              return_tensors='tf')\n"
      ],
      "metadata": {
        "id": "Ig5KGKZFGvQU"
      },
      "execution_count": null,
      "outputs": []
    },
    {
      "cell_type": "code",
      "source": [
        "x_train"
      ],
      "metadata": {
        "colab": {
          "base_uri": "https://localhost:8080/"
        },
        "id": "7wUbOTPlt8Sp",
        "outputId": "74c57d50-94ac-47d0-b910-f8f769c00c54"
      },
      "execution_count": null,
      "outputs": [
        {
          "output_type": "execute_result",
          "data": {
            "text/plain": [
              "{'input_ids': <tf.Tensor: shape=(14216, 512), dtype=int32, numpy=\n",
              "array([[  101,  1109, 11918, ...,     0,     0,     0],\n",
              "       [  101,   138,   193, ...,     0,     0,     0],\n",
              "       [  101, 23287, 10453, ...,     0,     0,     0],\n",
              "       ...,\n",
              "       [  101,  1130, 19456, ...,     0,     0,     0],\n",
              "       [  101,  1188, 23979, ...,     0,     0,     0],\n",
              "       [  101,  1130, 14850, ...,     0,     0,     0]], dtype=int32)>, 'token_type_ids': <tf.Tensor: shape=(14216, 512), dtype=int32, numpy=\n",
              "array([[0, 0, 0, ..., 0, 0, 0],\n",
              "       [0, 0, 0, ..., 0, 0, 0],\n",
              "       [0, 0, 0, ..., 0, 0, 0],\n",
              "       ...,\n",
              "       [0, 0, 0, ..., 0, 0, 0],\n",
              "       [0, 0, 0, ..., 0, 0, 0],\n",
              "       [0, 0, 0, ..., 0, 0, 0]], dtype=int32)>, 'attention_mask': <tf.Tensor: shape=(14216, 512), dtype=int32, numpy=\n",
              "array([[1, 1, 1, ..., 0, 0, 0],\n",
              "       [1, 1, 1, ..., 0, 0, 0],\n",
              "       [1, 1, 1, ..., 0, 0, 0],\n",
              "       ...,\n",
              "       [1, 1, 1, ..., 0, 0, 0],\n",
              "       [1, 1, 1, ..., 0, 0, 0],\n",
              "       [1, 1, 1, ..., 0, 0, 0]], dtype=int32)>}"
            ]
          },
          "metadata": {},
          "execution_count": 17
        }
      ]
    },
    {
      "cell_type": "code",
      "source": [
        "x_train.token_type_ids"
      ],
      "metadata": {
        "colab": {
          "base_uri": "https://localhost:8080/"
        },
        "id": "AbfOeIuAuUyr",
        "outputId": "1c3acbf4-c920-4dce-d8c1-fde33c0c49d1"
      },
      "execution_count": null,
      "outputs": [
        {
          "output_type": "execute_result",
          "data": {
            "text/plain": [
              "<tf.Tensor: shape=(14216, 512), dtype=int32, numpy=\n",
              "array([[0, 0, 0, ..., 0, 0, 0],\n",
              "       [0, 0, 0, ..., 0, 0, 0],\n",
              "       [0, 0, 0, ..., 0, 0, 0],\n",
              "       ...,\n",
              "       [0, 0, 0, ..., 0, 0, 0],\n",
              "       [0, 0, 0, ..., 0, 0, 0],\n",
              "       [0, 0, 0, ..., 0, 0, 0]], dtype=int32)>"
            ]
          },
          "metadata": {},
          "execution_count": 18
        }
      ]
    },
    {
      "cell_type": "code",
      "source": [
        "x_train.attention_mask"
      ],
      "metadata": {
        "colab": {
          "base_uri": "https://localhost:8080/"
        },
        "id": "poC7Z3EuubM7",
        "outputId": "e6d6b7f2-7438-49a6-b800-386e5ab421f8"
      },
      "execution_count": null,
      "outputs": [
        {
          "output_type": "execute_result",
          "data": {
            "text/plain": [
              "<tf.Tensor: shape=(14216, 512), dtype=int32, numpy=\n",
              "array([[1, 1, 1, ..., 0, 0, 0],\n",
              "       [1, 1, 1, ..., 0, 0, 0],\n",
              "       [1, 1, 1, ..., 0, 0, 0],\n",
              "       ...,\n",
              "       [1, 1, 1, ..., 0, 0, 0],\n",
              "       [1, 1, 1, ..., 0, 0, 0],\n",
              "       [1, 1, 1, ..., 0, 0, 0]], dtype=int32)>"
            ]
          },
          "metadata": {},
          "execution_count": 19
        }
      ]
    },
    {
      "cell_type": "code",
      "source": [
        "def create_bert_classification_model(bert_model,\n",
        "                                     max_sequence_length=MAX_SEQUENCE_LENGTH,\n",
        "                                     hidden_size = 256,\n",
        "                                     dropout=0.3,\n",
        "                                     learning_rate=0.00001):\n",
        "    \"\"\"\n",
        "    Build a simple classification model with BERT. Use the Pooler Output for classification purposes\n",
        "    \"\"\"\n",
        "    bert_model.trainable = True\n",
        "\n",
        "    input_ids = tf.keras.layers.Input(shape=(MAX_SEQUENCE_LENGTH,), dtype=tf.int64, name='input_ids_layer')\n",
        "    token_type_ids = tf.keras.layers.Input(shape=(MAX_SEQUENCE_LENGTH,), dtype=tf.int64, name='token_type_ids_layer')\n",
        "    attention_mask = tf.keras.layers.Input(shape=(MAX_SEQUENCE_LENGTH,), dtype=tf.int64, name='attention_mask_layer')\n",
        "\n",
        "    bert_inputs = {'input_ids': input_ids,\n",
        "                   'token_type_ids': token_type_ids,\n",
        "                   'attention_mask': attention_mask}\n",
        "\n",
        "    # bert_out = bert_model(bert_inputs)\n",
        "    bert_out = bert_model(input_ids=bert_inputs['input_ids'],\n",
        "                      token_type_ids=bert_inputs['token_type_ids'],\n",
        "                      attention_mask=bert_inputs['attention_mask'])\n",
        "\n",
        "    # pooler_token = bert_out[1]\n",
        "    cls_token = bert_out[0][:, 0, :]\n",
        "\n",
        "    dense1 = tf.keras.layers.Dense(hidden_size, activation='relu', name='dense1')(cls_token)\n",
        "\n",
        "    dropout1 = tf.keras.layers.Dropout(dropout)(dense1)\n",
        "\n",
        "    dense2 = tf.keras.layers.Dense(hidden_size, activation='relu', name='dense2')(dropout1)\n",
        "\n",
        "    dropout2 = tf.keras.layers.Dropout(dropout)(dense2)\n",
        "\n",
        "    classification = tf.keras.layers.Dense(1, activation='sigmoid',name='classification_layer')(dropout2)\n",
        "\n",
        "    classification_model = tf.keras.Model(inputs=[input_ids, token_type_ids, attention_mask], outputs=[classification])\n",
        "\n",
        "    classification_model.compile(optimizer=tf.keras.optimizers.Adam(learning_rate=learning_rate),\n",
        "                                 loss=tf.keras.losses.BinaryCrossentropy(from_logits=False),\n",
        "                                 metrics='accuracy')\n",
        "\n",
        "    return classification_model"
      ],
      "metadata": {
        "id": "ph_1gnHBGvSy"
      },
      "execution_count": null,
      "outputs": []
    },
    {
      "cell_type": "code",
      "source": [
        "#let's get a fresh instance of the bert_model -- good practice\n",
        "bert_model = TFBertModel.from_pretrained(checkpoint)\n",
        "bert_classification_model = create_bert_classification_model(bert_model)"
      ],
      "metadata": {
        "id": "RJMdq6HfGvVG"
      },
      "execution_count": null,
      "outputs": []
    },
    {
      "cell_type": "code",
      "source": [
        "bert_classification_model.summary()"
      ],
      "metadata": {
        "id": "u4SyoyMEGvXh",
        "colab": {
          "base_uri": "https://localhost:8080/"
        },
        "outputId": "e4a3cd5b-dd44-4773-ed32-150637921438"
      },
      "execution_count": null,
      "outputs": [
        {
          "output_type": "stream",
          "name": "stdout",
          "text": [
            "Model: \"model\"\n",
            "__________________________________________________________________________________________________\n",
            " Layer (type)                Output Shape                 Param #   Connected to                  \n",
            "==================================================================================================\n",
            " input_ids_layer (InputLaye  [(None, 512)]                0         []                            \n",
            " r)                                                                                               \n",
            "                                                                                                  \n",
            " attention_mask_layer (Inpu  [(None, 512)]                0         []                            \n",
            " tLayer)                                                                                          \n",
            "                                                                                                  \n",
            " token_type_ids_layer (Inpu  [(None, 512)]                0         []                            \n",
            " tLayer)                                                                                          \n",
            "                                                                                                  \n",
            " tf_bert_model_1 (TFBertMod  TFBaseModelOutputWithPooli   1083102   ['input_ids_layer[0][0]',     \n",
            " el)                         ngAndCrossAttentions(last_   72         'attention_mask_layer[0][0]',\n",
            "                             hidden_state=(None, 512, 7              'token_type_ids_layer[0][0]']\n",
            "                             68),                                                                 \n",
            "                              pooler_output=(None, 768)                                           \n",
            "                             , past_key_values=None, hi                                           \n",
            "                             dden_states=None, attentio                                           \n",
            "                             ns=None, cross_attentions=                                           \n",
            "                             None)                                                                \n",
            "                                                                                                  \n",
            " tf.__operators__.getitem (  (None, 768)                  0         ['tf_bert_model_1[0][0]']     \n",
            " SlicingOpLambda)                                                                                 \n",
            "                                                                                                  \n",
            " dense1 (Dense)              (None, 256)                  196864    ['tf.__operators__.getitem[0][\n",
            "                                                                    0]']                          \n",
            "                                                                                                  \n",
            " dropout_74 (Dropout)        (None, 256)                  0         ['dense1[0][0]']              \n",
            "                                                                                                  \n",
            " dense2 (Dense)              (None, 256)                  65792     ['dropout_74[0][0]']          \n",
            "                                                                                                  \n",
            " dropout_75 (Dropout)        (None, 256)                  0         ['dense2[0][0]']              \n",
            "                                                                                                  \n",
            " classification_layer (Dens  (None, 1)                    257       ['dropout_75[0][0]']          \n",
            " e)                                                                                               \n",
            "                                                                                                  \n",
            "==================================================================================================\n",
            "Total params: 108573185 (414.17 MB)\n",
            "Trainable params: 108573185 (414.17 MB)\n",
            "Non-trainable params: 0 (0.00 Byte)\n",
            "__________________________________________________________________________________________________\n"
          ]
        }
      ]
    },
    {
      "cell_type": "code",
      "source": [
        "# bert_classification_model_history = bert_classification_model.fit(\n",
        "#     [x_train.input_ids, x_train.token_type_ids, x_train.attention_mask],\n",
        "#     Y_train,\n",
        "#     validation_data=([x_test.input_ids, x_test.token_type_ids, x_test.attention_mask], Y_test),\n",
        "#     batch_size=10,\n",
        "#     epochs=3\n",
        "# )\n",
        "\n",
        "# Convert EagerTensor to NumPy arrays\n",
        "x_train_arrays = {\n",
        "    'input_ids_layer': x_train['input_ids'].numpy(),\n",
        "    'token_type_ids_layer': x_train['token_type_ids'].numpy(),\n",
        "    'attention_mask_layer': x_train['attention_mask'].numpy()\n",
        "}\n",
        "\n",
        "x_test_arrays = {\n",
        "    'input_ids_layer': x_test['input_ids'].numpy(),\n",
        "    'token_type_ids_layer': x_test['token_type_ids'].numpy(),\n",
        "    'attention_mask_layer': x_test['attention_mask'].numpy()\n",
        "}\n",
        "\n",
        "# Convert data to tf.data.Dataset\n",
        "train_dataset = tf.data.Dataset.from_tensor_slices((x_train_arrays, Y_train))\n",
        "test_dataset = tf.data.Dataset.from_tensor_slices((x_test_arrays, Y_test))\n",
        "\n",
        "# Shuffle and batch the datasets\n",
        "train_dataset = train_dataset.shuffle(buffer_size=len(Y_train)).batch(4)\n",
        "test_dataset = test_dataset.batch(4)\n",
        "\n",
        "# Train the model\n",
        "bert_classification_model_history = bert_classification_model.fit(\n",
        "    train_dataset,\n",
        "    validation_data=test_dataset,\n",
        "    epochs=5,\n",
        "    verbose=1\n",
        ")"
      ],
      "metadata": {
        "id": "A_D2gwsaGvZl",
        "colab": {
          "base_uri": "https://localhost:8080/"
        },
        "outputId": "23f77028-ff61-4ef8-851d-f71c0cef5bc7"
      },
      "execution_count": null,
      "outputs": [
        {
          "output_type": "stream",
          "name": "stdout",
          "text": [
            "Epoch 1/5\n"
          ]
        },
        {
          "output_type": "stream",
          "name": "stderr",
          "text": [
            "WARNING:tensorflow:Gradients do not exist for variables ['tf_bert_model_1/bert/pooler/dense/kernel:0', 'tf_bert_model_1/bert/pooler/dense/bias:0'] when minimizing the loss. If you're using `model.compile()`, did you forget to provide a `loss` argument?\n",
            "WARNING:tensorflow:Gradients do not exist for variables ['tf_bert_model_1/bert/pooler/dense/kernel:0', 'tf_bert_model_1/bert/pooler/dense/bias:0'] when minimizing the loss. If you're using `model.compile()`, did you forget to provide a `loss` argument?\n",
            "WARNING:tensorflow:Gradients do not exist for variables ['tf_bert_model_1/bert/pooler/dense/kernel:0', 'tf_bert_model_1/bert/pooler/dense/bias:0'] when minimizing the loss. If you're using `model.compile()`, did you forget to provide a `loss` argument?\n",
            "WARNING:tensorflow:Gradients do not exist for variables ['tf_bert_model_1/bert/pooler/dense/kernel:0', 'tf_bert_model_1/bert/pooler/dense/bias:0'] when minimizing the loss. If you're using `model.compile()`, did you forget to provide a `loss` argument?\n"
          ]
        },
        {
          "output_type": "stream",
          "name": "stdout",
          "text": [
            "3554/3554 [==============================] - 1807s 495ms/step - loss: 0.6820 - accuracy: 0.5802 - val_loss: 0.6242 - val_accuracy: 0.6832\n",
            "Epoch 2/5\n",
            "3554/3554 [==============================] - 1755s 494ms/step - loss: 0.6617 - accuracy: 0.6033 - val_loss: 0.6198 - val_accuracy: 0.6714\n",
            "Epoch 3/5\n",
            "3554/3554 [==============================] - 1754s 494ms/step - loss: 0.6040 - accuracy: 0.6690 - val_loss: 0.6078 - val_accuracy: 0.6906\n",
            "Epoch 4/5\n",
            "3554/3554 [==============================] - 1779s 501ms/step - loss: 0.4859 - accuracy: 0.7696 - val_loss: 0.6280 - val_accuracy: 0.7113\n",
            "Epoch 5/5\n",
            "3554/3554 [==============================] - 1782s 501ms/step - loss: 0.3445 - accuracy: 0.8547 - val_loss: 0.7783 - val_accuracy: 0.6543\n"
          ]
        }
      ]
    },
    {
      "cell_type": "code",
      "source": [],
      "metadata": {
        "id": "lm-yr0hNxmNX"
      },
      "execution_count": null,
      "outputs": []
    }
  ]
}
